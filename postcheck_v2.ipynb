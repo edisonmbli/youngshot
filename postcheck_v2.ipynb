{
 "metadata": {
  "language_info": {
   "codemirror_mode": {
    "name": "ipython",
    "version": 3
   },
   "file_extension": ".py",
   "mimetype": "text/x-python",
   "name": "python",
   "nbconvert_exporter": "python",
   "pygments_lexer": "ipython3",
   "version": "3.7.1-final"
  },
  "orig_nbformat": 2,
  "kernelspec": {
   "name": "python37164bittangovirtualenvcad0548a9cf7475a9f76150ff0d82d5e",
   "display_name": "Python 3.7.1 64-bit ('tango': virtualenv)",
   "language": "python"
  }
 },
 "nbformat": 4,
 "nbformat_minor": 2,
 "cells": [
  {
   "cell_type": "code",
   "execution_count": 21,
   "metadata": {},
   "outputs": [
    {
     "output_type": "stream",
     "name": "stdout",
     "text": [
      "/Users/edisonlee/Documents/weishi/young/analysis\n"
     ]
    }
   ],
   "source": [
    "cd /Users/edisonlee/Documents/weishi/young/analysis"
   ]
  },
  {
   "cell_type": "code",
   "execution_count": 22,
   "metadata": {},
   "outputs": [],
   "source": [
    "import math\n",
    "import numpy as np\n",
    "import pandas as pd\n",
    "import cufflinks as cf\n",
    "import plotly\n",
    "import plotly.express as px\n",
    "from plotly.subplots import make_subplots\n",
    "%matplotlib inline"
   ]
  },
  {
   "cell_type": "code",
   "execution_count": 23,
   "metadata": {},
   "outputs": [
    {
     "output_type": "display_data",
     "data": {
      "text/html": "        <script type=\"text/javascript\">\n        window.PlotlyConfig = {MathJaxConfig: 'local'};\n        if (window.MathJax) {MathJax.Hub.Config({SVG: {font: \"STIX-Web\"}});}\n        if (typeof require !== 'undefined') {\n        require.undef(\"plotly\");\n        requirejs.config({\n            paths: {\n                'plotly': ['https://cdn.plot.ly/plotly-latest.min']\n            }\n        });\n        require(['plotly'], function(Plotly) {\n            window._Plotly = Plotly;\n        });\n        }\n        </script>\n        "
     },
     "metadata": {}
    }
   ],
   "source": [
    "pd.set_option('max_columns', 50)\n",
    "pd.set_option('max_rows', 500)\n",
    "pd.set_option('display.float_format',lambda x : '%.2f' % x)\n",
    "cf.go_offline()"
   ]
  },
  {
   "cell_type": "code",
   "execution_count": 24,
   "metadata": {},
   "outputs": [
    {
     "output_type": "stream",
     "name": "stdout",
     "text": [
      "/Users/edisonlee/Documents/weishi/young/analysis/data\n"
     ]
    }
   ],
   "source": [
    "cd data/"
   ]
  },
  {
   "cell_type": "code",
   "execution_count": 26,
   "metadata": {},
   "outputs": [
    {
     "output_type": "execute_result",
     "data": {
      "text/plain": [
       "                   视频id  性别 城市等级     历史发布频次  大盘播放VV  年轻人播放VV  年轻人播放VV占比  \\\n",
       "0     7my88ooOF1KO92piP   女   五线   1-5次发布用户      74       24       0.32   \n",
       "1     7my88ooOF1KO92piP   男   四线   >10次发布用户      23        2       0.09   \n",
       "2     7my88ooOF1KO92piP   男   其他   >10次发布用户       1        1       1.00   \n",
       "3     7my88ooOF1KO92piP   男   二线   1-5次发布用户     165       89       0.54   \n",
       "4     7my88ooOF1KO92piP   男   四线  6-10次发布用户      12        1       0.08   \n",
       "...                 ...  ..  ...        ...     ...      ...        ...   \n",
       "6050  6R4836WBo1KNY0Z4r   女   五线  6-10次发布用户      10        2       0.20   \n",
       "6051  6R4836WBo1KNY0Z4r   女   三线     0次发布用户    8413     5029       0.60   \n",
       "6052  6R4836WBo1KNY0Z4r  未知  新一线     0次发布用户      42       27       0.64   \n",
       "6053  6R4836WBo1KNY0Z4r   女   一线   1-5次发布用户      63       24       0.38   \n",
       "6054  6R4836WBo1KNY0Z4r   男  新一线   >10次发布用户      16        5       0.31   \n",
       "\n",
       "      大盘完播率  年轻人完播率  大盘互动率  年轻人互动率  大盘单vv时长  年轻人单vv时长  大盘播放完成度  年轻人播放完成度  \\\n",
       "0      0.08    0.08   0.00    0.00     6.29      4.52     0.33      0.40   \n",
       "1      0.09    0.00   0.00    0.00     2.82      0.99     0.27      0.10   \n",
       "2      0.00    0.00   0.00    0.00     0.89      0.89     0.09      0.09   \n",
       "3      0.06    0.04   0.02    0.02     3.49      3.40     0.34      0.33   \n",
       "4      0.08    0.00   0.00    0.00     4.53      1.19     0.35      0.12   \n",
       "...     ...     ...    ...     ...      ...       ...      ...       ...   \n",
       "6050   0.20    0.50   0.00    0.00     5.06      6.97     0.42      0.60   \n",
       "6051   0.13    0.12   0.00    0.00     7.28      6.37     0.39      0.37   \n",
       "6052   0.10    0.11   0.00    0.00     4.58      4.80     0.39      0.41   \n",
       "6053   0.08    0.04   0.00    0.00     5.01      4.20     0.32      0.33   \n",
       "6054   0.06    0.00   0.00    0.00     2.57      1.39     0.22      0.12   \n",
       "\n",
       "      大盘3s快滑率  年轻人3s快滑率  大盘5s快滑率  年轻人5s快滑率  \n",
       "0        0.62      0.54     0.73      0.58  \n",
       "1        0.78      1.00     0.78      1.00  \n",
       "2        1.00      1.00     1.00      1.00  \n",
       "3        0.68      0.71     0.73      0.75  \n",
       "4        0.58      1.00     0.67      1.00  \n",
       "...       ...       ...      ...       ...  \n",
       "6050     0.40      0.50     0.70      0.50  \n",
       "6051     0.50      0.53     0.65      0.67  \n",
       "6052     0.57      0.52     0.64      0.59  \n",
       "6053     0.62      0.54     0.75      0.67  \n",
       "6054     0.75      1.00     0.94      1.00  \n",
       "\n",
       "[6055 rows x 19 columns]"
      ],
      "text/html": "<div>\n<style scoped>\n    .dataframe tbody tr th:only-of-type {\n        vertical-align: middle;\n    }\n\n    .dataframe tbody tr th {\n        vertical-align: top;\n    }\n\n    .dataframe thead th {\n        text-align: right;\n    }\n</style>\n<table border=\"1\" class=\"dataframe\">\n  <thead>\n    <tr style=\"text-align: right;\">\n      <th></th>\n      <th>视频id</th>\n      <th>性别</th>\n      <th>城市等级</th>\n      <th>历史发布频次</th>\n      <th>大盘播放VV</th>\n      <th>年轻人播放VV</th>\n      <th>年轻人播放VV占比</th>\n      <th>大盘完播率</th>\n      <th>年轻人完播率</th>\n      <th>大盘互动率</th>\n      <th>年轻人互动率</th>\n      <th>大盘单vv时长</th>\n      <th>年轻人单vv时长</th>\n      <th>大盘播放完成度</th>\n      <th>年轻人播放完成度</th>\n      <th>大盘3s快滑率</th>\n      <th>年轻人3s快滑率</th>\n      <th>大盘5s快滑率</th>\n      <th>年轻人5s快滑率</th>\n    </tr>\n  </thead>\n  <tbody>\n    <tr>\n      <th>0</th>\n      <td>7my88ooOF1KO92piP</td>\n      <td>女</td>\n      <td>五线</td>\n      <td>1-5次发布用户</td>\n      <td>74</td>\n      <td>24</td>\n      <td>0.32</td>\n      <td>0.08</td>\n      <td>0.08</td>\n      <td>0.00</td>\n      <td>0.00</td>\n      <td>6.29</td>\n      <td>4.52</td>\n      <td>0.33</td>\n      <td>0.40</td>\n      <td>0.62</td>\n      <td>0.54</td>\n      <td>0.73</td>\n      <td>0.58</td>\n    </tr>\n    <tr>\n      <th>1</th>\n      <td>7my88ooOF1KO92piP</td>\n      <td>男</td>\n      <td>四线</td>\n      <td>&gt;10次发布用户</td>\n      <td>23</td>\n      <td>2</td>\n      <td>0.09</td>\n      <td>0.09</td>\n      <td>0.00</td>\n      <td>0.00</td>\n      <td>0.00</td>\n      <td>2.82</td>\n      <td>0.99</td>\n      <td>0.27</td>\n      <td>0.10</td>\n      <td>0.78</td>\n      <td>1.00</td>\n      <td>0.78</td>\n      <td>1.00</td>\n    </tr>\n    <tr>\n      <th>2</th>\n      <td>7my88ooOF1KO92piP</td>\n      <td>男</td>\n      <td>其他</td>\n      <td>&gt;10次发布用户</td>\n      <td>1</td>\n      <td>1</td>\n      <td>1.00</td>\n      <td>0.00</td>\n      <td>0.00</td>\n      <td>0.00</td>\n      <td>0.00</td>\n      <td>0.89</td>\n      <td>0.89</td>\n      <td>0.09</td>\n      <td>0.09</td>\n      <td>1.00</td>\n      <td>1.00</td>\n      <td>1.00</td>\n      <td>1.00</td>\n    </tr>\n    <tr>\n      <th>3</th>\n      <td>7my88ooOF1KO92piP</td>\n      <td>男</td>\n      <td>二线</td>\n      <td>1-5次发布用户</td>\n      <td>165</td>\n      <td>89</td>\n      <td>0.54</td>\n      <td>0.06</td>\n      <td>0.04</td>\n      <td>0.02</td>\n      <td>0.02</td>\n      <td>3.49</td>\n      <td>3.40</td>\n      <td>0.34</td>\n      <td>0.33</td>\n      <td>0.68</td>\n      <td>0.71</td>\n      <td>0.73</td>\n      <td>0.75</td>\n    </tr>\n    <tr>\n      <th>4</th>\n      <td>7my88ooOF1KO92piP</td>\n      <td>男</td>\n      <td>四线</td>\n      <td>6-10次发布用户</td>\n      <td>12</td>\n      <td>1</td>\n      <td>0.08</td>\n      <td>0.08</td>\n      <td>0.00</td>\n      <td>0.00</td>\n      <td>0.00</td>\n      <td>4.53</td>\n      <td>1.19</td>\n      <td>0.35</td>\n      <td>0.12</td>\n      <td>0.58</td>\n      <td>1.00</td>\n      <td>0.67</td>\n      <td>1.00</td>\n    </tr>\n    <tr>\n      <th>...</th>\n      <td>...</td>\n      <td>...</td>\n      <td>...</td>\n      <td>...</td>\n      <td>...</td>\n      <td>...</td>\n      <td>...</td>\n      <td>...</td>\n      <td>...</td>\n      <td>...</td>\n      <td>...</td>\n      <td>...</td>\n      <td>...</td>\n      <td>...</td>\n      <td>...</td>\n      <td>...</td>\n      <td>...</td>\n      <td>...</td>\n      <td>...</td>\n    </tr>\n    <tr>\n      <th>6050</th>\n      <td>6R4836WBo1KNY0Z4r</td>\n      <td>女</td>\n      <td>五线</td>\n      <td>6-10次发布用户</td>\n      <td>10</td>\n      <td>2</td>\n      <td>0.20</td>\n      <td>0.20</td>\n      <td>0.50</td>\n      <td>0.00</td>\n      <td>0.00</td>\n      <td>5.06</td>\n      <td>6.97</td>\n      <td>0.42</td>\n      <td>0.60</td>\n      <td>0.40</td>\n      <td>0.50</td>\n      <td>0.70</td>\n      <td>0.50</td>\n    </tr>\n    <tr>\n      <th>6051</th>\n      <td>6R4836WBo1KNY0Z4r</td>\n      <td>女</td>\n      <td>三线</td>\n      <td>0次发布用户</td>\n      <td>8413</td>\n      <td>5029</td>\n      <td>0.60</td>\n      <td>0.13</td>\n      <td>0.12</td>\n      <td>0.00</td>\n      <td>0.00</td>\n      <td>7.28</td>\n      <td>6.37</td>\n      <td>0.39</td>\n      <td>0.37</td>\n      <td>0.50</td>\n      <td>0.53</td>\n      <td>0.65</td>\n      <td>0.67</td>\n    </tr>\n    <tr>\n      <th>6052</th>\n      <td>6R4836WBo1KNY0Z4r</td>\n      <td>未知</td>\n      <td>新一线</td>\n      <td>0次发布用户</td>\n      <td>42</td>\n      <td>27</td>\n      <td>0.64</td>\n      <td>0.10</td>\n      <td>0.11</td>\n      <td>0.00</td>\n      <td>0.00</td>\n      <td>4.58</td>\n      <td>4.80</td>\n      <td>0.39</td>\n      <td>0.41</td>\n      <td>0.57</td>\n      <td>0.52</td>\n      <td>0.64</td>\n      <td>0.59</td>\n    </tr>\n    <tr>\n      <th>6053</th>\n      <td>6R4836WBo1KNY0Z4r</td>\n      <td>女</td>\n      <td>一线</td>\n      <td>1-5次发布用户</td>\n      <td>63</td>\n      <td>24</td>\n      <td>0.38</td>\n      <td>0.08</td>\n      <td>0.04</td>\n      <td>0.00</td>\n      <td>0.00</td>\n      <td>5.01</td>\n      <td>4.20</td>\n      <td>0.32</td>\n      <td>0.33</td>\n      <td>0.62</td>\n      <td>0.54</td>\n      <td>0.75</td>\n      <td>0.67</td>\n    </tr>\n    <tr>\n      <th>6054</th>\n      <td>6R4836WBo1KNY0Z4r</td>\n      <td>男</td>\n      <td>新一线</td>\n      <td>&gt;10次发布用户</td>\n      <td>16</td>\n      <td>5</td>\n      <td>0.31</td>\n      <td>0.06</td>\n      <td>0.00</td>\n      <td>0.00</td>\n      <td>0.00</td>\n      <td>2.57</td>\n      <td>1.39</td>\n      <td>0.22</td>\n      <td>0.12</td>\n      <td>0.75</td>\n      <td>1.00</td>\n      <td>0.94</td>\n      <td>1.00</td>\n    </tr>\n  </tbody>\n</table>\n<p>6055 rows × 19 columns</p>\n</div>"
     },
     "metadata": {},
     "execution_count": 26
    }
   ],
   "source": [
    "consumeDetailDf = pd.read_csv('热点视频消费数据.csv', header=0, \n",
    "                names=[\n",
    "                '视频id', '性别', '城市等级', '历史发布频次', '大盘播放VV', '年轻人播放VV', '年轻人播放VV占比',\n",
    "                '大盘完播率', '年轻人完播率', '大盘互动率', '年轻人互动率',\n",
    "                '大盘单vv时长', '年轻人单vv时长', '大盘播放完成度', '年轻人播放完成度',\n",
    "                '大盘3s快滑率', '年轻人3s快滑率', '大盘5s快滑率', '年轻人5s快滑率'])\n",
    "consumeDetailDf = consumeDetailDf.fillna(0)\n",
    "consumeDetailDf = consumeDetailDf.replace(np.nan, 0)\n",
    "consumeDetailDf = consumeDetailDf.astype({\n",
    "                '视频id':str, '性别':str, '城市等级':str, '历史发布频次':str, \n",
    "                '大盘播放VV':pd.Int64Dtype(), '年轻人播放VV':pd.Int64Dtype(), '年轻人播放VV占比':float,\n",
    "                '大盘完播率':float, '年轻人完播率':float, '大盘互动率':float, '年轻人互动率':float,\n",
    "                '大盘单vv时长':float, '年轻人单vv时长':float, '大盘播放完成度':float, '年轻人播放完成度':float,\n",
    "                '大盘3s快滑率':float, '年轻人3s快滑率':float, '大盘5s快滑率':float, '年轻人5s快滑率':float})\n",
    "consumeDetailDf['大盘3s快滑率'] = round(consumeDetailDf['大盘3s快滑率']/100,2)\n",
    "consumeDetailDf['大盘5s快滑率'] = round(consumeDetailDf['大盘5s快滑率']/100,2)\n",
    "consumeDetailDf"
   ]
  },
  {
   "cell_type": "code",
   "execution_count": 28,
   "metadata": {},
   "outputs": [
    {
     "output_type": "execute_result",
     "data": {
      "text/plain": [
       "                视频id  大盘播放VV_sum  年轻人播放VV_sum  年轻人播放VV占比_mean  \\\n",
       "0  6R4836WBo1KNA4Xj4      171446       111858            0.36   \n",
       "1  6R4836WBo1KNY0Z4r       87485        56679            0.36   \n",
       "2  6R4836WBo1KNY4HLw       95669        62203            0.36   \n",
       "3  6XfIL4q5R1KNEMn8X      326098       214394            0.40   \n",
       "4  6XfIL4q5R1KP07BTZ      151866        99630            0.34   \n",
       "\n",
       "   年轻人播放VV占比_median  大盘完播率_mean  大盘完播率_median  年轻人完播率_mean  年轻人完播率_median  \\\n",
       "0              0.33        0.11          0.12         0.10           0.09   \n",
       "1              0.33        0.11          0.11         0.08           0.07   \n",
       "2              0.35        0.09          0.09         0.09           0.07   \n",
       "3              0.44        0.20          0.22         0.17           0.19   \n",
       "4              0.27        0.16          0.17         0.15           0.15   \n",
       "\n",
       "   大盘互动率_mean  大盘互动率_median  年轻人互动率_mean  年轻人互动率_median  大盘单vv时长_mean  \\\n",
       "0        0.01          0.00         0.01           0.00          5.21   \n",
       "1        0.01          0.00         0.00           0.00          6.18   \n",
       "2        0.00          0.00         0.00           0.00          5.81   \n",
       "3        0.01          0.00         0.01           0.00          6.05   \n",
       "4        0.00          0.00         0.00           0.00          5.97   \n",
       "\n",
       "   大盘单vv时长_median  年轻人单vv时长_mean  年轻人单vv时长_median  大盘播放完成度_mean  \\\n",
       "0            5.41           4.75             4.75          0.38   \n",
       "1            5.70           4.99             4.59          0.36   \n",
       "2            5.45           5.65             5.25          0.34   \n",
       "3            6.09           5.32             5.49          0.58   \n",
       "4            5.82           5.66             5.20          0.46   \n",
       "\n",
       "   大盘播放完成度_median  年轻人播放完成度_mean  年轻人播放完成度_median  大盘3s快滑率_mean  \\\n",
       "0            0.42           0.39             0.43          0.58   \n",
       "1            0.36           0.33             0.33          0.55   \n",
       "2            0.34           0.31             0.33          0.54   \n",
       "3            0.59           0.56             0.59          0.41   \n",
       "4            0.48           0.43             0.45          0.49   \n",
       "\n",
       "   大盘3s快滑率_median  年轻人3s快滑率_mean  年轻人3s快滑率_median  大盘5s快滑率_mean  \\\n",
       "0            0.51           0.54             0.50          0.70   \n",
       "1            0.55           0.58             0.56          0.70   \n",
       "2            0.52           0.58             0.54          0.70   \n",
       "3            0.40           0.42             0.40          0.56   \n",
       "4            0.46           0.53             0.49          0.65   \n",
       "\n",
       "   大盘5s快滑率_median  年轻人5s快滑率_mean  年轻人5s快滑率_median  \n",
       "0            0.64           0.66             0.62  \n",
       "1            0.70           0.74             0.72  \n",
       "2            0.69           0.75             0.73  \n",
       "3            0.55           0.57             0.54  \n",
       "4            0.63           0.69             0.66  "
      ],
      "text/html": "<div>\n<style scoped>\n    .dataframe tbody tr th:only-of-type {\n        vertical-align: middle;\n    }\n\n    .dataframe tbody tr th {\n        vertical-align: top;\n    }\n\n    .dataframe thead th {\n        text-align: right;\n    }\n</style>\n<table border=\"1\" class=\"dataframe\">\n  <thead>\n    <tr style=\"text-align: right;\">\n      <th></th>\n      <th>视频id</th>\n      <th>大盘播放VV_sum</th>\n      <th>年轻人播放VV_sum</th>\n      <th>年轻人播放VV占比_mean</th>\n      <th>年轻人播放VV占比_median</th>\n      <th>大盘完播率_mean</th>\n      <th>大盘完播率_median</th>\n      <th>年轻人完播率_mean</th>\n      <th>年轻人完播率_median</th>\n      <th>大盘互动率_mean</th>\n      <th>大盘互动率_median</th>\n      <th>年轻人互动率_mean</th>\n      <th>年轻人互动率_median</th>\n      <th>大盘单vv时长_mean</th>\n      <th>大盘单vv时长_median</th>\n      <th>年轻人单vv时长_mean</th>\n      <th>年轻人单vv时长_median</th>\n      <th>大盘播放完成度_mean</th>\n      <th>大盘播放完成度_median</th>\n      <th>年轻人播放完成度_mean</th>\n      <th>年轻人播放完成度_median</th>\n      <th>大盘3s快滑率_mean</th>\n      <th>大盘3s快滑率_median</th>\n      <th>年轻人3s快滑率_mean</th>\n      <th>年轻人3s快滑率_median</th>\n      <th>大盘5s快滑率_mean</th>\n      <th>大盘5s快滑率_median</th>\n      <th>年轻人5s快滑率_mean</th>\n      <th>年轻人5s快滑率_median</th>\n    </tr>\n  </thead>\n  <tbody>\n    <tr>\n      <th>0</th>\n      <td>6R4836WBo1KNA4Xj4</td>\n      <td>171446</td>\n      <td>111858</td>\n      <td>0.36</td>\n      <td>0.33</td>\n      <td>0.11</td>\n      <td>0.12</td>\n      <td>0.10</td>\n      <td>0.09</td>\n      <td>0.01</td>\n      <td>0.00</td>\n      <td>0.01</td>\n      <td>0.00</td>\n      <td>5.21</td>\n      <td>5.41</td>\n      <td>4.75</td>\n      <td>4.75</td>\n      <td>0.38</td>\n      <td>0.42</td>\n      <td>0.39</td>\n      <td>0.43</td>\n      <td>0.58</td>\n      <td>0.51</td>\n      <td>0.54</td>\n      <td>0.50</td>\n      <td>0.70</td>\n      <td>0.64</td>\n      <td>0.66</td>\n      <td>0.62</td>\n    </tr>\n    <tr>\n      <th>1</th>\n      <td>6R4836WBo1KNY0Z4r</td>\n      <td>87485</td>\n      <td>56679</td>\n      <td>0.36</td>\n      <td>0.33</td>\n      <td>0.11</td>\n      <td>0.11</td>\n      <td>0.08</td>\n      <td>0.07</td>\n      <td>0.01</td>\n      <td>0.00</td>\n      <td>0.00</td>\n      <td>0.00</td>\n      <td>6.18</td>\n      <td>5.70</td>\n      <td>4.99</td>\n      <td>4.59</td>\n      <td>0.36</td>\n      <td>0.36</td>\n      <td>0.33</td>\n      <td>0.33</td>\n      <td>0.55</td>\n      <td>0.55</td>\n      <td>0.58</td>\n      <td>0.56</td>\n      <td>0.70</td>\n      <td>0.70</td>\n      <td>0.74</td>\n      <td>0.72</td>\n    </tr>\n    <tr>\n      <th>2</th>\n      <td>6R4836WBo1KNY4HLw</td>\n      <td>95669</td>\n      <td>62203</td>\n      <td>0.36</td>\n      <td>0.35</td>\n      <td>0.09</td>\n      <td>0.09</td>\n      <td>0.09</td>\n      <td>0.07</td>\n      <td>0.00</td>\n      <td>0.00</td>\n      <td>0.00</td>\n      <td>0.00</td>\n      <td>5.81</td>\n      <td>5.45</td>\n      <td>5.65</td>\n      <td>5.25</td>\n      <td>0.34</td>\n      <td>0.34</td>\n      <td>0.31</td>\n      <td>0.33</td>\n      <td>0.54</td>\n      <td>0.52</td>\n      <td>0.58</td>\n      <td>0.54</td>\n      <td>0.70</td>\n      <td>0.69</td>\n      <td>0.75</td>\n      <td>0.73</td>\n    </tr>\n    <tr>\n      <th>3</th>\n      <td>6XfIL4q5R1KNEMn8X</td>\n      <td>326098</td>\n      <td>214394</td>\n      <td>0.40</td>\n      <td>0.44</td>\n      <td>0.20</td>\n      <td>0.22</td>\n      <td>0.17</td>\n      <td>0.19</td>\n      <td>0.01</td>\n      <td>0.00</td>\n      <td>0.01</td>\n      <td>0.00</td>\n      <td>6.05</td>\n      <td>6.09</td>\n      <td>5.32</td>\n      <td>5.49</td>\n      <td>0.58</td>\n      <td>0.59</td>\n      <td>0.56</td>\n      <td>0.59</td>\n      <td>0.41</td>\n      <td>0.40</td>\n      <td>0.42</td>\n      <td>0.40</td>\n      <td>0.56</td>\n      <td>0.55</td>\n      <td>0.57</td>\n      <td>0.54</td>\n    </tr>\n    <tr>\n      <th>4</th>\n      <td>6XfIL4q5R1KP07BTZ</td>\n      <td>151866</td>\n      <td>99630</td>\n      <td>0.34</td>\n      <td>0.27</td>\n      <td>0.16</td>\n      <td>0.17</td>\n      <td>0.15</td>\n      <td>0.15</td>\n      <td>0.00</td>\n      <td>0.00</td>\n      <td>0.00</td>\n      <td>0.00</td>\n      <td>5.97</td>\n      <td>5.82</td>\n      <td>5.66</td>\n      <td>5.20</td>\n      <td>0.46</td>\n      <td>0.48</td>\n      <td>0.43</td>\n      <td>0.45</td>\n      <td>0.49</td>\n      <td>0.46</td>\n      <td>0.53</td>\n      <td>0.49</td>\n      <td>0.65</td>\n      <td>0.63</td>\n      <td>0.69</td>\n      <td>0.66</td>\n    </tr>\n  </tbody>\n</table>\n</div>"
     },
     "metadata": {},
     "execution_count": 28
    }
   ],
   "source": [
    "consumeStatDf = consumeDetailDf.groupby('视频id').agg({\n",
    "    '大盘播放VV':'sum', '年轻人播放VV':'sum', '年轻人播放VV占比':['mean','median'], \n",
    "    '大盘完播率':['mean','median'], '年轻人完播率':['mean','median'], '大盘互动率':['mean','median'], '年轻人互动率':['mean','median'], \n",
    "    '大盘单vv时长':['mean','median'], '年轻人单vv时长':['mean','median'], '大盘播放完成度':['mean','median'], '年轻人播放完成度':['mean','median'], \n",
    "    '大盘3s快滑率':['mean','median'], '年轻人3s快滑率':['mean','median'], '大盘5s快滑率':['mean','median'], '年轻人5s快滑率':['mean','median']\n",
    "})\n",
    "consumeStatDf.columns = ['_'.join(col) for col in consumeStatDf.columns]\n",
    "consumeStatDf.reset_index(inplace=True)\n",
    "consumeStatDf.head(5)"
   ]
  },
  {
   "cell_type": "code",
   "execution_count": 61,
   "metadata": {},
   "outputs": [
    {
     "output_type": "execute_result",
     "data": {
      "text/plain": [
       "           填写人   微视账号昵称               视频id 玩法分类  玩法名称    视频时长 使用素材数量 视频所在品类  \\\n",
       "0  v_lilyyyxie  探长的私家日记  6XfIL4q5R1KNEMn8X   模板  变装派对   (0,8]   1-2张     颜值   \n",
       "1  v_lilyyyxie       天乐  7bbDTvnKj1KOG5zp3   模板  变装派对   (0,8]   1-2张     颜值   \n",
       "2  v_lilyyyxie      小七菌  7f2kIDSCa1KNAntKM   模板  变装派对   (0,8]   1-2张     颜值   \n",
       "3  v_lilyyyxie      彭豆豆  7dDtw3z2e1KND34Yu   模板  变装派对  (8,12]   1-2张     颜值   \n",
       "4  v_lilyyyxie       贾鑫  787S1I3KY1KOmyDAT   模板  变装派对   (0,8]   1-2张     颜值   \n",
       "5  v_lilyyyxie      卿酒酒  7jXQZOpVi1KNLtqgN   模板  变装派对   (0,8]   1-2张     颜值   \n",
       "6  v_lilyyyxie     粉衣少年  7iEORw1251KOnJH6O   模板  变装派对  (8,12]   1-2张     颜值   \n",
       "7  v_lilyyyxie    慢慢要早睡  7jowa21U01KOnHDDt   模板  变装派对   (0,8]   1-2张     颜值   \n",
       "\n",
       "  使用素材类型 是否使用贴纸 是否使用特效 素材使用主题 预期评级 是否蹭热点 是否带话题 是否绑定挑战赛 是否文案引导  \n",
       "0     照片      无      无   清纯妹子    A     无     有       无      有  \n",
       "1     照片      无      无   清纯妹子    B     无     有       无      有  \n",
       "2     照片      无      无   清纯妹子    A     有     有       无      有  \n",
       "3     照片      无      无   清纯妹子    C     无     有       无      无  \n",
       "4     照片      无      无     萌娃    A     无     有       无      有  \n",
       "5     照片      无      无   清纯妹子    A     有     有       无      有  \n",
       "6     照片      有      有   性感女性    A     无     有       无      有  \n",
       "7     照片      无      无   清纯妹子    A     有     有       无      有  "
      ],
      "text/html": "<div>\n<style scoped>\n    .dataframe tbody tr th:only-of-type {\n        vertical-align: middle;\n    }\n\n    .dataframe tbody tr th {\n        vertical-align: top;\n    }\n\n    .dataframe thead th {\n        text-align: right;\n    }\n</style>\n<table border=\"1\" class=\"dataframe\">\n  <thead>\n    <tr style=\"text-align: right;\">\n      <th></th>\n      <th>填写人</th>\n      <th>微视账号昵称</th>\n      <th>视频id</th>\n      <th>玩法分类</th>\n      <th>玩法名称</th>\n      <th>视频时长</th>\n      <th>使用素材数量</th>\n      <th>视频所在品类</th>\n      <th>使用素材类型</th>\n      <th>是否使用贴纸</th>\n      <th>是否使用特效</th>\n      <th>素材使用主题</th>\n      <th>预期评级</th>\n      <th>是否蹭热点</th>\n      <th>是否带话题</th>\n      <th>是否绑定挑战赛</th>\n      <th>是否文案引导</th>\n    </tr>\n  </thead>\n  <tbody>\n    <tr>\n      <th>0</th>\n      <td>v_lilyyyxie</td>\n      <td>探长的私家日记</td>\n      <td>6XfIL4q5R1KNEMn8X</td>\n      <td>模板</td>\n      <td>变装派对</td>\n      <td>(0,8]</td>\n      <td>1-2张</td>\n      <td>颜值</td>\n      <td>照片</td>\n      <td>无</td>\n      <td>无</td>\n      <td>清纯妹子</td>\n      <td>A</td>\n      <td>无</td>\n      <td>有</td>\n      <td>无</td>\n      <td>有</td>\n    </tr>\n    <tr>\n      <th>1</th>\n      <td>v_lilyyyxie</td>\n      <td>天乐</td>\n      <td>7bbDTvnKj1KOG5zp3</td>\n      <td>模板</td>\n      <td>变装派对</td>\n      <td>(0,8]</td>\n      <td>1-2张</td>\n      <td>颜值</td>\n      <td>照片</td>\n      <td>无</td>\n      <td>无</td>\n      <td>清纯妹子</td>\n      <td>B</td>\n      <td>无</td>\n      <td>有</td>\n      <td>无</td>\n      <td>有</td>\n    </tr>\n    <tr>\n      <th>2</th>\n      <td>v_lilyyyxie</td>\n      <td>小七菌</td>\n      <td>7f2kIDSCa1KNAntKM</td>\n      <td>模板</td>\n      <td>变装派对</td>\n      <td>(0,8]</td>\n      <td>1-2张</td>\n      <td>颜值</td>\n      <td>照片</td>\n      <td>无</td>\n      <td>无</td>\n      <td>清纯妹子</td>\n      <td>A</td>\n      <td>有</td>\n      <td>有</td>\n      <td>无</td>\n      <td>有</td>\n    </tr>\n    <tr>\n      <th>3</th>\n      <td>v_lilyyyxie</td>\n      <td>彭豆豆</td>\n      <td>7dDtw3z2e1KND34Yu</td>\n      <td>模板</td>\n      <td>变装派对</td>\n      <td>(8,12]</td>\n      <td>1-2张</td>\n      <td>颜值</td>\n      <td>照片</td>\n      <td>无</td>\n      <td>无</td>\n      <td>清纯妹子</td>\n      <td>C</td>\n      <td>无</td>\n      <td>有</td>\n      <td>无</td>\n      <td>无</td>\n    </tr>\n    <tr>\n      <th>4</th>\n      <td>v_lilyyyxie</td>\n      <td>贾鑫</td>\n      <td>787S1I3KY1KOmyDAT</td>\n      <td>模板</td>\n      <td>变装派对</td>\n      <td>(0,8]</td>\n      <td>1-2张</td>\n      <td>颜值</td>\n      <td>照片</td>\n      <td>无</td>\n      <td>无</td>\n      <td>萌娃</td>\n      <td>A</td>\n      <td>无</td>\n      <td>有</td>\n      <td>无</td>\n      <td>有</td>\n    </tr>\n    <tr>\n      <th>5</th>\n      <td>v_lilyyyxie</td>\n      <td>卿酒酒</td>\n      <td>7jXQZOpVi1KNLtqgN</td>\n      <td>模板</td>\n      <td>变装派对</td>\n      <td>(0,8]</td>\n      <td>1-2张</td>\n      <td>颜值</td>\n      <td>照片</td>\n      <td>无</td>\n      <td>无</td>\n      <td>清纯妹子</td>\n      <td>A</td>\n      <td>有</td>\n      <td>有</td>\n      <td>无</td>\n      <td>有</td>\n    </tr>\n    <tr>\n      <th>6</th>\n      <td>v_lilyyyxie</td>\n      <td>粉衣少年</td>\n      <td>7iEORw1251KOnJH6O</td>\n      <td>模板</td>\n      <td>变装派对</td>\n      <td>(8,12]</td>\n      <td>1-2张</td>\n      <td>颜值</td>\n      <td>照片</td>\n      <td>有</td>\n      <td>有</td>\n      <td>性感女性</td>\n      <td>A</td>\n      <td>无</td>\n      <td>有</td>\n      <td>无</td>\n      <td>有</td>\n    </tr>\n    <tr>\n      <th>7</th>\n      <td>v_lilyyyxie</td>\n      <td>慢慢要早睡</td>\n      <td>7jowa21U01KOnHDDt</td>\n      <td>模板</td>\n      <td>变装派对</td>\n      <td>(0,8]</td>\n      <td>1-2张</td>\n      <td>颜值</td>\n      <td>照片</td>\n      <td>无</td>\n      <td>无</td>\n      <td>清纯妹子</td>\n      <td>A</td>\n      <td>有</td>\n      <td>有</td>\n      <td>无</td>\n      <td>有</td>\n    </tr>\n  </tbody>\n</table>\n</div>"
     },
     "metadata": {},
     "execution_count": 61
    }
   ],
   "source": [
    "feedAttrDf = pd.read_excel('年轻人冷启投放标签.xlsx', \n",
    "            header=0, \n",
    "            names=[\n",
    "                '填写人', '微视账号昵称', '视频id',\n",
    "                '玩法分类', '玩法名称', '视频时长', '使用素材数量', '视频所在品类', '使用素材类型',\n",
    "                '是否使用贴纸', '是否使用特效', '素材使用主题', '预期评级',\n",
    "                '是否蹭热点', '是否带话题', '是否绑定挑战赛', '是否文案引导'],\n",
    "            dtype={\n",
    "                '填写人':str, '微视账号昵称':str, '视频id':str,\n",
    "                '玩法分类':str, '视频时长':float, '使用素材数量':str, '视频所在品类':str, '使用素材类型':str,\n",
    "                '是否使用贴纸':str, '是否使用特效':str, '素材使用主题':str,\n",
    "                '是否蹭热点':str, '是否带话题':str, '是否绑定挑战赛':str, '是否文案引导':str\n",
    "            })\n",
    "feedAttrDf['视频时长'] = pd.cut(feedAttrDf['视频时长'], [0,8,12,16,20,100], labels=[\"(0,8]\",\"(8,12]\",\"(12,16]\",\"(16,20]\",\"20s以上\"])\n",
    "# feedAttrDf.fillna(0).head(10)\n",
    "feedAttrDf.head(8)"
   ]
  },
  {
   "cell_type": "code",
   "execution_count": 62,
   "metadata": {},
   "outputs": [
    {
     "output_type": "execute_result",
     "data": {
      "text/plain": [
       "              填写人    微视账号昵称               视频id 玩法分类  玩法名称    视频时长 使用素材数量  \\\n",
       "1828  v_lrenechen  程宝Angela  6R4836WBo1KNA4Xj4   模板  变装派对  (8,12]   1-2张   \n",
       "1854  v_lrenechen  程宝Angela  6R4836WBo1KNA4Xj4   模板  变装派对  (8,12]   1-2张   \n",
       "1840  v_lrenechen  程宝Angela  6R4836WBo1KNA4Xj4   模板  变装派对  (8,12]   1-2张   \n",
       "1813  v_lrenechen  程宝Angela  6R4836WBo1KNA4Xj4   模板  变装派对  (8,12]   1-2张   \n",
       "1846  v_lrenechen  程宝Angela  6R4836WBo1KNA4Xj4   模板  变装派对  (8,12]   1-2张   \n",
       "...           ...       ...                ...  ...   ...     ...    ...   \n",
       "2347   v_yanppeng        猪头  7my88ooOF1KO92piP   模板  变装派对  (8,12]   1-2张   \n",
       "2351   v_yanppeng        猪头  7my88ooOF1KO92piP   模板  变装派对  (8,12]   1-2张   \n",
       "2368   v_yanppeng        猪头  7my88ooOF1KO92piP   模板  变装派对  (8,12]   1-2张   \n",
       "2390   v_yanppeng        猪头  7my88ooOF1KO92piP   模板  变装派对  (8,12]   1-2张   \n",
       "2399   v_yanppeng        猪头  7my88ooOF1KO92piP   模板  变装派对  (8,12]   1-2张   \n",
       "\n",
       "     视频所在品类 使用素材类型 是否使用贴纸 是否使用特效 素材使用主题 预期评级 是否蹭热点 是否带话题 是否绑定挑战赛 是否文案引导  性别  \\\n",
       "1828     颜值     照片      无      无   清纯妹子    A     无     有       无      无   男   \n",
       "1854     颜值     照片      无      无   清纯妹子    A     无     有       无      无   男   \n",
       "1840     颜值     照片      无      无   清纯妹子    A     无     有       无      无   女   \n",
       "1813     颜值     照片      无      无   清纯妹子    A     无     有       无      无   女   \n",
       "1846     颜值     照片      无      无   清纯妹子    A     无     有       无      无   男   \n",
       "...     ...    ...    ...    ...    ...  ...   ...   ...     ...    ...  ..   \n",
       "2347     颜值     照片      无      无   清纯妹子    A     有     无       无      无  未知   \n",
       "2351     颜值     照片      无      无   清纯妹子    A     有     无       无      无  未知   \n",
       "2368     颜值     照片      无      无   清纯妹子    A     有     无       无      无   男   \n",
       "2390     颜值     照片      无      无   清纯妹子    A     有     无       无      无   男   \n",
       "2399     颜值     照片      无      无   清纯妹子    A     有     无       无      无  未知   \n",
       "\n",
       "     城市等级     历史发布频次  大盘播放VV  年轻人播放VV  年轻人播放VV占比  大盘完播率  年轻人完播率  大盘互动率  \\\n",
       "1828   三线     0次发布用户   18716    13371       0.71   0.15    0.14   0.00   \n",
       "1854   四线     0次发布用户   16756    12359       0.74   0.16    0.15   0.00   \n",
       "1840   三线     0次发布用户   16172     9597       0.59   0.17    0.16   0.00   \n",
       "1813   四线     0次发布用户   15452     9568       0.62   0.18    0.17   0.00   \n",
       "1846   二线     0次发布用户   15321    11443       0.75   0.14    0.14   0.00   \n",
       "...   ...        ...     ...      ...        ...    ...     ...    ...   \n",
       "2347   三线   1-5次发布用户       1        1       1.00   0.00    0.00   0.00   \n",
       "2351   其他  6-10次发布用户       1        0       0.00   0.00     nan   0.00   \n",
       "2368   五线   >10次发布用户       1        0       0.00   0.00     nan   0.00   \n",
       "2390   一线   >10次发布用户       1        1       1.00   0.00    0.00   0.00   \n",
       "2399   四线   1-5次发布用户       1        0       0.00   0.00     nan   0.00   \n",
       "\n",
       "      年轻人互动率  大盘单vv时长  年轻人单vv时长  大盘播放完成度  年轻人播放完成度  大盘3s快滑率  年轻人3s快滑率  \\\n",
       "1828    0.00     6.26      6.30     0.44      0.43     0.50      0.51   \n",
       "1854    0.00     6.47      6.38     0.44      0.44     0.49      0.50   \n",
       "1840    0.00     7.29      7.20     0.45      0.45     0.48      0.48   \n",
       "1813    0.00     7.21      6.93     0.46      0.46     0.46      0.47   \n",
       "1846    0.01     6.02      5.94     0.44      0.44     0.50      0.50   \n",
       "...      ...      ...       ...      ...       ...      ...       ...   \n",
       "2347    0.00     2.83      2.83     0.29      0.29     1.00      1.00   \n",
       "2351     nan     1.12       nan     0.11       nan     1.00       nan   \n",
       "2368     nan     1.95       nan     0.20       nan     1.00       nan   \n",
       "2390    0.00     2.54      2.54     0.26      0.26     1.00      1.00   \n",
       "2399     nan     1.43       nan     0.15       nan     1.00       nan   \n",
       "\n",
       "      大盘5s快滑率  年轻人5s快滑率  \n",
       "1828     0.63      0.63  \n",
       "1854     0.62      0.62  \n",
       "1840     0.61      0.61  \n",
       "1813     0.60      0.60  \n",
       "1846     0.63      0.62  \n",
       "...       ...       ...  \n",
       "2347     1.00      1.00  \n",
       "2351     1.00       nan  \n",
       "2368     1.00       nan  \n",
       "2390     1.00      1.00  \n",
       "2399     1.00       nan  \n",
       "\n",
       "[6138 rows x 35 columns]"
      ],
      "text/html": "<div>\n<style scoped>\n    .dataframe tbody tr th:only-of-type {\n        vertical-align: middle;\n    }\n\n    .dataframe tbody tr th {\n        vertical-align: top;\n    }\n\n    .dataframe thead th {\n        text-align: right;\n    }\n</style>\n<table border=\"1\" class=\"dataframe\">\n  <thead>\n    <tr style=\"text-align: right;\">\n      <th></th>\n      <th>填写人</th>\n      <th>微视账号昵称</th>\n      <th>视频id</th>\n      <th>玩法分类</th>\n      <th>玩法名称</th>\n      <th>视频时长</th>\n      <th>使用素材数量</th>\n      <th>视频所在品类</th>\n      <th>使用素材类型</th>\n      <th>是否使用贴纸</th>\n      <th>是否使用特效</th>\n      <th>素材使用主题</th>\n      <th>预期评级</th>\n      <th>是否蹭热点</th>\n      <th>是否带话题</th>\n      <th>是否绑定挑战赛</th>\n      <th>是否文案引导</th>\n      <th>性别</th>\n      <th>城市等级</th>\n      <th>历史发布频次</th>\n      <th>大盘播放VV</th>\n      <th>年轻人播放VV</th>\n      <th>年轻人播放VV占比</th>\n      <th>大盘完播率</th>\n      <th>年轻人完播率</th>\n      <th>大盘互动率</th>\n      <th>年轻人互动率</th>\n      <th>大盘单vv时长</th>\n      <th>年轻人单vv时长</th>\n      <th>大盘播放完成度</th>\n      <th>年轻人播放完成度</th>\n      <th>大盘3s快滑率</th>\n      <th>年轻人3s快滑率</th>\n      <th>大盘5s快滑率</th>\n      <th>年轻人5s快滑率</th>\n    </tr>\n  </thead>\n  <tbody>\n    <tr>\n      <th>1828</th>\n      <td>v_lrenechen</td>\n      <td>程宝Angela</td>\n      <td>6R4836WBo1KNA4Xj4</td>\n      <td>模板</td>\n      <td>变装派对</td>\n      <td>(8,12]</td>\n      <td>1-2张</td>\n      <td>颜值</td>\n      <td>照片</td>\n      <td>无</td>\n      <td>无</td>\n      <td>清纯妹子</td>\n      <td>A</td>\n      <td>无</td>\n      <td>有</td>\n      <td>无</td>\n      <td>无</td>\n      <td>男</td>\n      <td>三线</td>\n      <td>0次发布用户</td>\n      <td>18716</td>\n      <td>13371</td>\n      <td>0.71</td>\n      <td>0.15</td>\n      <td>0.14</td>\n      <td>0.00</td>\n      <td>0.00</td>\n      <td>6.26</td>\n      <td>6.30</td>\n      <td>0.44</td>\n      <td>0.43</td>\n      <td>0.50</td>\n      <td>0.51</td>\n      <td>0.63</td>\n      <td>0.63</td>\n    </tr>\n    <tr>\n      <th>1854</th>\n      <td>v_lrenechen</td>\n      <td>程宝Angela</td>\n      <td>6R4836WBo1KNA4Xj4</td>\n      <td>模板</td>\n      <td>变装派对</td>\n      <td>(8,12]</td>\n      <td>1-2张</td>\n      <td>颜值</td>\n      <td>照片</td>\n      <td>无</td>\n      <td>无</td>\n      <td>清纯妹子</td>\n      <td>A</td>\n      <td>无</td>\n      <td>有</td>\n      <td>无</td>\n      <td>无</td>\n      <td>男</td>\n      <td>四线</td>\n      <td>0次发布用户</td>\n      <td>16756</td>\n      <td>12359</td>\n      <td>0.74</td>\n      <td>0.16</td>\n      <td>0.15</td>\n      <td>0.00</td>\n      <td>0.00</td>\n      <td>6.47</td>\n      <td>6.38</td>\n      <td>0.44</td>\n      <td>0.44</td>\n      <td>0.49</td>\n      <td>0.50</td>\n      <td>0.62</td>\n      <td>0.62</td>\n    </tr>\n    <tr>\n      <th>1840</th>\n      <td>v_lrenechen</td>\n      <td>程宝Angela</td>\n      <td>6R4836WBo1KNA4Xj4</td>\n      <td>模板</td>\n      <td>变装派对</td>\n      <td>(8,12]</td>\n      <td>1-2张</td>\n      <td>颜值</td>\n      <td>照片</td>\n      <td>无</td>\n      <td>无</td>\n      <td>清纯妹子</td>\n      <td>A</td>\n      <td>无</td>\n      <td>有</td>\n      <td>无</td>\n      <td>无</td>\n      <td>女</td>\n      <td>三线</td>\n      <td>0次发布用户</td>\n      <td>16172</td>\n      <td>9597</td>\n      <td>0.59</td>\n      <td>0.17</td>\n      <td>0.16</td>\n      <td>0.00</td>\n      <td>0.00</td>\n      <td>7.29</td>\n      <td>7.20</td>\n      <td>0.45</td>\n      <td>0.45</td>\n      <td>0.48</td>\n      <td>0.48</td>\n      <td>0.61</td>\n      <td>0.61</td>\n    </tr>\n    <tr>\n      <th>1813</th>\n      <td>v_lrenechen</td>\n      <td>程宝Angela</td>\n      <td>6R4836WBo1KNA4Xj4</td>\n      <td>模板</td>\n      <td>变装派对</td>\n      <td>(8,12]</td>\n      <td>1-2张</td>\n      <td>颜值</td>\n      <td>照片</td>\n      <td>无</td>\n      <td>无</td>\n      <td>清纯妹子</td>\n      <td>A</td>\n      <td>无</td>\n      <td>有</td>\n      <td>无</td>\n      <td>无</td>\n      <td>女</td>\n      <td>四线</td>\n      <td>0次发布用户</td>\n      <td>15452</td>\n      <td>9568</td>\n      <td>0.62</td>\n      <td>0.18</td>\n      <td>0.17</td>\n      <td>0.00</td>\n      <td>0.00</td>\n      <td>7.21</td>\n      <td>6.93</td>\n      <td>0.46</td>\n      <td>0.46</td>\n      <td>0.46</td>\n      <td>0.47</td>\n      <td>0.60</td>\n      <td>0.60</td>\n    </tr>\n    <tr>\n      <th>1846</th>\n      <td>v_lrenechen</td>\n      <td>程宝Angela</td>\n      <td>6R4836WBo1KNA4Xj4</td>\n      <td>模板</td>\n      <td>变装派对</td>\n      <td>(8,12]</td>\n      <td>1-2张</td>\n      <td>颜值</td>\n      <td>照片</td>\n      <td>无</td>\n      <td>无</td>\n      <td>清纯妹子</td>\n      <td>A</td>\n      <td>无</td>\n      <td>有</td>\n      <td>无</td>\n      <td>无</td>\n      <td>男</td>\n      <td>二线</td>\n      <td>0次发布用户</td>\n      <td>15321</td>\n      <td>11443</td>\n      <td>0.75</td>\n      <td>0.14</td>\n      <td>0.14</td>\n      <td>0.00</td>\n      <td>0.01</td>\n      <td>6.02</td>\n      <td>5.94</td>\n      <td>0.44</td>\n      <td>0.44</td>\n      <td>0.50</td>\n      <td>0.50</td>\n      <td>0.63</td>\n      <td>0.62</td>\n    </tr>\n    <tr>\n      <th>...</th>\n      <td>...</td>\n      <td>...</td>\n      <td>...</td>\n      <td>...</td>\n      <td>...</td>\n      <td>...</td>\n      <td>...</td>\n      <td>...</td>\n      <td>...</td>\n      <td>...</td>\n      <td>...</td>\n      <td>...</td>\n      <td>...</td>\n      <td>...</td>\n      <td>...</td>\n      <td>...</td>\n      <td>...</td>\n      <td>...</td>\n      <td>...</td>\n      <td>...</td>\n      <td>...</td>\n      <td>...</td>\n      <td>...</td>\n      <td>...</td>\n      <td>...</td>\n      <td>...</td>\n      <td>...</td>\n      <td>...</td>\n      <td>...</td>\n      <td>...</td>\n      <td>...</td>\n      <td>...</td>\n      <td>...</td>\n      <td>...</td>\n      <td>...</td>\n    </tr>\n    <tr>\n      <th>2347</th>\n      <td>v_yanppeng</td>\n      <td>猪头</td>\n      <td>7my88ooOF1KO92piP</td>\n      <td>模板</td>\n      <td>变装派对</td>\n      <td>(8,12]</td>\n      <td>1-2张</td>\n      <td>颜值</td>\n      <td>照片</td>\n      <td>无</td>\n      <td>无</td>\n      <td>清纯妹子</td>\n      <td>A</td>\n      <td>有</td>\n      <td>无</td>\n      <td>无</td>\n      <td>无</td>\n      <td>未知</td>\n      <td>三线</td>\n      <td>1-5次发布用户</td>\n      <td>1</td>\n      <td>1</td>\n      <td>1.00</td>\n      <td>0.00</td>\n      <td>0.00</td>\n      <td>0.00</td>\n      <td>0.00</td>\n      <td>2.83</td>\n      <td>2.83</td>\n      <td>0.29</td>\n      <td>0.29</td>\n      <td>1.00</td>\n      <td>1.00</td>\n      <td>1.00</td>\n      <td>1.00</td>\n    </tr>\n    <tr>\n      <th>2351</th>\n      <td>v_yanppeng</td>\n      <td>猪头</td>\n      <td>7my88ooOF1KO92piP</td>\n      <td>模板</td>\n      <td>变装派对</td>\n      <td>(8,12]</td>\n      <td>1-2张</td>\n      <td>颜值</td>\n      <td>照片</td>\n      <td>无</td>\n      <td>无</td>\n      <td>清纯妹子</td>\n      <td>A</td>\n      <td>有</td>\n      <td>无</td>\n      <td>无</td>\n      <td>无</td>\n      <td>未知</td>\n      <td>其他</td>\n      <td>6-10次发布用户</td>\n      <td>1</td>\n      <td>0</td>\n      <td>0.00</td>\n      <td>0.00</td>\n      <td>nan</td>\n      <td>0.00</td>\n      <td>nan</td>\n      <td>1.12</td>\n      <td>nan</td>\n      <td>0.11</td>\n      <td>nan</td>\n      <td>1.00</td>\n      <td>nan</td>\n      <td>1.00</td>\n      <td>nan</td>\n    </tr>\n    <tr>\n      <th>2368</th>\n      <td>v_yanppeng</td>\n      <td>猪头</td>\n      <td>7my88ooOF1KO92piP</td>\n      <td>模板</td>\n      <td>变装派对</td>\n      <td>(8,12]</td>\n      <td>1-2张</td>\n      <td>颜值</td>\n      <td>照片</td>\n      <td>无</td>\n      <td>无</td>\n      <td>清纯妹子</td>\n      <td>A</td>\n      <td>有</td>\n      <td>无</td>\n      <td>无</td>\n      <td>无</td>\n      <td>男</td>\n      <td>五线</td>\n      <td>&gt;10次发布用户</td>\n      <td>1</td>\n      <td>0</td>\n      <td>0.00</td>\n      <td>0.00</td>\n      <td>nan</td>\n      <td>0.00</td>\n      <td>nan</td>\n      <td>1.95</td>\n      <td>nan</td>\n      <td>0.20</td>\n      <td>nan</td>\n      <td>1.00</td>\n      <td>nan</td>\n      <td>1.00</td>\n      <td>nan</td>\n    </tr>\n    <tr>\n      <th>2390</th>\n      <td>v_yanppeng</td>\n      <td>猪头</td>\n      <td>7my88ooOF1KO92piP</td>\n      <td>模板</td>\n      <td>变装派对</td>\n      <td>(8,12]</td>\n      <td>1-2张</td>\n      <td>颜值</td>\n      <td>照片</td>\n      <td>无</td>\n      <td>无</td>\n      <td>清纯妹子</td>\n      <td>A</td>\n      <td>有</td>\n      <td>无</td>\n      <td>无</td>\n      <td>无</td>\n      <td>男</td>\n      <td>一线</td>\n      <td>&gt;10次发布用户</td>\n      <td>1</td>\n      <td>1</td>\n      <td>1.00</td>\n      <td>0.00</td>\n      <td>0.00</td>\n      <td>0.00</td>\n      <td>0.00</td>\n      <td>2.54</td>\n      <td>2.54</td>\n      <td>0.26</td>\n      <td>0.26</td>\n      <td>1.00</td>\n      <td>1.00</td>\n      <td>1.00</td>\n      <td>1.00</td>\n    </tr>\n    <tr>\n      <th>2399</th>\n      <td>v_yanppeng</td>\n      <td>猪头</td>\n      <td>7my88ooOF1KO92piP</td>\n      <td>模板</td>\n      <td>变装派对</td>\n      <td>(8,12]</td>\n      <td>1-2张</td>\n      <td>颜值</td>\n      <td>照片</td>\n      <td>无</td>\n      <td>无</td>\n      <td>清纯妹子</td>\n      <td>A</td>\n      <td>有</td>\n      <td>无</td>\n      <td>无</td>\n      <td>无</td>\n      <td>未知</td>\n      <td>四线</td>\n      <td>1-5次发布用户</td>\n      <td>1</td>\n      <td>0</td>\n      <td>0.00</td>\n      <td>0.00</td>\n      <td>nan</td>\n      <td>0.00</td>\n      <td>nan</td>\n      <td>1.43</td>\n      <td>nan</td>\n      <td>0.15</td>\n      <td>nan</td>\n      <td>1.00</td>\n      <td>nan</td>\n      <td>1.00</td>\n      <td>nan</td>\n    </tr>\n  </tbody>\n</table>\n<p>6138 rows × 35 columns</p>\n</div>"
     },
     "metadata": {},
     "execution_count": 62
    }
   ],
   "source": [
    "# Merge feedAttr with consumeDetailData, then sort\n",
    "feedAttrConsumeDetailDf = pd.merge(feedAttrDf, consumeDetailDf, on='视频id', how='left')\n",
    "feedAttrConsumeDetailDf.sort_values(by=['视频id', '大盘播放VV'], ascending=[True, False], inplace=True)\n",
    "feedAttrConsumeDetailDf"
   ]
  },
  {
   "cell_type": "code",
   "execution_count": 63,
   "metadata": {},
   "outputs": [
    {
     "output_type": "execute_result",
     "data": {
      "text/plain": [
       "            填写人   微视账号昵称               视频id 玩法分类  玩法名称    视频时长 使用素材数量 视频所在品类  \\\n",
       "4   v_lilyyyxie       贾鑫  787S1I3KY1KOmyDAT   模板  变装派对   (0,8]   1-2张     颜值   \n",
       "0   v_lilyyyxie  探长的私家日记  6XfIL4q5R1KNEMn8X   模板  变装派对   (0,8]   1-2张     颜值   \n",
       "27  v_lrenechen  黄金屋&颜如玉  7eRuPfWvz1KNAI6G4   模板  变装派对  (8,12]   1-2张     亲子   \n",
       "20  v_lilyyyxie    喜喜和恺恺  7cl3wXSYn1KO0IUYl   模板  变装派对   (0,8]   1-2张     亲子   \n",
       "5   v_lilyyyxie      卿酒酒  7jXQZOpVi1KNLtqgN   模板  变装派对   (0,8]   1-2张     颜值   \n",
       "\n",
       "   使用素材类型 是否使用贴纸 是否使用特效 素材使用主题 预期评级 是否蹭热点 是否带话题 是否绑定挑战赛 是否文案引导  大盘播放VV_sum  \\\n",
       "4      照片      无      无     萌娃    A     无     有       无      有      362004   \n",
       "0      照片      无      无   清纯妹子    A     无     有       无      有      326098   \n",
       "27     照片      有      无     萌娃    B     无     有       无      无      317702   \n",
       "20     照片      无      无     萌娃    A     无     有       无      有      312739   \n",
       "5      照片      无      无   清纯妹子    A     有     有       无      有      312436   \n",
       "\n",
       "    年轻人播放VV_sum  年轻人播放VV占比_mean  年轻人播放VV占比_median  大盘完播率_mean  大盘完播率_median  \\\n",
       "4        235433            0.38              0.43        0.28          0.28   \n",
       "0        214394            0.40              0.44        0.20          0.22   \n",
       "27       208805            0.37              0.33        0.24          0.23   \n",
       "20       201895            0.37              0.38        0.22          0.23   \n",
       "5        209873            0.40              0.41        0.21          0.21   \n",
       "\n",
       "    年轻人完播率_mean  年轻人完播率_median  大盘互动率_mean  大盘互动率_median  年轻人互动率_mean  \\\n",
       "4          0.24           0.24        0.00          0.00         0.00   \n",
       "0          0.17           0.19        0.01          0.00         0.01   \n",
       "27         0.22           0.19        0.01          0.00         0.01   \n",
       "20         0.20           0.20        0.00          0.00         0.01   \n",
       "5          0.16           0.14        0.01          0.00         0.01   \n",
       "\n",
       "    年轻人互动率_median  大盘单vv时长_mean  大盘单vv时长_median  年轻人单vv时长_mean  \\\n",
       "4            0.00          6.51            6.35           5.71   \n",
       "0            0.00          6.05            6.09           5.32   \n",
       "27           0.00          7.65            7.61           7.30   \n",
       "20           0.00          6.10            6.00           6.31   \n",
       "5            0.00          6.43            6.15           5.99   \n",
       "\n",
       "    年轻人单vv时长_median  大盘播放完成度_mean  大盘播放完成度_median  年轻人播放完成度_mean  \\\n",
       "4              5.68          0.63            0.61           0.59   \n",
       "0              5.49          0.58            0.59           0.56   \n",
       "27             6.80          0.57            0.56           0.56   \n",
       "20             5.19          0.54            0.56           0.53   \n",
       "5              5.23          0.54            0.55           0.50   \n",
       "\n",
       "    年轻人播放完成度_median  大盘3s快滑率_mean  大盘3s快滑率_median  年轻人3s快滑率_mean  \\\n",
       "4              0.61          0.38            0.40           0.43   \n",
       "0              0.59          0.41            0.40           0.42   \n",
       "27             0.56          0.32            0.33           0.34   \n",
       "20             0.55          0.47            0.44           0.47   \n",
       "5              0.54          0.45            0.43           0.49   \n",
       "\n",
       "    年轻人3s快滑率_median  大盘5s快滑率_mean  大盘5s快滑率_median  年轻人5s快滑率_mean  \\\n",
       "4              0.41          0.51            0.53           0.54   \n",
       "0              0.40          0.56            0.55           0.57   \n",
       "27             0.33          0.46            0.46           0.47   \n",
       "20             0.45          0.60            0.57           0.60   \n",
       "5              0.45          0.57            0.56           0.59   \n",
       "\n",
       "    年轻人5s快滑率_median  \n",
       "4              0.53  \n",
       "0              0.54  \n",
       "27             0.46  \n",
       "20             0.58  \n",
       "5              0.56  "
      ],
      "text/html": "<div>\n<style scoped>\n    .dataframe tbody tr th:only-of-type {\n        vertical-align: middle;\n    }\n\n    .dataframe tbody tr th {\n        vertical-align: top;\n    }\n\n    .dataframe thead th {\n        text-align: right;\n    }\n</style>\n<table border=\"1\" class=\"dataframe\">\n  <thead>\n    <tr style=\"text-align: right;\">\n      <th></th>\n      <th>填写人</th>\n      <th>微视账号昵称</th>\n      <th>视频id</th>\n      <th>玩法分类</th>\n      <th>玩法名称</th>\n      <th>视频时长</th>\n      <th>使用素材数量</th>\n      <th>视频所在品类</th>\n      <th>使用素材类型</th>\n      <th>是否使用贴纸</th>\n      <th>是否使用特效</th>\n      <th>素材使用主题</th>\n      <th>预期评级</th>\n      <th>是否蹭热点</th>\n      <th>是否带话题</th>\n      <th>是否绑定挑战赛</th>\n      <th>是否文案引导</th>\n      <th>大盘播放VV_sum</th>\n      <th>年轻人播放VV_sum</th>\n      <th>年轻人播放VV占比_mean</th>\n      <th>年轻人播放VV占比_median</th>\n      <th>大盘完播率_mean</th>\n      <th>大盘完播率_median</th>\n      <th>年轻人完播率_mean</th>\n      <th>年轻人完播率_median</th>\n      <th>大盘互动率_mean</th>\n      <th>大盘互动率_median</th>\n      <th>年轻人互动率_mean</th>\n      <th>年轻人互动率_median</th>\n      <th>大盘单vv时长_mean</th>\n      <th>大盘单vv时长_median</th>\n      <th>年轻人单vv时长_mean</th>\n      <th>年轻人单vv时长_median</th>\n      <th>大盘播放完成度_mean</th>\n      <th>大盘播放完成度_median</th>\n      <th>年轻人播放完成度_mean</th>\n      <th>年轻人播放完成度_median</th>\n      <th>大盘3s快滑率_mean</th>\n      <th>大盘3s快滑率_median</th>\n      <th>年轻人3s快滑率_mean</th>\n      <th>年轻人3s快滑率_median</th>\n      <th>大盘5s快滑率_mean</th>\n      <th>大盘5s快滑率_median</th>\n      <th>年轻人5s快滑率_mean</th>\n      <th>年轻人5s快滑率_median</th>\n    </tr>\n  </thead>\n  <tbody>\n    <tr>\n      <th>4</th>\n      <td>v_lilyyyxie</td>\n      <td>贾鑫</td>\n      <td>787S1I3KY1KOmyDAT</td>\n      <td>模板</td>\n      <td>变装派对</td>\n      <td>(0,8]</td>\n      <td>1-2张</td>\n      <td>颜值</td>\n      <td>照片</td>\n      <td>无</td>\n      <td>无</td>\n      <td>萌娃</td>\n      <td>A</td>\n      <td>无</td>\n      <td>有</td>\n      <td>无</td>\n      <td>有</td>\n      <td>362004</td>\n      <td>235433</td>\n      <td>0.38</td>\n      <td>0.43</td>\n      <td>0.28</td>\n      <td>0.28</td>\n      <td>0.24</td>\n      <td>0.24</td>\n      <td>0.00</td>\n      <td>0.00</td>\n      <td>0.00</td>\n      <td>0.00</td>\n      <td>6.51</td>\n      <td>6.35</td>\n      <td>5.71</td>\n      <td>5.68</td>\n      <td>0.63</td>\n      <td>0.61</td>\n      <td>0.59</td>\n      <td>0.61</td>\n      <td>0.38</td>\n      <td>0.40</td>\n      <td>0.43</td>\n      <td>0.41</td>\n      <td>0.51</td>\n      <td>0.53</td>\n      <td>0.54</td>\n      <td>0.53</td>\n    </tr>\n    <tr>\n      <th>0</th>\n      <td>v_lilyyyxie</td>\n      <td>探长的私家日记</td>\n      <td>6XfIL4q5R1KNEMn8X</td>\n      <td>模板</td>\n      <td>变装派对</td>\n      <td>(0,8]</td>\n      <td>1-2张</td>\n      <td>颜值</td>\n      <td>照片</td>\n      <td>无</td>\n      <td>无</td>\n      <td>清纯妹子</td>\n      <td>A</td>\n      <td>无</td>\n      <td>有</td>\n      <td>无</td>\n      <td>有</td>\n      <td>326098</td>\n      <td>214394</td>\n      <td>0.40</td>\n      <td>0.44</td>\n      <td>0.20</td>\n      <td>0.22</td>\n      <td>0.17</td>\n      <td>0.19</td>\n      <td>0.01</td>\n      <td>0.00</td>\n      <td>0.01</td>\n      <td>0.00</td>\n      <td>6.05</td>\n      <td>6.09</td>\n      <td>5.32</td>\n      <td>5.49</td>\n      <td>0.58</td>\n      <td>0.59</td>\n      <td>0.56</td>\n      <td>0.59</td>\n      <td>0.41</td>\n      <td>0.40</td>\n      <td>0.42</td>\n      <td>0.40</td>\n      <td>0.56</td>\n      <td>0.55</td>\n      <td>0.57</td>\n      <td>0.54</td>\n    </tr>\n    <tr>\n      <th>27</th>\n      <td>v_lrenechen</td>\n      <td>黄金屋&amp;颜如玉</td>\n      <td>7eRuPfWvz1KNAI6G4</td>\n      <td>模板</td>\n      <td>变装派对</td>\n      <td>(8,12]</td>\n      <td>1-2张</td>\n      <td>亲子</td>\n      <td>照片</td>\n      <td>有</td>\n      <td>无</td>\n      <td>萌娃</td>\n      <td>B</td>\n      <td>无</td>\n      <td>有</td>\n      <td>无</td>\n      <td>无</td>\n      <td>317702</td>\n      <td>208805</td>\n      <td>0.37</td>\n      <td>0.33</td>\n      <td>0.24</td>\n      <td>0.23</td>\n      <td>0.22</td>\n      <td>0.19</td>\n      <td>0.01</td>\n      <td>0.00</td>\n      <td>0.01</td>\n      <td>0.00</td>\n      <td>7.65</td>\n      <td>7.61</td>\n      <td>7.30</td>\n      <td>6.80</td>\n      <td>0.57</td>\n      <td>0.56</td>\n      <td>0.56</td>\n      <td>0.56</td>\n      <td>0.32</td>\n      <td>0.33</td>\n      <td>0.34</td>\n      <td>0.33</td>\n      <td>0.46</td>\n      <td>0.46</td>\n      <td>0.47</td>\n      <td>0.46</td>\n    </tr>\n    <tr>\n      <th>20</th>\n      <td>v_lilyyyxie</td>\n      <td>喜喜和恺恺</td>\n      <td>7cl3wXSYn1KO0IUYl</td>\n      <td>模板</td>\n      <td>变装派对</td>\n      <td>(0,8]</td>\n      <td>1-2张</td>\n      <td>亲子</td>\n      <td>照片</td>\n      <td>无</td>\n      <td>无</td>\n      <td>萌娃</td>\n      <td>A</td>\n      <td>无</td>\n      <td>有</td>\n      <td>无</td>\n      <td>有</td>\n      <td>312739</td>\n      <td>201895</td>\n      <td>0.37</td>\n      <td>0.38</td>\n      <td>0.22</td>\n      <td>0.23</td>\n      <td>0.20</td>\n      <td>0.20</td>\n      <td>0.00</td>\n      <td>0.00</td>\n      <td>0.01</td>\n      <td>0.00</td>\n      <td>6.10</td>\n      <td>6.00</td>\n      <td>6.31</td>\n      <td>5.19</td>\n      <td>0.54</td>\n      <td>0.56</td>\n      <td>0.53</td>\n      <td>0.55</td>\n      <td>0.47</td>\n      <td>0.44</td>\n      <td>0.47</td>\n      <td>0.45</td>\n      <td>0.60</td>\n      <td>0.57</td>\n      <td>0.60</td>\n      <td>0.58</td>\n    </tr>\n    <tr>\n      <th>5</th>\n      <td>v_lilyyyxie</td>\n      <td>卿酒酒</td>\n      <td>7jXQZOpVi1KNLtqgN</td>\n      <td>模板</td>\n      <td>变装派对</td>\n      <td>(0,8]</td>\n      <td>1-2张</td>\n      <td>颜值</td>\n      <td>照片</td>\n      <td>无</td>\n      <td>无</td>\n      <td>清纯妹子</td>\n      <td>A</td>\n      <td>有</td>\n      <td>有</td>\n      <td>无</td>\n      <td>有</td>\n      <td>312436</td>\n      <td>209873</td>\n      <td>0.40</td>\n      <td>0.41</td>\n      <td>0.21</td>\n      <td>0.21</td>\n      <td>0.16</td>\n      <td>0.14</td>\n      <td>0.01</td>\n      <td>0.00</td>\n      <td>0.01</td>\n      <td>0.00</td>\n      <td>6.43</td>\n      <td>6.15</td>\n      <td>5.99</td>\n      <td>5.23</td>\n      <td>0.54</td>\n      <td>0.55</td>\n      <td>0.50</td>\n      <td>0.54</td>\n      <td>0.45</td>\n      <td>0.43</td>\n      <td>0.49</td>\n      <td>0.45</td>\n      <td>0.57</td>\n      <td>0.56</td>\n      <td>0.59</td>\n      <td>0.56</td>\n    </tr>\n  </tbody>\n</table>\n</div>"
     },
     "metadata": {},
     "execution_count": 63
    }
   ],
   "source": [
    "# Merge feedAttr with consumeStatData, then sort\n",
    "feedAttrConsumeStatDf = pd.merge(feedAttrDf, consumeStatDf, on='视频id', how='left')\n",
    "feedAttrConsumeStatDf.sort_values(by=['大盘播放VV_sum'], ascending=False, inplace=True)\n",
    "feedAttrConsumeStatDf.head(5)"
   ]
  },
  {
   "cell_type": "code",
   "execution_count": 10,
   "metadata": {},
   "outputs": [],
   "source": [
    "#视频时长维度拆解"
   ]
  },
  {
   "cell_type": "code",
   "execution_count": 83,
   "metadata": {},
   "outputs": [
    {
     "output_type": "execute_result",
     "data": {
      "text/plain": [
       "   玩法名称     视频时长 variable  value   统计方式     人群     指标\n",
       "0  变装派对    (0,8]     视频数量  15.00  other  other  other\n",
       "1  变装派对   (8,12]     视频数量  24.00  other  other  other\n",
       "2  变装派对  (12,16]     视频数量   0.00  other  other  other\n",
       "3  变装派对  (16,20]     视频数量   0.00  other  other  other\n",
       "4  变装派对    20s以上     视频数量   0.00  other  other  other\n",
       "5   牛奶颂    (0,8]     视频数量  12.00  other  other  other\n",
       "6   牛奶颂   (8,12]     视频数量  26.00  other  other  other\n",
       "7   牛奶颂  (12,16]     视频数量   4.00  other  other  other\n",
       "8   牛奶颂  (16,20]     视频数量   1.00  other  other  other\n",
       "9   牛奶颂    20s以上     视频数量   5.00  other  other  other"
      ],
      "text/html": "<div>\n<style scoped>\n    .dataframe tbody tr th:only-of-type {\n        vertical-align: middle;\n    }\n\n    .dataframe tbody tr th {\n        vertical-align: top;\n    }\n\n    .dataframe thead th {\n        text-align: right;\n    }\n</style>\n<table border=\"1\" class=\"dataframe\">\n  <thead>\n    <tr style=\"text-align: right;\">\n      <th></th>\n      <th>玩法名称</th>\n      <th>视频时长</th>\n      <th>variable</th>\n      <th>value</th>\n      <th>统计方式</th>\n      <th>人群</th>\n      <th>指标</th>\n    </tr>\n  </thead>\n  <tbody>\n    <tr>\n      <th>0</th>\n      <td>变装派对</td>\n      <td>(0,8]</td>\n      <td>视频数量</td>\n      <td>15.00</td>\n      <td>other</td>\n      <td>other</td>\n      <td>other</td>\n    </tr>\n    <tr>\n      <th>1</th>\n      <td>变装派对</td>\n      <td>(8,12]</td>\n      <td>视频数量</td>\n      <td>24.00</td>\n      <td>other</td>\n      <td>other</td>\n      <td>other</td>\n    </tr>\n    <tr>\n      <th>2</th>\n      <td>变装派对</td>\n      <td>(12,16]</td>\n      <td>视频数量</td>\n      <td>0.00</td>\n      <td>other</td>\n      <td>other</td>\n      <td>other</td>\n    </tr>\n    <tr>\n      <th>3</th>\n      <td>变装派对</td>\n      <td>(16,20]</td>\n      <td>视频数量</td>\n      <td>0.00</td>\n      <td>other</td>\n      <td>other</td>\n      <td>other</td>\n    </tr>\n    <tr>\n      <th>4</th>\n      <td>变装派对</td>\n      <td>20s以上</td>\n      <td>视频数量</td>\n      <td>0.00</td>\n      <td>other</td>\n      <td>other</td>\n      <td>other</td>\n    </tr>\n    <tr>\n      <th>5</th>\n      <td>牛奶颂</td>\n      <td>(0,8]</td>\n      <td>视频数量</td>\n      <td>12.00</td>\n      <td>other</td>\n      <td>other</td>\n      <td>other</td>\n    </tr>\n    <tr>\n      <th>6</th>\n      <td>牛奶颂</td>\n      <td>(8,12]</td>\n      <td>视频数量</td>\n      <td>26.00</td>\n      <td>other</td>\n      <td>other</td>\n      <td>other</td>\n    </tr>\n    <tr>\n      <th>7</th>\n      <td>牛奶颂</td>\n      <td>(12,16]</td>\n      <td>视频数量</td>\n      <td>4.00</td>\n      <td>other</td>\n      <td>other</td>\n      <td>other</td>\n    </tr>\n    <tr>\n      <th>8</th>\n      <td>牛奶颂</td>\n      <td>(16,20]</td>\n      <td>视频数量</td>\n      <td>1.00</td>\n      <td>other</td>\n      <td>other</td>\n      <td>other</td>\n    </tr>\n    <tr>\n      <th>9</th>\n      <td>牛奶颂</td>\n      <td>20s以上</td>\n      <td>视频数量</td>\n      <td>5.00</td>\n      <td>other</td>\n      <td>other</td>\n      <td>other</td>\n    </tr>\n  </tbody>\n</table>\n</div>"
     },
     "metadata": {},
     "execution_count": 83
    }
   ],
   "source": [
    "duration_feedAttrConsumeStatDf = feedAttrConsumeStatDf.groupby(['玩法名称','视频时长']).agg({\n",
    "    '视频id':'count',\n",
    "    '大盘播放VV_sum':'sum', '年轻人播放VV_sum':'sum',\n",
    "    '大盘完播率_mean':'mean', '大盘完播率_median':'median',\n",
    "    '年轻人完播率_mean':'mean', '年轻人完播率_median':'median',\n",
    "    '大盘互动率_mean':'mean', '大盘互动率_median':'median',\n",
    "    '年轻人互动率_mean':'mean', '年轻人互动率_median':'median',\n",
    "    '大盘单vv时长_mean':'mean', '大盘单vv时长_median':'median',\n",
    "    '年轻人单vv时长_mean':'mean', '年轻人单vv时长_median':'median',\n",
    "    '大盘播放完成度_mean':'mean', '大盘播放完成度_median':'median',\n",
    "    '年轻人播放完成度_mean':'mean', '年轻人播放完成度_median':'median',\n",
    "    '大盘3s快滑率_mean':'mean', '大盘3s快滑率_median':'median',\n",
    "    '年轻人3s快滑率_mean':'mean', '年轻人3s快滑率_median':'median',\n",
    "    '大盘5s快滑率_mean':'mean', '大盘5s快滑率_median':'median',\n",
    "    '年轻人5s快滑率_mean':'mean', '年轻人5s快滑率_median':'median'\n",
    "}).reset_index()\n",
    "duration_feedAttrConsumeStatDf.rename(columns={'视频id':'视频数量'}, inplace=True)\n",
    "duration_feedAttrConsumeStatDf['大盘条均播放VV'] = duration_feedAttrConsumeStatDf['大盘播放VV_sum'] / duration_feedAttrConsumeStatDf['视频数量']\n",
    "duration_feedAttrConsumeStatDf['年轻人条均播放VV'] = duration_feedAttrConsumeStatDf['年轻人播放VV_sum'] / duration_feedAttrConsumeStatDf['视频数量']\n",
    "\n",
    "duration_feedAttrConsumeStatDfTidy = pd.melt(duration_feedAttrConsumeStatDf, id_vars=['玩法名称','视频时长'])\n",
    "#统计方式\n",
    "duration_feedAttrConsumeStatDfTidy['统计方式'] = pd.np.where(duration_feedAttrConsumeStatDfTidy.variable.str.contains('mean|条均'), '平均', \n",
    "                                                pd.np.where(duration_feedAttrConsumeStatDfTidy.variable.str.contains('median'), '中位数', \n",
    "                                                pd.np.where(duration_feedAttrConsumeStatDfTidy.variable.str.contains('sum'), '累加', 'other')))\n",
    "#人群\n",
    "duration_feedAttrConsumeStatDfTidy['人群'] = pd.np.where(duration_feedAttrConsumeStatDfTidy.variable.str.contains('大盘'), '大盘', \n",
    "                                            pd.np.where(duration_feedAttrConsumeStatDfTidy.variable.str.contains('年轻人'), '年轻人', 'other'))\n",
    "\n",
    "#指标\n",
    "duration_feedAttrConsumeStatDfTidy['指标'] = pd.np.where(duration_feedAttrConsumeStatDfTidy.variable.str.contains('完播率'), '完播率', \n",
    "                                            pd.np.where(duration_feedAttrConsumeStatDfTidy.variable.str.contains('互动率'), '互动率', \n",
    "                                            pd.np.where(duration_feedAttrConsumeStatDfTidy.variable.str.contains('单vv时长'), '单vv时长', \n",
    "                                            pd.np.where(duration_feedAttrConsumeStatDfTidy.variable.str.contains('播放完成度'), '播放完成度', \n",
    "                                            pd.np.where(duration_feedAttrConsumeStatDfTidy.variable.str.contains('3s快滑率'), '3s快滑率', \n",
    "                                            pd.np.where(duration_feedAttrConsumeStatDfTidy.variable.str.contains('5s快滑率'), '5s快滑率', \n",
    "                                            pd.np.where(duration_feedAttrConsumeStatDfTidy.variable.str.contains('条均播放VV'), '条均播放VV', \n",
    "                                            pd.np.where(duration_feedAttrConsumeStatDfTidy.variable.str.contains('播放VV'), '播放VV', 'other'))))))))\n",
    "\n",
    "duration_feedAttrConsumeStatDfTidy.fillna(value={'value':0}, inplace=True)\n",
    "duration_feedAttrConsumeStatDfTidy.head(10)"
   ]
  },
  {
   "cell_type": "code",
   "execution_count": 88,
   "metadata": {},
   "outputs": [
    {
     "output_type": "execute_result",
     "data": {
      "text/plain": [
       "    玩法名称     视频时长     variable      value 统计方式   人群    指标\n",
       "10  变装派对    (0,8]   大盘播放VV_sum 3805891.00   累加   大盘  播放VV\n",
       "11  变装派对   (8,12]   大盘播放VV_sum 3807969.00   累加   大盘  播放VV\n",
       "12  变装派对  (12,16]   大盘播放VV_sum       0.00   累加   大盘  播放VV\n",
       "13  变装派对  (16,20]   大盘播放VV_sum       0.00   累加   大盘  播放VV\n",
       "14  变装派对    20s以上   大盘播放VV_sum       0.00   累加   大盘  播放VV\n",
       "15   牛奶颂    (0,8]   大盘播放VV_sum 1879873.00   累加   大盘  播放VV\n",
       "16   牛奶颂   (8,12]   大盘播放VV_sum 2898338.00   累加   大盘  播放VV\n",
       "17   牛奶颂  (12,16]   大盘播放VV_sum  407548.00   累加   大盘  播放VV\n",
       "18   牛奶颂  (16,20]   大盘播放VV_sum   71675.00   累加   大盘  播放VV\n",
       "19   牛奶颂    20s以上   大盘播放VV_sum  293720.00   累加   大盘  播放VV\n",
       "20  变装派对    (0,8]  年轻人播放VV_sum 2498879.00   累加  年轻人  播放VV\n",
       "21  变装派对   (8,12]  年轻人播放VV_sum 2496867.00   累加  年轻人  播放VV\n",
       "22  变装派对  (12,16]  年轻人播放VV_sum       0.00   累加  年轻人  播放VV\n",
       "23  变装派对  (16,20]  年轻人播放VV_sum       0.00   累加  年轻人  播放VV\n",
       "24  变装派对    20s以上  年轻人播放VV_sum       0.00   累加  年轻人  播放VV\n",
       "25   牛奶颂    (0,8]  年轻人播放VV_sum 1199072.00   累加  年轻人  播放VV\n",
       "26   牛奶颂   (8,12]  年轻人播放VV_sum 1884310.00   累加  年轻人  播放VV\n",
       "27   牛奶颂  (12,16]  年轻人播放VV_sum  263229.00   累加  年轻人  播放VV\n",
       "28   牛奶颂  (16,20]  年轻人播放VV_sum   46296.00   累加  年轻人  播放VV\n",
       "29   牛奶颂    20s以上  年轻人播放VV_sum  192701.00   累加  年轻人  播放VV"
      ],
      "text/html": "<div>\n<style scoped>\n    .dataframe tbody tr th:only-of-type {\n        vertical-align: middle;\n    }\n\n    .dataframe tbody tr th {\n        vertical-align: top;\n    }\n\n    .dataframe thead th {\n        text-align: right;\n    }\n</style>\n<table border=\"1\" class=\"dataframe\">\n  <thead>\n    <tr style=\"text-align: right;\">\n      <th></th>\n      <th>玩法名称</th>\n      <th>视频时长</th>\n      <th>variable</th>\n      <th>value</th>\n      <th>统计方式</th>\n      <th>人群</th>\n      <th>指标</th>\n    </tr>\n  </thead>\n  <tbody>\n    <tr>\n      <th>10</th>\n      <td>变装派对</td>\n      <td>(0,8]</td>\n      <td>大盘播放VV_sum</td>\n      <td>3805891.00</td>\n      <td>累加</td>\n      <td>大盘</td>\n      <td>播放VV</td>\n    </tr>\n    <tr>\n      <th>11</th>\n      <td>变装派对</td>\n      <td>(8,12]</td>\n      <td>大盘播放VV_sum</td>\n      <td>3807969.00</td>\n      <td>累加</td>\n      <td>大盘</td>\n      <td>播放VV</td>\n    </tr>\n    <tr>\n      <th>12</th>\n      <td>变装派对</td>\n      <td>(12,16]</td>\n      <td>大盘播放VV_sum</td>\n      <td>0.00</td>\n      <td>累加</td>\n      <td>大盘</td>\n      <td>播放VV</td>\n    </tr>\n    <tr>\n      <th>13</th>\n      <td>变装派对</td>\n      <td>(16,20]</td>\n      <td>大盘播放VV_sum</td>\n      <td>0.00</td>\n      <td>累加</td>\n      <td>大盘</td>\n      <td>播放VV</td>\n    </tr>\n    <tr>\n      <th>14</th>\n      <td>变装派对</td>\n      <td>20s以上</td>\n      <td>大盘播放VV_sum</td>\n      <td>0.00</td>\n      <td>累加</td>\n      <td>大盘</td>\n      <td>播放VV</td>\n    </tr>\n    <tr>\n      <th>15</th>\n      <td>牛奶颂</td>\n      <td>(0,8]</td>\n      <td>大盘播放VV_sum</td>\n      <td>1879873.00</td>\n      <td>累加</td>\n      <td>大盘</td>\n      <td>播放VV</td>\n    </tr>\n    <tr>\n      <th>16</th>\n      <td>牛奶颂</td>\n      <td>(8,12]</td>\n      <td>大盘播放VV_sum</td>\n      <td>2898338.00</td>\n      <td>累加</td>\n      <td>大盘</td>\n      <td>播放VV</td>\n    </tr>\n    <tr>\n      <th>17</th>\n      <td>牛奶颂</td>\n      <td>(12,16]</td>\n      <td>大盘播放VV_sum</td>\n      <td>407548.00</td>\n      <td>累加</td>\n      <td>大盘</td>\n      <td>播放VV</td>\n    </tr>\n    <tr>\n      <th>18</th>\n      <td>牛奶颂</td>\n      <td>(16,20]</td>\n      <td>大盘播放VV_sum</td>\n      <td>71675.00</td>\n      <td>累加</td>\n      <td>大盘</td>\n      <td>播放VV</td>\n    </tr>\n    <tr>\n      <th>19</th>\n      <td>牛奶颂</td>\n      <td>20s以上</td>\n      <td>大盘播放VV_sum</td>\n      <td>293720.00</td>\n      <td>累加</td>\n      <td>大盘</td>\n      <td>播放VV</td>\n    </tr>\n    <tr>\n      <th>20</th>\n      <td>变装派对</td>\n      <td>(0,8]</td>\n      <td>年轻人播放VV_sum</td>\n      <td>2498879.00</td>\n      <td>累加</td>\n      <td>年轻人</td>\n      <td>播放VV</td>\n    </tr>\n    <tr>\n      <th>21</th>\n      <td>变装派对</td>\n      <td>(8,12]</td>\n      <td>年轻人播放VV_sum</td>\n      <td>2496867.00</td>\n      <td>累加</td>\n      <td>年轻人</td>\n      <td>播放VV</td>\n    </tr>\n    <tr>\n      <th>22</th>\n      <td>变装派对</td>\n      <td>(12,16]</td>\n      <td>年轻人播放VV_sum</td>\n      <td>0.00</td>\n      <td>累加</td>\n      <td>年轻人</td>\n      <td>播放VV</td>\n    </tr>\n    <tr>\n      <th>23</th>\n      <td>变装派对</td>\n      <td>(16,20]</td>\n      <td>年轻人播放VV_sum</td>\n      <td>0.00</td>\n      <td>累加</td>\n      <td>年轻人</td>\n      <td>播放VV</td>\n    </tr>\n    <tr>\n      <th>24</th>\n      <td>变装派对</td>\n      <td>20s以上</td>\n      <td>年轻人播放VV_sum</td>\n      <td>0.00</td>\n      <td>累加</td>\n      <td>年轻人</td>\n      <td>播放VV</td>\n    </tr>\n    <tr>\n      <th>25</th>\n      <td>牛奶颂</td>\n      <td>(0,8]</td>\n      <td>年轻人播放VV_sum</td>\n      <td>1199072.00</td>\n      <td>累加</td>\n      <td>年轻人</td>\n      <td>播放VV</td>\n    </tr>\n    <tr>\n      <th>26</th>\n      <td>牛奶颂</td>\n      <td>(8,12]</td>\n      <td>年轻人播放VV_sum</td>\n      <td>1884310.00</td>\n      <td>累加</td>\n      <td>年轻人</td>\n      <td>播放VV</td>\n    </tr>\n    <tr>\n      <th>27</th>\n      <td>牛奶颂</td>\n      <td>(12,16]</td>\n      <td>年轻人播放VV_sum</td>\n      <td>263229.00</td>\n      <td>累加</td>\n      <td>年轻人</td>\n      <td>播放VV</td>\n    </tr>\n    <tr>\n      <th>28</th>\n      <td>牛奶颂</td>\n      <td>(16,20]</td>\n      <td>年轻人播放VV_sum</td>\n      <td>46296.00</td>\n      <td>累加</td>\n      <td>年轻人</td>\n      <td>播放VV</td>\n    </tr>\n    <tr>\n      <th>29</th>\n      <td>牛奶颂</td>\n      <td>20s以上</td>\n      <td>年轻人播放VV_sum</td>\n      <td>192701.00</td>\n      <td>累加</td>\n      <td>年轻人</td>\n      <td>播放VV</td>\n    </tr>\n  </tbody>\n</table>\n</div>"
     },
     "metadata": {},
     "execution_count": 88
    }
   ],
   "source": [
    "duration_feedAttrConsumeStatDfTidy.query(\"variable.str.contains('播放VV') & ~(variable.str.contains('条均'))\").head(50)"
   ]
  },
  {
   "cell_type": "code",
   "execution_count": 84,
   "metadata": {},
   "outputs": [
    {
     "output_type": "display_data",
     "data": {
      "application/vnd.plotly.v1+json": {
       "config": {
        "plotlyServerURL": "https://plot.ly"
       },
       "data": [
        {
         "alignmentgroup": "True",
         "hovertemplate": "人群=大盘<br>统计方式=平均<br>指标=完播率<br>视频时长=%{x}<br>统计值=%{y}<extra></extra>",
         "legendgroup": "大盘",
         "marker": {
          "color": "rgb(196, 230, 195)"
         },
         "name": "大盘",
         "offsetgroup": "大盘",
         "orientation": "v",
         "showlegend": true,
         "textposition": "outside",
         "texttemplate": "%{value:%.2f}",
         "type": "bar",
         "x": [
          "(0,8]",
          "(8,12]",
          "(12,16]",
          "(16,20]",
          "20s以上"
         ],
         "xaxis": "x5",
         "y": [
          0.17504434193809723,
          0.12204995247468939,
          0.10011814637826963,
          0.07592957746478873,
          0.05609114845938375
         ],
         "yaxis": "y5"
        },
        {
         "alignmentgroup": "True",
         "hovertemplate": "人群=大盘<br>统计方式=平均<br>指标=播放完成度<br>视频时长=%{x}<br>统计值=%{y}<extra></extra>",
         "legendgroup": "大盘",
         "marker": {
          "color": "rgb(196, 230, 195)"
         },
         "name": "大盘",
         "offsetgroup": "大盘",
         "orientation": "v",
         "showlegend": false,
         "textposition": "outside",
         "texttemplate": "%{value:%.2f}",
         "type": "bar",
         "x": [
          "(0,8]",
          "(8,12]",
          "(12,16]",
          "(16,20]",
          "20s以上"
         ],
         "xaxis": "x6",
         "y": [
          0.4539162867798823,
          0.3860222739257032,
          0.32803973214285714,
          0.2623901408450704,
          0.18869838765071245
         ],
         "yaxis": "y6"
        },
        {
         "alignmentgroup": "True",
         "hovertemplate": "人群=大盘<br>统计方式=平均<br>指标=3s快滑率<br>视频时长=%{x}<br>统计值=%{y}<extra></extra>",
         "legendgroup": "大盘",
         "marker": {
          "color": "rgb(196, 230, 195)"
         },
         "name": "大盘",
         "offsetgroup": "大盘",
         "orientation": "v",
         "showlegend": false,
         "textposition": "outside",
         "texttemplate": "%{value:%.2f}",
         "type": "bar",
         "x": [
          "(0,8]",
          "(8,12]",
          "(12,16]",
          "(16,20]",
          "20s以上"
         ],
         "xaxis": "x7",
         "y": [
          0.5847851305013566,
          0.5514199754051315,
          0.543100589649005,
          0.5478873239436619,
          0.6108939106077214
         ],
         "yaxis": "y7"
        },
        {
         "alignmentgroup": "True",
         "hovertemplate": "人群=大盘<br>统计方式=平均<br>指标=5s快滑率<br>视频时长=%{x}<br>统计值=%{y}<extra></extra>",
         "legendgroup": "大盘",
         "marker": {
          "color": "rgb(196, 230, 195)"
         },
         "name": "大盘",
         "offsetgroup": "大盘",
         "orientation": "v",
         "showlegend": false,
         "textposition": "outside",
         "texttemplate": "%{value:%.2f}",
         "type": "bar",
         "x": [
          "(0,8]",
          "(8,12]",
          "(12,16]",
          "(16,20]",
          "20s以上"
         ],
         "xaxis": "x8",
         "y": [
          0.714863217281737,
          0.6944998630522646,
          0.6853939330427006,
          0.7319718309859156,
          0.7285367068566557
         ],
         "yaxis": "y8"
        },
        {
         "alignmentgroup": "True",
         "hovertemplate": "人群=大盘<br>统计方式=中位数<br>指标=完播率<br>视频时长=%{x}<br>统计值=%{y}<extra></extra>",
         "legendgroup": "大盘",
         "marker": {
          "color": "rgb(196, 230, 195)"
         },
         "name": "大盘",
         "offsetgroup": "大盘",
         "orientation": "v",
         "showlegend": false,
         "textposition": "outside",
         "texttemplate": "%{value:%.2f}",
         "type": "bar",
         "x": [
          "(0,8]",
          "(8,12]",
          "(12,16]",
          "(16,20]",
          "20s以上"
         ],
         "xaxis": "x",
         "y": [
          0.16775,
          0.125,
          0.08374999999999999,
          0.067,
          0.0335
         ],
         "yaxis": "y"
        },
        {
         "alignmentgroup": "True",
         "hovertemplate": "人群=大盘<br>统计方式=中位数<br>指标=播放完成度<br>视频时长=%{x}<br>统计值=%{y}<extra></extra>",
         "legendgroup": "大盘",
         "marker": {
          "color": "rgb(196, 230, 195)"
         },
         "name": "大盘",
         "offsetgroup": "大盘",
         "orientation": "v",
         "showlegend": false,
         "textposition": "outside",
         "texttemplate": "%{value:%.2f}",
         "type": "bar",
         "x": [
          "(0,8]",
          "(8,12]",
          "(12,16]",
          "(16,20]",
          "20s以上"
         ],
         "xaxis": "x2",
         "y": [
          0.4446,
          0.38412499999999994,
          0.3264,
          0.2486,
          0.1833
         ],
         "yaxis": "y2"
        },
        {
         "alignmentgroup": "True",
         "hovertemplate": "人群=大盘<br>统计方式=中位数<br>指标=3s快滑率<br>视频时长=%{x}<br>统计值=%{y}<extra></extra>",
         "legendgroup": "大盘",
         "marker": {
          "color": "rgb(196, 230, 195)"
         },
         "name": "大盘",
         "offsetgroup": "大盘",
         "orientation": "v",
         "showlegend": false,
         "textposition": "outside",
         "texttemplate": "%{value:%.2f}",
         "type": "bar",
         "x": [
          "(0,8]",
          "(8,12]",
          "(12,16]",
          "(16,20]",
          "20s以上"
         ],
         "xaxis": "x3",
         "y": [
          0.59,
          0.5525,
          0.54,
          0.57,
          0.61
         ],
         "yaxis": "y3"
        },
        {
         "alignmentgroup": "True",
         "hovertemplate": "人群=大盘<br>统计方式=中位数<br>指标=5s快滑率<br>视频时长=%{x}<br>统计值=%{y}<extra></extra>",
         "legendgroup": "大盘",
         "marker": {
          "color": "rgb(196, 230, 195)"
         },
         "name": "大盘",
         "offsetgroup": "大盘",
         "orientation": "v",
         "showlegend": false,
         "textposition": "outside",
         "texttemplate": "%{value:%.2f}",
         "type": "bar",
         "x": [
          "(0,8]",
          "(8,12]",
          "(12,16]",
          "(16,20]",
          "20s以上"
         ],
         "xaxis": "x4",
         "y": [
          0.7224999999999999,
          0.695,
          0.6924999999999999,
          0.74,
          0.73
         ],
         "yaxis": "y4"
        },
        {
         "alignmentgroup": "True",
         "hovertemplate": "人群=年轻人<br>统计方式=平均<br>指标=完播率<br>视频时长=%{x}<br>统计值=%{y}<extra></extra>",
         "legendgroup": "年轻人",
         "marker": {
          "color": "rgb(150, 210, 164)"
         },
         "name": "年轻人",
         "offsetgroup": "年轻人",
         "orientation": "v",
         "showlegend": true,
         "textposition": "outside",
         "texttemplate": "%{value:%.2f}",
         "type": "bar",
         "x": [
          "(0,8]",
          "(8,12]",
          "(12,16]",
          "(16,20]",
          "20s以上"
         ],
         "xaxis": "x5",
         "y": [
          0.14578131117345317,
          0.10959404753764941,
          0.08275606439088203,
          0.054555555555555565,
          0.04463226600985221
         ],
         "yaxis": "y5"
        },
        {
         "alignmentgroup": "True",
         "hovertemplate": "人群=年轻人<br>统计方式=平均<br>指标=播放完成度<br>视频时长=%{x}<br>统计值=%{y}<extra></extra>",
         "legendgroup": "年轻人",
         "marker": {
          "color": "rgb(150, 210, 164)"
         },
         "name": "年轻人",
         "offsetgroup": "年轻人",
         "orientation": "v",
         "showlegend": false,
         "textposition": "outside",
         "texttemplate": "%{value:%.2f}",
         "type": "bar",
         "x": [
          "(0,8]",
          "(8,12]",
          "(12,16]",
          "(16,20]",
          "20s以上"
         ],
         "xaxis": "x6",
         "y": [
          0.4281349392970641,
          0.37135459914240143,
          0.29899289576798754,
          0.21502592592592584,
          0.17600683632157318
         ],
         "yaxis": "y6"
        },
        {
         "alignmentgroup": "True",
         "hovertemplate": "人群=年轻人<br>统计方式=平均<br>指标=3s快滑率<br>视频时长=%{x}<br>统计值=%{y}<extra></extra>",
         "legendgroup": "年轻人",
         "marker": {
          "color": "rgb(150, 210, 164)"
         },
         "name": "年轻人",
         "offsetgroup": "年轻人",
         "orientation": "v",
         "showlegend": false,
         "textposition": "outside",
         "texttemplate": "%{value:%.2f}",
         "type": "bar",
         "x": [
          "(0,8]",
          "(8,12]",
          "(12,16]",
          "(16,20]",
          "20s以上"
         ],
         "xaxis": "x7",
         "y": [
          0.612701580311266,
          0.5718591531177902,
          0.5795889775668679,
          0.6224074074074074,
          0.6427790829859794
         ],
         "yaxis": "y7"
        },
        {
         "alignmentgroup": "True",
         "hovertemplate": "人群=年轻人<br>统计方式=平均<br>指标=5s快滑率<br>视频时长=%{x}<br>统计值=%{y}<extra></extra>",
         "legendgroup": "年轻人",
         "marker": {
          "color": "rgb(150, 210, 164)"
         },
         "name": "年轻人",
         "offsetgroup": "年轻人",
         "orientation": "v",
         "showlegend": false,
         "textposition": "outside",
         "texttemplate": "%{value:%.2f}",
         "type": "bar",
         "x": [
          "(0,8]",
          "(8,12]",
          "(12,16]",
          "(16,20]",
          "20s以上"
         ],
         "xaxis": "x8",
         "y": [
          0.7444448748153661,
          0.7143484229170404,
          0.7171831760787479,
          0.7705555555555555,
          0.7464969685486927
         ],
         "yaxis": "y8"
        },
        {
         "alignmentgroup": "True",
         "hovertemplate": "人群=年轻人<br>统计方式=中位数<br>指标=完播率<br>视频时长=%{x}<br>统计值=%{y}<extra></extra>",
         "legendgroup": "年轻人",
         "marker": {
          "color": "rgb(150, 210, 164)"
         },
         "name": "年轻人",
         "offsetgroup": "年轻人",
         "orientation": "v",
         "showlegend": false,
         "textposition": "outside",
         "texttemplate": "%{value:%.2f}",
         "type": "bar",
         "x": [
          "(0,8]",
          "(8,12]",
          "(12,16]",
          "(16,20]",
          "20s以上"
         ],
         "xaxis": "x",
         "y": [
          0.14500000000000002,
          0.0975,
          0.059000000000000004,
          0.045,
          0
         ],
         "yaxis": "y"
        },
        {
         "alignmentgroup": "True",
         "hovertemplate": "人群=年轻人<br>统计方式=中位数<br>指标=播放完成度<br>视频时长=%{x}<br>统计值=%{y}<extra></extra>",
         "legendgroup": "年轻人",
         "marker": {
          "color": "rgb(150, 210, 164)"
         },
         "name": "年轻人",
         "offsetgroup": "年轻人",
         "orientation": "v",
         "showlegend": false,
         "textposition": "outside",
         "texttemplate": "%{value:%.2f}",
         "type": "bar",
         "x": [
          "(0,8]",
          "(8,12]",
          "(12,16]",
          "(16,20]",
          "20s以上"
         ],
         "xaxis": "x2",
         "y": [
          0.448425,
          0.37705,
          0.31125,
          0.20305,
          0.1642
         ],
         "yaxis": "y2"
        },
        {
         "alignmentgroup": "True",
         "hovertemplate": "人群=年轻人<br>统计方式=中位数<br>指标=3s快滑率<br>视频时长=%{x}<br>统计值=%{y}<extra></extra>",
         "legendgroup": "年轻人",
         "marker": {
          "color": "rgb(150, 210, 164)"
         },
         "name": "年轻人",
         "offsetgroup": "年轻人",
         "orientation": "v",
         "showlegend": false,
         "textposition": "outside",
         "texttemplate": "%{value:%.2f}",
         "type": "bar",
         "x": [
          "(0,8]",
          "(8,12]",
          "(12,16]",
          "(16,20]",
          "20s以上"
         ],
         "xaxis": "x3",
         "y": [
          0.6,
          0.56,
          0.56,
          0.63,
          0.62
         ],
         "yaxis": "y3"
        },
        {
         "alignmentgroup": "True",
         "hovertemplate": "人群=年轻人<br>统计方式=中位数<br>指标=5s快滑率<br>视频时长=%{x}<br>统计值=%{y}<extra></extra>",
         "legendgroup": "年轻人",
         "marker": {
          "color": "rgb(150, 210, 164)"
         },
         "name": "年轻人",
         "offsetgroup": "年轻人",
         "orientation": "v",
         "showlegend": false,
         "textposition": "outside",
         "texttemplate": "%{value:%.2f}",
         "type": "bar",
         "x": [
          "(0,8]",
          "(8,12]",
          "(12,16]",
          "(16,20]",
          "20s以上"
         ],
         "xaxis": "x4",
         "y": [
          0.7375,
          0.7124999999999999,
          0.7275,
          0.775,
          0.755
         ],
         "yaxis": "y4"
        }
       ],
       "layout": {
        "annotations": [
         {
          "font": {},
          "showarrow": false,
          "text": "指标=完播率",
          "x": 0.11125,
          "xanchor": "center",
          "xref": "paper",
          "y": 1,
          "yanchor": "bottom",
          "yref": "paper"
         },
         {
          "font": {},
          "showarrow": false,
          "text": "指标=播放完成度",
          "x": 0.36375,
          "xanchor": "center",
          "xref": "paper",
          "y": 1,
          "yanchor": "bottom",
          "yref": "paper"
         },
         {
          "font": {},
          "showarrow": false,
          "text": "指标=3s快滑率",
          "x": 0.61625,
          "xanchor": "center",
          "xref": "paper",
          "y": 1,
          "yanchor": "bottom",
          "yref": "paper"
         },
         {
          "font": {},
          "showarrow": false,
          "text": "指标=5s快滑率",
          "x": 0.8687499999999999,
          "xanchor": "center",
          "xref": "paper",
          "y": 1,
          "yanchor": "bottom",
          "yref": "paper"
         },
         {
          "font": {},
          "showarrow": false,
          "text": "统计方式=中位数",
          "textangle": 90,
          "x": 0.98,
          "xanchor": "left",
          "xref": "paper",
          "y": 0.2375,
          "yanchor": "middle",
          "yref": "paper"
         },
         {
          "font": {},
          "showarrow": false,
          "text": "统计方式=平均",
          "textangle": 90,
          "x": 0.98,
          "xanchor": "left",
          "xref": "paper",
          "y": 0.7625,
          "yanchor": "middle",
          "yref": "paper"
         }
        ],
        "bargap": 0.3,
        "bargroupgap": 0,
        "barmode": "group",
        "font": {
         "family": "PingFangSC-Light"
        },
        "height": 800,
        "hovermode": "closest",
        "legend": {
         "title": {
          "text": "人群"
         },
         "tracegroupgap": 0
        },
        "margin": {
         "b": 20,
         "l": 30,
         "r": 30,
         "t": 100
        },
        "template": {
         "data": {
          "bar": [
           {
            "error_x": {
             "color": "rgb(36,36,36)"
            },
            "error_y": {
             "color": "rgb(36,36,36)"
            },
            "marker": {
             "line": {
              "color": "white",
              "width": 0.5
             }
            },
            "type": "bar"
           }
          ],
          "barpolar": [
           {
            "marker": {
             "line": {
              "color": "white",
              "width": 0.5
             }
            },
            "type": "barpolar"
           }
          ],
          "carpet": [
           {
            "aaxis": {
             "endlinecolor": "rgb(36,36,36)",
             "gridcolor": "white",
             "linecolor": "white",
             "minorgridcolor": "white",
             "startlinecolor": "rgb(36,36,36)"
            },
            "baxis": {
             "endlinecolor": "rgb(36,36,36)",
             "gridcolor": "white",
             "linecolor": "white",
             "minorgridcolor": "white",
             "startlinecolor": "rgb(36,36,36)"
            },
            "type": "carpet"
           }
          ],
          "choropleth": [
           {
            "colorbar": {
             "outlinewidth": 1,
             "tickcolor": "rgb(36,36,36)",
             "ticks": "outside"
            },
            "type": "choropleth"
           }
          ],
          "contour": [
           {
            "colorbar": {
             "outlinewidth": 1,
             "tickcolor": "rgb(36,36,36)",
             "ticks": "outside"
            },
            "colorscale": [
             [
              0,
              "#440154"
             ],
             [
              0.1111111111111111,
              "#482878"
             ],
             [
              0.2222222222222222,
              "#3e4989"
             ],
             [
              0.3333333333333333,
              "#31688e"
             ],
             [
              0.4444444444444444,
              "#26828e"
             ],
             [
              0.5555555555555556,
              "#1f9e89"
             ],
             [
              0.6666666666666666,
              "#35b779"
             ],
             [
              0.7777777777777778,
              "#6ece58"
             ],
             [
              0.8888888888888888,
              "#b5de2b"
             ],
             [
              1,
              "#fde725"
             ]
            ],
            "type": "contour"
           }
          ],
          "contourcarpet": [
           {
            "colorbar": {
             "outlinewidth": 1,
             "tickcolor": "rgb(36,36,36)",
             "ticks": "outside"
            },
            "type": "contourcarpet"
           }
          ],
          "heatmap": [
           {
            "colorbar": {
             "outlinewidth": 1,
             "tickcolor": "rgb(36,36,36)",
             "ticks": "outside"
            },
            "colorscale": [
             [
              0,
              "#440154"
             ],
             [
              0.1111111111111111,
              "#482878"
             ],
             [
              0.2222222222222222,
              "#3e4989"
             ],
             [
              0.3333333333333333,
              "#31688e"
             ],
             [
              0.4444444444444444,
              "#26828e"
             ],
             [
              0.5555555555555556,
              "#1f9e89"
             ],
             [
              0.6666666666666666,
              "#35b779"
             ],
             [
              0.7777777777777778,
              "#6ece58"
             ],
             [
              0.8888888888888888,
              "#b5de2b"
             ],
             [
              1,
              "#fde725"
             ]
            ],
            "type": "heatmap"
           }
          ],
          "heatmapgl": [
           {
            "colorbar": {
             "outlinewidth": 1,
             "tickcolor": "rgb(36,36,36)",
             "ticks": "outside"
            },
            "colorscale": [
             [
              0,
              "#440154"
             ],
             [
              0.1111111111111111,
              "#482878"
             ],
             [
              0.2222222222222222,
              "#3e4989"
             ],
             [
              0.3333333333333333,
              "#31688e"
             ],
             [
              0.4444444444444444,
              "#26828e"
             ],
             [
              0.5555555555555556,
              "#1f9e89"
             ],
             [
              0.6666666666666666,
              "#35b779"
             ],
             [
              0.7777777777777778,
              "#6ece58"
             ],
             [
              0.8888888888888888,
              "#b5de2b"
             ],
             [
              1,
              "#fde725"
             ]
            ],
            "type": "heatmapgl"
           }
          ],
          "histogram": [
           {
            "marker": {
             "line": {
              "color": "white",
              "width": 0.6
             }
            },
            "type": "histogram"
           }
          ],
          "histogram2d": [
           {
            "colorbar": {
             "outlinewidth": 1,
             "tickcolor": "rgb(36,36,36)",
             "ticks": "outside"
            },
            "colorscale": [
             [
              0,
              "#440154"
             ],
             [
              0.1111111111111111,
              "#482878"
             ],
             [
              0.2222222222222222,
              "#3e4989"
             ],
             [
              0.3333333333333333,
              "#31688e"
             ],
             [
              0.4444444444444444,
              "#26828e"
             ],
             [
              0.5555555555555556,
              "#1f9e89"
             ],
             [
              0.6666666666666666,
              "#35b779"
             ],
             [
              0.7777777777777778,
              "#6ece58"
             ],
             [
              0.8888888888888888,
              "#b5de2b"
             ],
             [
              1,
              "#fde725"
             ]
            ],
            "type": "histogram2d"
           }
          ],
          "histogram2dcontour": [
           {
            "colorbar": {
             "outlinewidth": 1,
             "tickcolor": "rgb(36,36,36)",
             "ticks": "outside"
            },
            "colorscale": [
             [
              0,
              "#440154"
             ],
             [
              0.1111111111111111,
              "#482878"
             ],
             [
              0.2222222222222222,
              "#3e4989"
             ],
             [
              0.3333333333333333,
              "#31688e"
             ],
             [
              0.4444444444444444,
              "#26828e"
             ],
             [
              0.5555555555555556,
              "#1f9e89"
             ],
             [
              0.6666666666666666,
              "#35b779"
             ],
             [
              0.7777777777777778,
              "#6ece58"
             ],
             [
              0.8888888888888888,
              "#b5de2b"
             ],
             [
              1,
              "#fde725"
             ]
            ],
            "type": "histogram2dcontour"
           }
          ],
          "mesh3d": [
           {
            "colorbar": {
             "outlinewidth": 1,
             "tickcolor": "rgb(36,36,36)",
             "ticks": "outside"
            },
            "type": "mesh3d"
           }
          ],
          "parcoords": [
           {
            "line": {
             "colorbar": {
              "outlinewidth": 1,
              "tickcolor": "rgb(36,36,36)",
              "ticks": "outside"
             }
            },
            "type": "parcoords"
           }
          ],
          "pie": [
           {
            "automargin": true,
            "type": "pie"
           }
          ],
          "scatter": [
           {
            "marker": {
             "colorbar": {
              "outlinewidth": 1,
              "tickcolor": "rgb(36,36,36)",
              "ticks": "outside"
             }
            },
            "type": "scatter"
           }
          ],
          "scatter3d": [
           {
            "line": {
             "colorbar": {
              "outlinewidth": 1,
              "tickcolor": "rgb(36,36,36)",
              "ticks": "outside"
             }
            },
            "marker": {
             "colorbar": {
              "outlinewidth": 1,
              "tickcolor": "rgb(36,36,36)",
              "ticks": "outside"
             }
            },
            "type": "scatter3d"
           }
          ],
          "scattercarpet": [
           {
            "marker": {
             "colorbar": {
              "outlinewidth": 1,
              "tickcolor": "rgb(36,36,36)",
              "ticks": "outside"
             }
            },
            "type": "scattercarpet"
           }
          ],
          "scattergeo": [
           {
            "marker": {
             "colorbar": {
              "outlinewidth": 1,
              "tickcolor": "rgb(36,36,36)",
              "ticks": "outside"
             }
            },
            "type": "scattergeo"
           }
          ],
          "scattergl": [
           {
            "marker": {
             "colorbar": {
              "outlinewidth": 1,
              "tickcolor": "rgb(36,36,36)",
              "ticks": "outside"
             }
            },
            "type": "scattergl"
           }
          ],
          "scattermapbox": [
           {
            "marker": {
             "colorbar": {
              "outlinewidth": 1,
              "tickcolor": "rgb(36,36,36)",
              "ticks": "outside"
             }
            },
            "type": "scattermapbox"
           }
          ],
          "scatterpolar": [
           {
            "marker": {
             "colorbar": {
              "outlinewidth": 1,
              "tickcolor": "rgb(36,36,36)",
              "ticks": "outside"
             }
            },
            "type": "scatterpolar"
           }
          ],
          "scatterpolargl": [
           {
            "marker": {
             "colorbar": {
              "outlinewidth": 1,
              "tickcolor": "rgb(36,36,36)",
              "ticks": "outside"
             }
            },
            "type": "scatterpolargl"
           }
          ],
          "scatterternary": [
           {
            "marker": {
             "colorbar": {
              "outlinewidth": 1,
              "tickcolor": "rgb(36,36,36)",
              "ticks": "outside"
             }
            },
            "type": "scatterternary"
           }
          ],
          "surface": [
           {
            "colorbar": {
             "outlinewidth": 1,
             "tickcolor": "rgb(36,36,36)",
             "ticks": "outside"
            },
            "colorscale": [
             [
              0,
              "#440154"
             ],
             [
              0.1111111111111111,
              "#482878"
             ],
             [
              0.2222222222222222,
              "#3e4989"
             ],
             [
              0.3333333333333333,
              "#31688e"
             ],
             [
              0.4444444444444444,
              "#26828e"
             ],
             [
              0.5555555555555556,
              "#1f9e89"
             ],
             [
              0.6666666666666666,
              "#35b779"
             ],
             [
              0.7777777777777778,
              "#6ece58"
             ],
             [
              0.8888888888888888,
              "#b5de2b"
             ],
             [
              1,
              "#fde725"
             ]
            ],
            "type": "surface"
           }
          ],
          "table": [
           {
            "cells": {
             "fill": {
              "color": "rgb(237,237,237)"
             },
             "line": {
              "color": "white"
             }
            },
            "header": {
             "fill": {
              "color": "rgb(217,217,217)"
             },
             "line": {
              "color": "white"
             }
            },
            "type": "table"
           }
          ]
         },
         "layout": {
          "annotationdefaults": {
           "arrowhead": 0,
           "arrowwidth": 1
          },
          "autotypenumbers": "strict",
          "coloraxis": {
           "colorbar": {
            "outlinewidth": 1,
            "tickcolor": "rgb(36,36,36)",
            "ticks": "outside"
           }
          },
          "colorscale": {
           "diverging": [
            [
             0,
             "rgb(103,0,31)"
            ],
            [
             0.1,
             "rgb(178,24,43)"
            ],
            [
             0.2,
             "rgb(214,96,77)"
            ],
            [
             0.3,
             "rgb(244,165,130)"
            ],
            [
             0.4,
             "rgb(253,219,199)"
            ],
            [
             0.5,
             "rgb(247,247,247)"
            ],
            [
             0.6,
             "rgb(209,229,240)"
            ],
            [
             0.7,
             "rgb(146,197,222)"
            ],
            [
             0.8,
             "rgb(67,147,195)"
            ],
            [
             0.9,
             "rgb(33,102,172)"
            ],
            [
             1,
             "rgb(5,48,97)"
            ]
           ],
           "sequential": [
            [
             0,
             "#440154"
            ],
            [
             0.1111111111111111,
             "#482878"
            ],
            [
             0.2222222222222222,
             "#3e4989"
            ],
            [
             0.3333333333333333,
             "#31688e"
            ],
            [
             0.4444444444444444,
             "#26828e"
            ],
            [
             0.5555555555555556,
             "#1f9e89"
            ],
            [
             0.6666666666666666,
             "#35b779"
            ],
            [
             0.7777777777777778,
             "#6ece58"
            ],
            [
             0.8888888888888888,
             "#b5de2b"
            ],
            [
             1,
             "#fde725"
            ]
           ],
           "sequentialminus": [
            [
             0,
             "#440154"
            ],
            [
             0.1111111111111111,
             "#482878"
            ],
            [
             0.2222222222222222,
             "#3e4989"
            ],
            [
             0.3333333333333333,
             "#31688e"
            ],
            [
             0.4444444444444444,
             "#26828e"
            ],
            [
             0.5555555555555556,
             "#1f9e89"
            ],
            [
             0.6666666666666666,
             "#35b779"
            ],
            [
             0.7777777777777778,
             "#6ece58"
            ],
            [
             0.8888888888888888,
             "#b5de2b"
            ],
            [
             1,
             "#fde725"
            ]
           ]
          },
          "colorway": [
           "#1F77B4",
           "#FF7F0E",
           "#2CA02C",
           "#D62728",
           "#9467BD",
           "#8C564B",
           "#E377C2",
           "#7F7F7F",
           "#BCBD22",
           "#17BECF"
          ],
          "font": {
           "color": "rgb(36,36,36)"
          },
          "geo": {
           "bgcolor": "white",
           "lakecolor": "white",
           "landcolor": "white",
           "showlakes": true,
           "showland": true,
           "subunitcolor": "white"
          },
          "hoverlabel": {
           "align": "left"
          },
          "hovermode": "closest",
          "mapbox": {
           "style": "light"
          },
          "paper_bgcolor": "white",
          "plot_bgcolor": "white",
          "polar": {
           "angularaxis": {
            "gridcolor": "rgb(232,232,232)",
            "linecolor": "rgb(36,36,36)",
            "showgrid": false,
            "showline": true,
            "ticks": "outside"
           },
           "bgcolor": "white",
           "radialaxis": {
            "gridcolor": "rgb(232,232,232)",
            "linecolor": "rgb(36,36,36)",
            "showgrid": false,
            "showline": true,
            "ticks": "outside"
           }
          },
          "scene": {
           "xaxis": {
            "backgroundcolor": "white",
            "gridcolor": "rgb(232,232,232)",
            "gridwidth": 2,
            "linecolor": "rgb(36,36,36)",
            "showbackground": true,
            "showgrid": false,
            "showline": true,
            "ticks": "outside",
            "zeroline": false,
            "zerolinecolor": "rgb(36,36,36)"
           },
           "yaxis": {
            "backgroundcolor": "white",
            "gridcolor": "rgb(232,232,232)",
            "gridwidth": 2,
            "linecolor": "rgb(36,36,36)",
            "showbackground": true,
            "showgrid": false,
            "showline": true,
            "ticks": "outside",
            "zeroline": false,
            "zerolinecolor": "rgb(36,36,36)"
           },
           "zaxis": {
            "backgroundcolor": "white",
            "gridcolor": "rgb(232,232,232)",
            "gridwidth": 2,
            "linecolor": "rgb(36,36,36)",
            "showbackground": true,
            "showgrid": false,
            "showline": true,
            "ticks": "outside",
            "zeroline": false,
            "zerolinecolor": "rgb(36,36,36)"
           }
          },
          "shapedefaults": {
           "fillcolor": "black",
           "line": {
            "width": 0
           },
           "opacity": 0.3
          },
          "ternary": {
           "aaxis": {
            "gridcolor": "rgb(232,232,232)",
            "linecolor": "rgb(36,36,36)",
            "showgrid": false,
            "showline": true,
            "ticks": "outside"
           },
           "baxis": {
            "gridcolor": "rgb(232,232,232)",
            "linecolor": "rgb(36,36,36)",
            "showgrid": false,
            "showline": true,
            "ticks": "outside"
           },
           "bgcolor": "white",
           "caxis": {
            "gridcolor": "rgb(232,232,232)",
            "linecolor": "rgb(36,36,36)",
            "showgrid": false,
            "showline": true,
            "ticks": "outside"
           }
          },
          "title": {
           "x": 0.05
          },
          "xaxis": {
           "automargin": true,
           "gridcolor": "rgb(232,232,232)",
           "linecolor": "rgb(36,36,36)",
           "showgrid": false,
           "showline": true,
           "ticks": "outside",
           "title": {
            "standoff": 15
           },
           "zeroline": false,
           "zerolinecolor": "rgb(36,36,36)"
          },
          "yaxis": {
           "automargin": true,
           "gridcolor": "rgb(232,232,232)",
           "linecolor": "rgb(36,36,36)",
           "showgrid": false,
           "showline": true,
           "ticks": "outside",
           "title": {
            "standoff": 15
           },
           "zeroline": false,
           "zerolinecolor": "rgb(36,36,36)"
          }
         }
        },
        "title": {
         "font": {
          "size": 16
         },
         "text": "视频时长_消费指标对比",
         "x": 0.5,
         "xref": "paper"
        },
        "width": 1200,
        "xaxis": {
         "anchor": "y",
         "domain": [
          0,
          0.2225
         ],
         "title": {
          "text": "视频时长"
         }
        },
        "xaxis2": {
         "anchor": "y2",
         "domain": [
          0.2525,
          0.475
         ],
         "matches": "x",
         "title": {
          "text": "视频时长"
         }
        },
        "xaxis3": {
         "anchor": "y3",
         "domain": [
          0.505,
          0.7275
         ],
         "matches": "x",
         "title": {
          "text": "视频时长"
         }
        },
        "xaxis4": {
         "anchor": "y4",
         "domain": [
          0.7575,
          0.98
         ],
         "matches": "x",
         "title": {
          "text": "视频时长"
         }
        },
        "xaxis5": {
         "anchor": "y5",
         "domain": [
          0,
          0.2225
         ],
         "matches": "x",
         "showticklabels": false
        },
        "xaxis6": {
         "anchor": "y6",
         "domain": [
          0.2525,
          0.475
         ],
         "matches": "x",
         "showticklabels": false
        },
        "xaxis7": {
         "anchor": "y7",
         "domain": [
          0.505,
          0.7275
         ],
         "matches": "x",
         "showticklabels": false
        },
        "xaxis8": {
         "anchor": "y8",
         "domain": [
          0.7575,
          0.98
         ],
         "matches": "x",
         "showticklabels": false
        },
        "yaxis": {
         "anchor": "x",
         "domain": [
          0,
          0.475
         ],
         "showgrid": true,
         "title": {
          "text": "统计值"
         }
        },
        "yaxis2": {
         "anchor": "x2",
         "domain": [
          0,
          0.475
         ],
         "matches": "y",
         "showgrid": true,
         "showticklabels": false
        },
        "yaxis3": {
         "anchor": "x3",
         "domain": [
          0,
          0.475
         ],
         "matches": "y",
         "showgrid": true,
         "showticklabels": false
        },
        "yaxis4": {
         "anchor": "x4",
         "domain": [
          0,
          0.475
         ],
         "matches": "y",
         "showgrid": true,
         "showticklabels": false
        },
        "yaxis5": {
         "anchor": "x5",
         "domain": [
          0.525,
          1
         ],
         "matches": "y",
         "showgrid": true,
         "title": {
          "text": "统计值"
         }
        },
        "yaxis6": {
         "anchor": "x6",
         "domain": [
          0.525,
          1
         ],
         "matches": "y",
         "showgrid": true,
         "showticklabels": false
        },
        "yaxis7": {
         "anchor": "x7",
         "domain": [
          0.525,
          1
         ],
         "matches": "y",
         "showgrid": true,
         "showticklabels": false
        },
        "yaxis8": {
         "anchor": "x8",
         "domain": [
          0.525,
          1
         ],
         "matches": "y",
         "showgrid": true,
         "showticklabels": false
        }
       }
      },
      "text/html": "<div>                            <div id=\"60276b34-29db-438e-9fe2-76f408bfa992\" class=\"plotly-graph-div\" style=\"height:800px; width:1200px;\"></div>            <script type=\"text/javascript\">                require([\"plotly\"], function(Plotly) {                    window.PLOTLYENV=window.PLOTLYENV || {};                                    if (document.getElementById(\"60276b34-29db-438e-9fe2-76f408bfa992\")) {                    Plotly.newPlot(                        \"60276b34-29db-438e-9fe2-76f408bfa992\",                        [{\"alignmentgroup\": \"True\", \"hovertemplate\": \"\\u4eba\\u7fa4=\\u5927\\u76d8<br>\\u7edf\\u8ba1\\u65b9\\u5f0f=\\u5e73\\u5747<br>\\u6307\\u6807=\\u5b8c\\u64ad\\u7387<br>\\u89c6\\u9891\\u65f6\\u957f=%{x}<br>\\u7edf\\u8ba1\\u503c=%{y}<extra></extra>\", \"legendgroup\": \"\\u5927\\u76d8\", \"marker\": {\"color\": \"rgb(196, 230, 195)\"}, \"name\": \"\\u5927\\u76d8\", \"offsetgroup\": \"\\u5927\\u76d8\", \"orientation\": \"v\", \"showlegend\": true, \"textposition\": \"outside\", \"texttemplate\": \"%{value:%.2f}\", \"type\": \"bar\", \"x\": [\"(0,8]\", \"(8,12]\", \"(12,16]\", \"(16,20]\", \"20s\\u4ee5\\u4e0a\"], \"xaxis\": \"x5\", \"y\": [0.17504434193809723, 0.12204995247468939, 0.10011814637826963, 0.07592957746478873, 0.05609114845938375], \"yaxis\": \"y5\"}, {\"alignmentgroup\": \"True\", \"hovertemplate\": \"\\u4eba\\u7fa4=\\u5927\\u76d8<br>\\u7edf\\u8ba1\\u65b9\\u5f0f=\\u5e73\\u5747<br>\\u6307\\u6807=\\u64ad\\u653e\\u5b8c\\u6210\\u5ea6<br>\\u89c6\\u9891\\u65f6\\u957f=%{x}<br>\\u7edf\\u8ba1\\u503c=%{y}<extra></extra>\", \"legendgroup\": \"\\u5927\\u76d8\", \"marker\": {\"color\": \"rgb(196, 230, 195)\"}, \"name\": \"\\u5927\\u76d8\", \"offsetgroup\": \"\\u5927\\u76d8\", \"orientation\": \"v\", \"showlegend\": false, \"textposition\": \"outside\", \"texttemplate\": \"%{value:%.2f}\", \"type\": \"bar\", \"x\": [\"(0,8]\", \"(8,12]\", \"(12,16]\", \"(16,20]\", \"20s\\u4ee5\\u4e0a\"], \"xaxis\": \"x6\", \"y\": [0.4539162867798823, 0.3860222739257032, 0.32803973214285714, 0.2623901408450704, 0.18869838765071245], \"yaxis\": \"y6\"}, {\"alignmentgroup\": \"True\", \"hovertemplate\": \"\\u4eba\\u7fa4=\\u5927\\u76d8<br>\\u7edf\\u8ba1\\u65b9\\u5f0f=\\u5e73\\u5747<br>\\u6307\\u6807=3s\\u5feb\\u6ed1\\u7387<br>\\u89c6\\u9891\\u65f6\\u957f=%{x}<br>\\u7edf\\u8ba1\\u503c=%{y}<extra></extra>\", \"legendgroup\": \"\\u5927\\u76d8\", \"marker\": {\"color\": \"rgb(196, 230, 195)\"}, \"name\": \"\\u5927\\u76d8\", \"offsetgroup\": \"\\u5927\\u76d8\", \"orientation\": \"v\", \"showlegend\": false, \"textposition\": \"outside\", \"texttemplate\": \"%{value:%.2f}\", \"type\": \"bar\", \"x\": [\"(0,8]\", \"(8,12]\", \"(12,16]\", \"(16,20]\", \"20s\\u4ee5\\u4e0a\"], \"xaxis\": \"x7\", \"y\": [0.5847851305013566, 0.5514199754051315, 0.543100589649005, 0.5478873239436619, 0.6108939106077214], \"yaxis\": \"y7\"}, {\"alignmentgroup\": \"True\", \"hovertemplate\": \"\\u4eba\\u7fa4=\\u5927\\u76d8<br>\\u7edf\\u8ba1\\u65b9\\u5f0f=\\u5e73\\u5747<br>\\u6307\\u6807=5s\\u5feb\\u6ed1\\u7387<br>\\u89c6\\u9891\\u65f6\\u957f=%{x}<br>\\u7edf\\u8ba1\\u503c=%{y}<extra></extra>\", \"legendgroup\": \"\\u5927\\u76d8\", \"marker\": {\"color\": \"rgb(196, 230, 195)\"}, \"name\": \"\\u5927\\u76d8\", \"offsetgroup\": \"\\u5927\\u76d8\", \"orientation\": \"v\", \"showlegend\": false, \"textposition\": \"outside\", \"texttemplate\": \"%{value:%.2f}\", \"type\": \"bar\", \"x\": [\"(0,8]\", \"(8,12]\", \"(12,16]\", \"(16,20]\", \"20s\\u4ee5\\u4e0a\"], \"xaxis\": \"x8\", \"y\": [0.714863217281737, 0.6944998630522646, 0.6853939330427006, 0.7319718309859156, 0.7285367068566557], \"yaxis\": \"y8\"}, {\"alignmentgroup\": \"True\", \"hovertemplate\": \"\\u4eba\\u7fa4=\\u5927\\u76d8<br>\\u7edf\\u8ba1\\u65b9\\u5f0f=\\u4e2d\\u4f4d\\u6570<br>\\u6307\\u6807=\\u5b8c\\u64ad\\u7387<br>\\u89c6\\u9891\\u65f6\\u957f=%{x}<br>\\u7edf\\u8ba1\\u503c=%{y}<extra></extra>\", \"legendgroup\": \"\\u5927\\u76d8\", \"marker\": {\"color\": \"rgb(196, 230, 195)\"}, \"name\": \"\\u5927\\u76d8\", \"offsetgroup\": \"\\u5927\\u76d8\", \"orientation\": \"v\", \"showlegend\": false, \"textposition\": \"outside\", \"texttemplate\": \"%{value:%.2f}\", \"type\": \"bar\", \"x\": [\"(0,8]\", \"(8,12]\", \"(12,16]\", \"(16,20]\", \"20s\\u4ee5\\u4e0a\"], \"xaxis\": \"x\", \"y\": [0.16775, 0.125, 0.08374999999999999, 0.067, 0.0335], \"yaxis\": \"y\"}, {\"alignmentgroup\": \"True\", \"hovertemplate\": \"\\u4eba\\u7fa4=\\u5927\\u76d8<br>\\u7edf\\u8ba1\\u65b9\\u5f0f=\\u4e2d\\u4f4d\\u6570<br>\\u6307\\u6807=\\u64ad\\u653e\\u5b8c\\u6210\\u5ea6<br>\\u89c6\\u9891\\u65f6\\u957f=%{x}<br>\\u7edf\\u8ba1\\u503c=%{y}<extra></extra>\", \"legendgroup\": \"\\u5927\\u76d8\", \"marker\": {\"color\": \"rgb(196, 230, 195)\"}, \"name\": \"\\u5927\\u76d8\", \"offsetgroup\": \"\\u5927\\u76d8\", \"orientation\": \"v\", \"showlegend\": false, \"textposition\": \"outside\", \"texttemplate\": \"%{value:%.2f}\", \"type\": \"bar\", \"x\": [\"(0,8]\", \"(8,12]\", \"(12,16]\", \"(16,20]\", \"20s\\u4ee5\\u4e0a\"], \"xaxis\": \"x2\", \"y\": [0.4446, 0.38412499999999994, 0.3264, 0.2486, 0.1833], \"yaxis\": \"y2\"}, {\"alignmentgroup\": \"True\", \"hovertemplate\": \"\\u4eba\\u7fa4=\\u5927\\u76d8<br>\\u7edf\\u8ba1\\u65b9\\u5f0f=\\u4e2d\\u4f4d\\u6570<br>\\u6307\\u6807=3s\\u5feb\\u6ed1\\u7387<br>\\u89c6\\u9891\\u65f6\\u957f=%{x}<br>\\u7edf\\u8ba1\\u503c=%{y}<extra></extra>\", \"legendgroup\": \"\\u5927\\u76d8\", \"marker\": {\"color\": \"rgb(196, 230, 195)\"}, \"name\": \"\\u5927\\u76d8\", \"offsetgroup\": \"\\u5927\\u76d8\", \"orientation\": \"v\", \"showlegend\": false, \"textposition\": \"outside\", \"texttemplate\": \"%{value:%.2f}\", \"type\": \"bar\", \"x\": [\"(0,8]\", \"(8,12]\", \"(12,16]\", \"(16,20]\", \"20s\\u4ee5\\u4e0a\"], \"xaxis\": \"x3\", \"y\": [0.59, 0.5525, 0.54, 0.57, 0.61], \"yaxis\": \"y3\"}, {\"alignmentgroup\": \"True\", \"hovertemplate\": \"\\u4eba\\u7fa4=\\u5927\\u76d8<br>\\u7edf\\u8ba1\\u65b9\\u5f0f=\\u4e2d\\u4f4d\\u6570<br>\\u6307\\u6807=5s\\u5feb\\u6ed1\\u7387<br>\\u89c6\\u9891\\u65f6\\u957f=%{x}<br>\\u7edf\\u8ba1\\u503c=%{y}<extra></extra>\", \"legendgroup\": \"\\u5927\\u76d8\", \"marker\": {\"color\": \"rgb(196, 230, 195)\"}, \"name\": \"\\u5927\\u76d8\", \"offsetgroup\": \"\\u5927\\u76d8\", \"orientation\": \"v\", \"showlegend\": false, \"textposition\": \"outside\", \"texttemplate\": \"%{value:%.2f}\", \"type\": \"bar\", \"x\": [\"(0,8]\", \"(8,12]\", \"(12,16]\", \"(16,20]\", \"20s\\u4ee5\\u4e0a\"], \"xaxis\": \"x4\", \"y\": [0.7224999999999999, 0.695, 0.6924999999999999, 0.74, 0.73], \"yaxis\": \"y4\"}, {\"alignmentgroup\": \"True\", \"hovertemplate\": \"\\u4eba\\u7fa4=\\u5e74\\u8f7b\\u4eba<br>\\u7edf\\u8ba1\\u65b9\\u5f0f=\\u5e73\\u5747<br>\\u6307\\u6807=\\u5b8c\\u64ad\\u7387<br>\\u89c6\\u9891\\u65f6\\u957f=%{x}<br>\\u7edf\\u8ba1\\u503c=%{y}<extra></extra>\", \"legendgroup\": \"\\u5e74\\u8f7b\\u4eba\", \"marker\": {\"color\": \"rgb(150, 210, 164)\"}, \"name\": \"\\u5e74\\u8f7b\\u4eba\", \"offsetgroup\": \"\\u5e74\\u8f7b\\u4eba\", \"orientation\": \"v\", \"showlegend\": true, \"textposition\": \"outside\", \"texttemplate\": \"%{value:%.2f}\", \"type\": \"bar\", \"x\": [\"(0,8]\", \"(8,12]\", \"(12,16]\", \"(16,20]\", \"20s\\u4ee5\\u4e0a\"], \"xaxis\": \"x5\", \"y\": [0.14578131117345317, 0.10959404753764941, 0.08275606439088203, 0.054555555555555565, 0.04463226600985221], \"yaxis\": \"y5\"}, {\"alignmentgroup\": \"True\", \"hovertemplate\": \"\\u4eba\\u7fa4=\\u5e74\\u8f7b\\u4eba<br>\\u7edf\\u8ba1\\u65b9\\u5f0f=\\u5e73\\u5747<br>\\u6307\\u6807=\\u64ad\\u653e\\u5b8c\\u6210\\u5ea6<br>\\u89c6\\u9891\\u65f6\\u957f=%{x}<br>\\u7edf\\u8ba1\\u503c=%{y}<extra></extra>\", \"legendgroup\": \"\\u5e74\\u8f7b\\u4eba\", \"marker\": {\"color\": \"rgb(150, 210, 164)\"}, \"name\": \"\\u5e74\\u8f7b\\u4eba\", \"offsetgroup\": \"\\u5e74\\u8f7b\\u4eba\", \"orientation\": \"v\", \"showlegend\": false, \"textposition\": \"outside\", \"texttemplate\": \"%{value:%.2f}\", \"type\": \"bar\", \"x\": [\"(0,8]\", \"(8,12]\", \"(12,16]\", \"(16,20]\", \"20s\\u4ee5\\u4e0a\"], \"xaxis\": \"x6\", \"y\": [0.4281349392970641, 0.37135459914240143, 0.29899289576798754, 0.21502592592592584, 0.17600683632157318], \"yaxis\": \"y6\"}, {\"alignmentgroup\": \"True\", \"hovertemplate\": \"\\u4eba\\u7fa4=\\u5e74\\u8f7b\\u4eba<br>\\u7edf\\u8ba1\\u65b9\\u5f0f=\\u5e73\\u5747<br>\\u6307\\u6807=3s\\u5feb\\u6ed1\\u7387<br>\\u89c6\\u9891\\u65f6\\u957f=%{x}<br>\\u7edf\\u8ba1\\u503c=%{y}<extra></extra>\", \"legendgroup\": \"\\u5e74\\u8f7b\\u4eba\", \"marker\": {\"color\": \"rgb(150, 210, 164)\"}, \"name\": \"\\u5e74\\u8f7b\\u4eba\", \"offsetgroup\": \"\\u5e74\\u8f7b\\u4eba\", \"orientation\": \"v\", \"showlegend\": false, \"textposition\": \"outside\", \"texttemplate\": \"%{value:%.2f}\", \"type\": \"bar\", \"x\": [\"(0,8]\", \"(8,12]\", \"(12,16]\", \"(16,20]\", \"20s\\u4ee5\\u4e0a\"], \"xaxis\": \"x7\", \"y\": [0.612701580311266, 0.5718591531177902, 0.5795889775668679, 0.6224074074074074, 0.6427790829859794], \"yaxis\": \"y7\"}, {\"alignmentgroup\": \"True\", \"hovertemplate\": \"\\u4eba\\u7fa4=\\u5e74\\u8f7b\\u4eba<br>\\u7edf\\u8ba1\\u65b9\\u5f0f=\\u5e73\\u5747<br>\\u6307\\u6807=5s\\u5feb\\u6ed1\\u7387<br>\\u89c6\\u9891\\u65f6\\u957f=%{x}<br>\\u7edf\\u8ba1\\u503c=%{y}<extra></extra>\", \"legendgroup\": \"\\u5e74\\u8f7b\\u4eba\", \"marker\": {\"color\": \"rgb(150, 210, 164)\"}, \"name\": \"\\u5e74\\u8f7b\\u4eba\", \"offsetgroup\": \"\\u5e74\\u8f7b\\u4eba\", \"orientation\": \"v\", \"showlegend\": false, \"textposition\": \"outside\", \"texttemplate\": \"%{value:%.2f}\", \"type\": \"bar\", \"x\": [\"(0,8]\", \"(8,12]\", \"(12,16]\", \"(16,20]\", \"20s\\u4ee5\\u4e0a\"], \"xaxis\": \"x8\", \"y\": [0.7444448748153661, 0.7143484229170404, 0.7171831760787479, 0.7705555555555555, 0.7464969685486927], \"yaxis\": \"y8\"}, {\"alignmentgroup\": \"True\", \"hovertemplate\": \"\\u4eba\\u7fa4=\\u5e74\\u8f7b\\u4eba<br>\\u7edf\\u8ba1\\u65b9\\u5f0f=\\u4e2d\\u4f4d\\u6570<br>\\u6307\\u6807=\\u5b8c\\u64ad\\u7387<br>\\u89c6\\u9891\\u65f6\\u957f=%{x}<br>\\u7edf\\u8ba1\\u503c=%{y}<extra></extra>\", \"legendgroup\": \"\\u5e74\\u8f7b\\u4eba\", \"marker\": {\"color\": \"rgb(150, 210, 164)\"}, \"name\": \"\\u5e74\\u8f7b\\u4eba\", \"offsetgroup\": \"\\u5e74\\u8f7b\\u4eba\", \"orientation\": \"v\", \"showlegend\": false, \"textposition\": \"outside\", \"texttemplate\": \"%{value:%.2f}\", \"type\": \"bar\", \"x\": [\"(0,8]\", \"(8,12]\", \"(12,16]\", \"(16,20]\", \"20s\\u4ee5\\u4e0a\"], \"xaxis\": \"x\", \"y\": [0.14500000000000002, 0.0975, 0.059000000000000004, 0.045, 0.0], \"yaxis\": \"y\"}, {\"alignmentgroup\": \"True\", \"hovertemplate\": \"\\u4eba\\u7fa4=\\u5e74\\u8f7b\\u4eba<br>\\u7edf\\u8ba1\\u65b9\\u5f0f=\\u4e2d\\u4f4d\\u6570<br>\\u6307\\u6807=\\u64ad\\u653e\\u5b8c\\u6210\\u5ea6<br>\\u89c6\\u9891\\u65f6\\u957f=%{x}<br>\\u7edf\\u8ba1\\u503c=%{y}<extra></extra>\", \"legendgroup\": \"\\u5e74\\u8f7b\\u4eba\", \"marker\": {\"color\": \"rgb(150, 210, 164)\"}, \"name\": \"\\u5e74\\u8f7b\\u4eba\", \"offsetgroup\": \"\\u5e74\\u8f7b\\u4eba\", \"orientation\": \"v\", \"showlegend\": false, \"textposition\": \"outside\", \"texttemplate\": \"%{value:%.2f}\", \"type\": \"bar\", \"x\": [\"(0,8]\", \"(8,12]\", \"(12,16]\", \"(16,20]\", \"20s\\u4ee5\\u4e0a\"], \"xaxis\": \"x2\", \"y\": [0.448425, 0.37705, 0.31125, 0.20305, 0.1642], \"yaxis\": \"y2\"}, {\"alignmentgroup\": \"True\", \"hovertemplate\": \"\\u4eba\\u7fa4=\\u5e74\\u8f7b\\u4eba<br>\\u7edf\\u8ba1\\u65b9\\u5f0f=\\u4e2d\\u4f4d\\u6570<br>\\u6307\\u6807=3s\\u5feb\\u6ed1\\u7387<br>\\u89c6\\u9891\\u65f6\\u957f=%{x}<br>\\u7edf\\u8ba1\\u503c=%{y}<extra></extra>\", \"legendgroup\": \"\\u5e74\\u8f7b\\u4eba\", \"marker\": {\"color\": \"rgb(150, 210, 164)\"}, \"name\": \"\\u5e74\\u8f7b\\u4eba\", \"offsetgroup\": \"\\u5e74\\u8f7b\\u4eba\", \"orientation\": \"v\", \"showlegend\": false, \"textposition\": \"outside\", \"texttemplate\": \"%{value:%.2f}\", \"type\": \"bar\", \"x\": [\"(0,8]\", \"(8,12]\", \"(12,16]\", \"(16,20]\", \"20s\\u4ee5\\u4e0a\"], \"xaxis\": \"x3\", \"y\": [0.6, 0.56, 0.56, 0.63, 0.62], \"yaxis\": \"y3\"}, {\"alignmentgroup\": \"True\", \"hovertemplate\": \"\\u4eba\\u7fa4=\\u5e74\\u8f7b\\u4eba<br>\\u7edf\\u8ba1\\u65b9\\u5f0f=\\u4e2d\\u4f4d\\u6570<br>\\u6307\\u6807=5s\\u5feb\\u6ed1\\u7387<br>\\u89c6\\u9891\\u65f6\\u957f=%{x}<br>\\u7edf\\u8ba1\\u503c=%{y}<extra></extra>\", \"legendgroup\": \"\\u5e74\\u8f7b\\u4eba\", \"marker\": {\"color\": \"rgb(150, 210, 164)\"}, \"name\": \"\\u5e74\\u8f7b\\u4eba\", \"offsetgroup\": \"\\u5e74\\u8f7b\\u4eba\", \"orientation\": \"v\", \"showlegend\": false, \"textposition\": \"outside\", \"texttemplate\": \"%{value:%.2f}\", \"type\": \"bar\", \"x\": [\"(0,8]\", \"(8,12]\", \"(12,16]\", \"(16,20]\", \"20s\\u4ee5\\u4e0a\"], \"xaxis\": \"x4\", \"y\": [0.7375, 0.7124999999999999, 0.7275, 0.775, 0.755], \"yaxis\": \"y4\"}],                        {\"annotations\": [{\"font\": {}, \"showarrow\": false, \"text\": \"\\u6307\\u6807=\\u5b8c\\u64ad\\u7387\", \"x\": 0.11125, \"xanchor\": \"center\", \"xref\": \"paper\", \"y\": 1.0, \"yanchor\": \"bottom\", \"yref\": \"paper\"}, {\"font\": {}, \"showarrow\": false, \"text\": \"\\u6307\\u6807=\\u64ad\\u653e\\u5b8c\\u6210\\u5ea6\", \"x\": 0.36375, \"xanchor\": \"center\", \"xref\": \"paper\", \"y\": 1.0, \"yanchor\": \"bottom\", \"yref\": \"paper\"}, {\"font\": {}, \"showarrow\": false, \"text\": \"\\u6307\\u6807=3s\\u5feb\\u6ed1\\u7387\", \"x\": 0.61625, \"xanchor\": \"center\", \"xref\": \"paper\", \"y\": 1.0, \"yanchor\": \"bottom\", \"yref\": \"paper\"}, {\"font\": {}, \"showarrow\": false, \"text\": \"\\u6307\\u6807=5s\\u5feb\\u6ed1\\u7387\", \"x\": 0.8687499999999999, \"xanchor\": \"center\", \"xref\": \"paper\", \"y\": 1.0, \"yanchor\": \"bottom\", \"yref\": \"paper\"}, {\"font\": {}, \"showarrow\": false, \"text\": \"\\u7edf\\u8ba1\\u65b9\\u5f0f=\\u4e2d\\u4f4d\\u6570\", \"textangle\": 90, \"x\": 0.98, \"xanchor\": \"left\", \"xref\": \"paper\", \"y\": 0.2375, \"yanchor\": \"middle\", \"yref\": \"paper\"}, {\"font\": {}, \"showarrow\": false, \"text\": \"\\u7edf\\u8ba1\\u65b9\\u5f0f=\\u5e73\\u5747\", \"textangle\": 90, \"x\": 0.98, \"xanchor\": \"left\", \"xref\": \"paper\", \"y\": 0.7625, \"yanchor\": \"middle\", \"yref\": \"paper\"}], \"bargap\": 0.3, \"bargroupgap\": 0, \"barmode\": \"group\", \"font\": {\"family\": \"PingFangSC-Light\"}, \"height\": 800, \"hovermode\": \"closest\", \"legend\": {\"title\": {\"text\": \"\\u4eba\\u7fa4\"}, \"tracegroupgap\": 0}, \"margin\": {\"b\": 20, \"l\": 30, \"r\": 30, \"t\": 100}, \"template\": {\"data\": {\"bar\": [{\"error_x\": {\"color\": \"rgb(36,36,36)\"}, \"error_y\": {\"color\": \"rgb(36,36,36)\"}, \"marker\": {\"line\": {\"color\": \"white\", \"width\": 0.5}}, \"type\": \"bar\"}], \"barpolar\": [{\"marker\": {\"line\": {\"color\": \"white\", \"width\": 0.5}}, \"type\": \"barpolar\"}], \"carpet\": [{\"aaxis\": {\"endlinecolor\": \"rgb(36,36,36)\", \"gridcolor\": \"white\", \"linecolor\": \"white\", \"minorgridcolor\": \"white\", \"startlinecolor\": \"rgb(36,36,36)\"}, \"baxis\": {\"endlinecolor\": \"rgb(36,36,36)\", \"gridcolor\": \"white\", \"linecolor\": \"white\", \"minorgridcolor\": \"white\", \"startlinecolor\": \"rgb(36,36,36)\"}, \"type\": \"carpet\"}], \"choropleth\": [{\"colorbar\": {\"outlinewidth\": 1, \"tickcolor\": \"rgb(36,36,36)\", \"ticks\": \"outside\"}, \"type\": \"choropleth\"}], \"contour\": [{\"colorbar\": {\"outlinewidth\": 1, \"tickcolor\": \"rgb(36,36,36)\", \"ticks\": \"outside\"}, \"colorscale\": [[0.0, \"#440154\"], [0.1111111111111111, \"#482878\"], [0.2222222222222222, \"#3e4989\"], [0.3333333333333333, \"#31688e\"], [0.4444444444444444, \"#26828e\"], [0.5555555555555556, \"#1f9e89\"], [0.6666666666666666, \"#35b779\"], [0.7777777777777778, \"#6ece58\"], [0.8888888888888888, \"#b5de2b\"], [1.0, \"#fde725\"]], \"type\": \"contour\"}], \"contourcarpet\": [{\"colorbar\": {\"outlinewidth\": 1, \"tickcolor\": \"rgb(36,36,36)\", \"ticks\": \"outside\"}, \"type\": \"contourcarpet\"}], \"heatmap\": [{\"colorbar\": {\"outlinewidth\": 1, \"tickcolor\": \"rgb(36,36,36)\", \"ticks\": \"outside\"}, \"colorscale\": [[0.0, \"#440154\"], [0.1111111111111111, \"#482878\"], [0.2222222222222222, \"#3e4989\"], [0.3333333333333333, \"#31688e\"], [0.4444444444444444, \"#26828e\"], [0.5555555555555556, \"#1f9e89\"], [0.6666666666666666, \"#35b779\"], [0.7777777777777778, \"#6ece58\"], [0.8888888888888888, \"#b5de2b\"], [1.0, \"#fde725\"]], \"type\": \"heatmap\"}], \"heatmapgl\": [{\"colorbar\": {\"outlinewidth\": 1, \"tickcolor\": \"rgb(36,36,36)\", \"ticks\": \"outside\"}, \"colorscale\": [[0.0, \"#440154\"], [0.1111111111111111, \"#482878\"], [0.2222222222222222, \"#3e4989\"], [0.3333333333333333, \"#31688e\"], [0.4444444444444444, \"#26828e\"], [0.5555555555555556, \"#1f9e89\"], [0.6666666666666666, \"#35b779\"], [0.7777777777777778, \"#6ece58\"], [0.8888888888888888, \"#b5de2b\"], [1.0, \"#fde725\"]], \"type\": \"heatmapgl\"}], \"histogram\": [{\"marker\": {\"line\": {\"color\": \"white\", \"width\": 0.6}}, \"type\": \"histogram\"}], \"histogram2d\": [{\"colorbar\": {\"outlinewidth\": 1, \"tickcolor\": \"rgb(36,36,36)\", \"ticks\": \"outside\"}, \"colorscale\": [[0.0, \"#440154\"], [0.1111111111111111, \"#482878\"], [0.2222222222222222, \"#3e4989\"], [0.3333333333333333, \"#31688e\"], [0.4444444444444444, \"#26828e\"], [0.5555555555555556, \"#1f9e89\"], [0.6666666666666666, \"#35b779\"], [0.7777777777777778, \"#6ece58\"], [0.8888888888888888, \"#b5de2b\"], [1.0, \"#fde725\"]], \"type\": \"histogram2d\"}], \"histogram2dcontour\": [{\"colorbar\": {\"outlinewidth\": 1, \"tickcolor\": \"rgb(36,36,36)\", \"ticks\": \"outside\"}, \"colorscale\": [[0.0, \"#440154\"], [0.1111111111111111, \"#482878\"], [0.2222222222222222, \"#3e4989\"], [0.3333333333333333, \"#31688e\"], [0.4444444444444444, \"#26828e\"], [0.5555555555555556, \"#1f9e89\"], [0.6666666666666666, \"#35b779\"], [0.7777777777777778, \"#6ece58\"], [0.8888888888888888, \"#b5de2b\"], [1.0, \"#fde725\"]], \"type\": \"histogram2dcontour\"}], \"mesh3d\": [{\"colorbar\": {\"outlinewidth\": 1, \"tickcolor\": \"rgb(36,36,36)\", \"ticks\": \"outside\"}, \"type\": \"mesh3d\"}], \"parcoords\": [{\"line\": {\"colorbar\": {\"outlinewidth\": 1, \"tickcolor\": \"rgb(36,36,36)\", \"ticks\": \"outside\"}}, \"type\": \"parcoords\"}], \"pie\": [{\"automargin\": true, \"type\": \"pie\"}], \"scatter\": [{\"marker\": {\"colorbar\": {\"outlinewidth\": 1, \"tickcolor\": \"rgb(36,36,36)\", \"ticks\": \"outside\"}}, \"type\": \"scatter\"}], \"scatter3d\": [{\"line\": {\"colorbar\": {\"outlinewidth\": 1, \"tickcolor\": \"rgb(36,36,36)\", \"ticks\": \"outside\"}}, \"marker\": {\"colorbar\": {\"outlinewidth\": 1, \"tickcolor\": \"rgb(36,36,36)\", \"ticks\": \"outside\"}}, \"type\": \"scatter3d\"}], \"scattercarpet\": [{\"marker\": {\"colorbar\": {\"outlinewidth\": 1, \"tickcolor\": \"rgb(36,36,36)\", \"ticks\": \"outside\"}}, \"type\": \"scattercarpet\"}], \"scattergeo\": [{\"marker\": {\"colorbar\": {\"outlinewidth\": 1, \"tickcolor\": \"rgb(36,36,36)\", \"ticks\": \"outside\"}}, \"type\": \"scattergeo\"}], \"scattergl\": [{\"marker\": {\"colorbar\": {\"outlinewidth\": 1, \"tickcolor\": \"rgb(36,36,36)\", \"ticks\": \"outside\"}}, \"type\": \"scattergl\"}], \"scattermapbox\": [{\"marker\": {\"colorbar\": {\"outlinewidth\": 1, \"tickcolor\": \"rgb(36,36,36)\", \"ticks\": \"outside\"}}, \"type\": \"scattermapbox\"}], \"scatterpolar\": [{\"marker\": {\"colorbar\": {\"outlinewidth\": 1, \"tickcolor\": \"rgb(36,36,36)\", \"ticks\": \"outside\"}}, \"type\": \"scatterpolar\"}], \"scatterpolargl\": [{\"marker\": {\"colorbar\": {\"outlinewidth\": 1, \"tickcolor\": \"rgb(36,36,36)\", \"ticks\": \"outside\"}}, \"type\": \"scatterpolargl\"}], \"scatterternary\": [{\"marker\": {\"colorbar\": {\"outlinewidth\": 1, \"tickcolor\": \"rgb(36,36,36)\", \"ticks\": \"outside\"}}, \"type\": \"scatterternary\"}], \"surface\": [{\"colorbar\": {\"outlinewidth\": 1, \"tickcolor\": \"rgb(36,36,36)\", \"ticks\": \"outside\"}, \"colorscale\": [[0.0, \"#440154\"], [0.1111111111111111, \"#482878\"], [0.2222222222222222, \"#3e4989\"], [0.3333333333333333, \"#31688e\"], [0.4444444444444444, \"#26828e\"], [0.5555555555555556, \"#1f9e89\"], [0.6666666666666666, \"#35b779\"], [0.7777777777777778, \"#6ece58\"], [0.8888888888888888, \"#b5de2b\"], [1.0, \"#fde725\"]], \"type\": \"surface\"}], \"table\": [{\"cells\": {\"fill\": {\"color\": \"rgb(237,237,237)\"}, \"line\": {\"color\": \"white\"}}, \"header\": {\"fill\": {\"color\": \"rgb(217,217,217)\"}, \"line\": {\"color\": \"white\"}}, \"type\": \"table\"}]}, \"layout\": {\"annotationdefaults\": {\"arrowhead\": 0, \"arrowwidth\": 1}, \"autotypenumbers\": \"strict\", \"coloraxis\": {\"colorbar\": {\"outlinewidth\": 1, \"tickcolor\": \"rgb(36,36,36)\", \"ticks\": \"outside\"}}, \"colorscale\": {\"diverging\": [[0.0, \"rgb(103,0,31)\"], [0.1, \"rgb(178,24,43)\"], [0.2, \"rgb(214,96,77)\"], [0.3, \"rgb(244,165,130)\"], [0.4, \"rgb(253,219,199)\"], [0.5, \"rgb(247,247,247)\"], [0.6, \"rgb(209,229,240)\"], [0.7, \"rgb(146,197,222)\"], [0.8, \"rgb(67,147,195)\"], [0.9, \"rgb(33,102,172)\"], [1.0, \"rgb(5,48,97)\"]], \"sequential\": [[0.0, \"#440154\"], [0.1111111111111111, \"#482878\"], [0.2222222222222222, \"#3e4989\"], [0.3333333333333333, \"#31688e\"], [0.4444444444444444, \"#26828e\"], [0.5555555555555556, \"#1f9e89\"], [0.6666666666666666, \"#35b779\"], [0.7777777777777778, \"#6ece58\"], [0.8888888888888888, \"#b5de2b\"], [1.0, \"#fde725\"]], \"sequentialminus\": [[0.0, \"#440154\"], [0.1111111111111111, \"#482878\"], [0.2222222222222222, \"#3e4989\"], [0.3333333333333333, \"#31688e\"], [0.4444444444444444, \"#26828e\"], [0.5555555555555556, \"#1f9e89\"], [0.6666666666666666, \"#35b779\"], [0.7777777777777778, \"#6ece58\"], [0.8888888888888888, \"#b5de2b\"], [1.0, \"#fde725\"]]}, \"colorway\": [\"#1F77B4\", \"#FF7F0E\", \"#2CA02C\", \"#D62728\", \"#9467BD\", \"#8C564B\", \"#E377C2\", \"#7F7F7F\", \"#BCBD22\", \"#17BECF\"], \"font\": {\"color\": \"rgb(36,36,36)\"}, \"geo\": {\"bgcolor\": \"white\", \"lakecolor\": \"white\", \"landcolor\": \"white\", \"showlakes\": true, \"showland\": true, \"subunitcolor\": \"white\"}, \"hoverlabel\": {\"align\": \"left\"}, \"hovermode\": \"closest\", \"mapbox\": {\"style\": \"light\"}, \"paper_bgcolor\": \"white\", \"plot_bgcolor\": \"white\", \"polar\": {\"angularaxis\": {\"gridcolor\": \"rgb(232,232,232)\", \"linecolor\": \"rgb(36,36,36)\", \"showgrid\": false, \"showline\": true, \"ticks\": \"outside\"}, \"bgcolor\": \"white\", \"radialaxis\": {\"gridcolor\": \"rgb(232,232,232)\", \"linecolor\": \"rgb(36,36,36)\", \"showgrid\": false, \"showline\": true, \"ticks\": \"outside\"}}, \"scene\": {\"xaxis\": {\"backgroundcolor\": \"white\", \"gridcolor\": \"rgb(232,232,232)\", \"gridwidth\": 2, \"linecolor\": \"rgb(36,36,36)\", \"showbackground\": true, \"showgrid\": false, \"showline\": true, \"ticks\": \"outside\", \"zeroline\": false, \"zerolinecolor\": \"rgb(36,36,36)\"}, \"yaxis\": {\"backgroundcolor\": \"white\", \"gridcolor\": \"rgb(232,232,232)\", \"gridwidth\": 2, \"linecolor\": \"rgb(36,36,36)\", \"showbackground\": true, \"showgrid\": false, \"showline\": true, \"ticks\": \"outside\", \"zeroline\": false, \"zerolinecolor\": \"rgb(36,36,36)\"}, \"zaxis\": {\"backgroundcolor\": \"white\", \"gridcolor\": \"rgb(232,232,232)\", \"gridwidth\": 2, \"linecolor\": \"rgb(36,36,36)\", \"showbackground\": true, \"showgrid\": false, \"showline\": true, \"ticks\": \"outside\", \"zeroline\": false, \"zerolinecolor\": \"rgb(36,36,36)\"}}, \"shapedefaults\": {\"fillcolor\": \"black\", \"line\": {\"width\": 0}, \"opacity\": 0.3}, \"ternary\": {\"aaxis\": {\"gridcolor\": \"rgb(232,232,232)\", \"linecolor\": \"rgb(36,36,36)\", \"showgrid\": false, \"showline\": true, \"ticks\": \"outside\"}, \"baxis\": {\"gridcolor\": \"rgb(232,232,232)\", \"linecolor\": \"rgb(36,36,36)\", \"showgrid\": false, \"showline\": true, \"ticks\": \"outside\"}, \"bgcolor\": \"white\", \"caxis\": {\"gridcolor\": \"rgb(232,232,232)\", \"linecolor\": \"rgb(36,36,36)\", \"showgrid\": false, \"showline\": true, \"ticks\": \"outside\"}}, \"title\": {\"x\": 0.05}, \"xaxis\": {\"automargin\": true, \"gridcolor\": \"rgb(232,232,232)\", \"linecolor\": \"rgb(36,36,36)\", \"showgrid\": false, \"showline\": true, \"ticks\": \"outside\", \"title\": {\"standoff\": 15}, \"zeroline\": false, \"zerolinecolor\": \"rgb(36,36,36)\"}, \"yaxis\": {\"automargin\": true, \"gridcolor\": \"rgb(232,232,232)\", \"linecolor\": \"rgb(36,36,36)\", \"showgrid\": false, \"showline\": true, \"ticks\": \"outside\", \"title\": {\"standoff\": 15}, \"zeroline\": false, \"zerolinecolor\": \"rgb(36,36,36)\"}}}, \"title\": {\"font\": {\"size\": 16}, \"text\": \"\\u89c6\\u9891\\u65f6\\u957f_\\u6d88\\u8d39\\u6307\\u6807\\u5bf9\\u6bd4\", \"x\": 0.5, \"xref\": \"paper\"}, \"width\": 1200, \"xaxis\": {\"anchor\": \"y\", \"domain\": [0.0, 0.2225], \"title\": {\"text\": \"\\u89c6\\u9891\\u65f6\\u957f\"}}, \"xaxis2\": {\"anchor\": \"y2\", \"domain\": [0.2525, 0.475], \"matches\": \"x\", \"title\": {\"text\": \"\\u89c6\\u9891\\u65f6\\u957f\"}}, \"xaxis3\": {\"anchor\": \"y3\", \"domain\": [0.505, 0.7275], \"matches\": \"x\", \"title\": {\"text\": \"\\u89c6\\u9891\\u65f6\\u957f\"}}, \"xaxis4\": {\"anchor\": \"y4\", \"domain\": [0.7575, 0.98], \"matches\": \"x\", \"title\": {\"text\": \"\\u89c6\\u9891\\u65f6\\u957f\"}}, \"xaxis5\": {\"anchor\": \"y5\", \"domain\": [0.0, 0.2225], \"matches\": \"x\", \"showticklabels\": false}, \"xaxis6\": {\"anchor\": \"y6\", \"domain\": [0.2525, 0.475], \"matches\": \"x\", \"showticklabels\": false}, \"xaxis7\": {\"anchor\": \"y7\", \"domain\": [0.505, 0.7275], \"matches\": \"x\", \"showticklabels\": false}, \"xaxis8\": {\"anchor\": \"y8\", \"domain\": [0.7575, 0.98], \"matches\": \"x\", \"showticklabels\": false}, \"yaxis\": {\"anchor\": \"x\", \"domain\": [0.0, 0.475], \"showgrid\": true, \"title\": {\"text\": \"\\u7edf\\u8ba1\\u503c\"}}, \"yaxis2\": {\"anchor\": \"x2\", \"domain\": [0.0, 0.475], \"matches\": \"y\", \"showgrid\": true, \"showticklabels\": false}, \"yaxis3\": {\"anchor\": \"x3\", \"domain\": [0.0, 0.475], \"matches\": \"y\", \"showgrid\": true, \"showticklabels\": false}, \"yaxis4\": {\"anchor\": \"x4\", \"domain\": [0.0, 0.475], \"matches\": \"y\", \"showgrid\": true, \"showticklabels\": false}, \"yaxis5\": {\"anchor\": \"x5\", \"domain\": [0.525, 1.0], \"matches\": \"y\", \"showgrid\": true, \"title\": {\"text\": \"\\u7edf\\u8ba1\\u503c\"}}, \"yaxis6\": {\"anchor\": \"x6\", \"domain\": [0.525, 1.0], \"matches\": \"y\", \"showgrid\": true, \"showticklabels\": false}, \"yaxis7\": {\"anchor\": \"x7\", \"domain\": [0.525, 1.0], \"matches\": \"y\", \"showgrid\": true, \"showticklabels\": false}, \"yaxis8\": {\"anchor\": \"x8\", \"domain\": [0.525, 1.0], \"matches\": \"y\", \"showgrid\": true, \"showticklabels\": false}},                        {\"responsive\": true}                    ).then(function(){\n                            \nvar gd = document.getElementById('60276b34-29db-438e-9fe2-76f408bfa992');\nvar x = new MutationObserver(function (mutations, observer) {{\n        var display = window.getComputedStyle(gd).display;\n        if (!display || display === 'none') {{\n            console.log([gd, 'removed!']);\n            Plotly.purge(gd);\n            observer.disconnect();\n        }}\n}});\n\n// Listen for the removal of the full notebook cells\nvar notebookContainer = gd.closest('#notebook-container');\nif (notebookContainer) {{\n    x.observe(notebookContainer, {childList: true});\n}}\n\n// Listen for the clearing of the current output cell\nvar outputEl = gd.closest('.output');\nif (outputEl) {{\n    x.observe(outputEl, {childList: true});\n}}\n\n                        })                };                });            </script>        </div>"
     },
     "metadata": {}
    }
   ],
   "source": [
    "#制图\n",
    "\n",
    "#其它消费指标\n",
    "duration_feedAttrConsumeStatFig = px.bar(\n",
    "                                duration_feedAttrConsumeStatDfTidy.query(\"玩法名称.str.contains('牛奶颂') & (~(variable.str.contains('播放VV') or variable.str.contains('单vv时长') or variable.str.contains('互动率') or variable.str.contains('视频数量')))\"), \n",
    "                                title='视频时长_消费指标对比',\n",
    "                                x='视频时长', y='value', color='人群', facet_row='统计方式', facet_col='指标', facet_row_spacing=0.05, facet_col_spacing=0.03,\n",
    "                                labels={\"value\": \"统计值\"},\n",
    "                                barmode='group', template='simple_white', color_discrete_sequence=px.colors.sequential.Blugrn)\n",
    "duration_feedAttrConsumeStatFig.update_traces(texttemplate='%{value:%.2f}', textposition='outside')\n",
    "duration_feedAttrConsumeStatFig.update_yaxes(showgrid=True) # the y-axis\n",
    "duration_feedAttrConsumeStatFig.update_layout(width=1200, height =800, \n",
    "                                title=dict(x=0.5, xref='paper', font=dict(size=16)),\n",
    "                                font_family=\"PingFangSC-Light\",\n",
    "                                margin=dict(l=30, r=30, b=20, t=100),\n",
    "                                bargap=0.3, # gap between bars of adjacent location coordinates.\n",
    "                                bargroupgap=0, # gap between bars of the same location coordinate.\n",
    "                                hovermode=\"closest\")\n",
    "duration_feedAttrConsumeStatFig.show()"
   ]
  },
  {
   "cell_type": "code",
   "execution_count": 96,
   "metadata": {},
   "outputs": [
    {
     "output_type": "execute_result",
     "data": {
      "text/plain": [
       "                 视频id  大盘播放VV_sum\n",
       "62  787S1I3KY1KOZCtZv      168449"
      ],
      "text/html": "<div>\n<style scoped>\n    .dataframe tbody tr th:only-of-type {\n        vertical-align: middle;\n    }\n\n    .dataframe tbody tr th {\n        vertical-align: top;\n    }\n\n    .dataframe thead th {\n        text-align: right;\n    }\n</style>\n<table border=\"1\" class=\"dataframe\">\n  <thead>\n    <tr style=\"text-align: right;\">\n      <th></th>\n      <th>视频id</th>\n      <th>大盘播放VV_sum</th>\n    </tr>\n  </thead>\n  <tbody>\n    <tr>\n      <th>62</th>\n      <td>787S1I3KY1KOZCtZv</td>\n      <td>168449</td>\n    </tr>\n  </tbody>\n</table>\n</div>"
     },
     "metadata": {},
     "execution_count": 96
    }
   ],
   "source": [
    "feedAttrConsumeStatDf.query(\"素材使用主题.str.contains('旅行')\")[{'视频id','大盘播放VV_sum'}]"
   ]
  },
  {
   "cell_type": "code",
   "execution_count": null,
   "metadata": {},
   "outputs": [],
   "source": []
  }
 ]
}
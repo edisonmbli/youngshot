{
 "metadata": {
  "language_info": {
   "codemirror_mode": {
    "name": "ipython",
    "version": 3
   },
   "file_extension": ".py",
   "mimetype": "text/x-python",
   "name": "python",
   "nbconvert_exporter": "python",
   "pygments_lexer": "ipython3",
   "version": "3.7.1-final"
  },
  "orig_nbformat": 2,
  "kernelspec": {
   "name": "python3",
   "display_name": "Python 3"
  }
 },
 "nbformat": 4,
 "nbformat_minor": 2,
 "cells": [
  {
   "cell_type": "code",
   "execution_count": 79,
   "metadata": {},
   "outputs": [
    {
     "output_type": "stream",
     "name": "stdout",
     "text": [
      "/Users/edisonlee/Documents/weishi/young/analysis\n"
     ]
    }
   ],
   "source": [
    "cd /Users/edisonlee/Documents/weishi/young/analysis"
   ]
  },
  {
   "cell_type": "code",
   "execution_count": 80,
   "metadata": {},
   "outputs": [],
   "source": [
    "import math\n",
    "import numpy as np\n",
    "import pandas as pd\n",
    "import cufflinks as cf\n",
    "import plotly\n",
    "import plotly.express as px\n",
    "from plotly.subplots import make_subplots\n",
    "%matplotlib inline"
   ]
  },
  {
   "cell_type": "code",
   "execution_count": 81,
   "metadata": {},
   "outputs": [
    {
     "output_type": "display_data",
     "data": {
      "text/html": "        <script type=\"text/javascript\">\n        window.PlotlyConfig = {MathJaxConfig: 'local'};\n        if (window.MathJax) {MathJax.Hub.Config({SVG: {font: \"STIX-Web\"}});}\n        if (typeof require !== 'undefined') {\n        require.undef(\"plotly\");\n        requirejs.config({\n            paths: {\n                'plotly': ['https://cdn.plot.ly/plotly-latest.min']\n            }\n        });\n        require(['plotly'], function(Plotly) {\n            window._Plotly = Plotly;\n        });\n        }\n        </script>\n        "
     },
     "metadata": {}
    }
   ],
   "source": [
    "pd.set_option('max_columns', 50)\n",
    "pd.set_option('max_rows', 500)\n",
    "pd.set_option('display.float_format',lambda x : '%.2f' % x)\n",
    "cf.go_offline()"
   ]
  },
  {
   "cell_type": "code",
   "execution_count": 82,
   "metadata": {},
   "outputs": [
    {
     "output_type": "stream",
     "name": "stdout",
     "text": [
      "/Users/edisonlee/Documents/weishi/young/analysis/1123_1129\n"
     ]
    }
   ],
   "source": [
    "cd 1123_1129/"
   ]
  },
  {
   "cell_type": "code",
   "execution_count": 199,
   "metadata": {},
   "outputs": [
    {
     "output_type": "execute_result",
     "data": {
      "text/plain": [
       "               video_id sex cityLevel uploadFrequency  allVV  youngVV  \\\n",
       "0     7kgrJ91xc1KC5ULFb   男        一线       6-10次发布用户      1        1   \n",
       "1     7kgrJ91xc1KC5ULFb  未知       新一线          0次发布用户     31       17   \n",
       "2     7kgrJ91xc1KC5ULFb   男        二线        >10次发布用户      7        4   \n",
       "3     7kgrJ91xc1KC5ULFb   男        三线        1-5次发布用户    101       46   \n",
       "4     7kgrJ91xc1KC5ULFb   男        三线       6-10次发布用户     12        1   \n",
       "...                 ...  ..       ...             ...    ...      ...   \n",
       "3756  6R4836WBo1KC6cSIf   男        五线        >10次发布用户      1        0   \n",
       "3757  6R4836WBo1KC6cSIf   男        五线       6-10次发布用户      4        0   \n",
       "3758  6R4836WBo1KC6cSIf  未知        其他        >10次发布用户      1        0   \n",
       "3759  6R4836WBo1KC6cSIf   男        五线          0次发布用户   3423     2172   \n",
       "3760  6R4836WBo1KC6cSIf   男        二线       6-10次发布用户      5        2   \n",
       "\n",
       "      youngVVRatio  allCompleteRatio  youngCompleteRatio  allInteractRatio  \\\n",
       "0             1.00              0.00                0.00              0.00   \n",
       "1             0.55              0.13                0.06              0.00   \n",
       "2             0.57              0.29                0.00              0.00   \n",
       "3             0.46              0.15                0.13              0.01   \n",
       "4             0.08              0.08                0.00              0.00   \n",
       "...            ...               ...                 ...               ...   \n",
       "3756          0.00              0.00                 nan              0.00   \n",
       "3757          0.00              0.25                 nan              0.00   \n",
       "3758          0.00              0.00                 nan              0.00   \n",
       "3759          0.63              0.20                0.19              0.00   \n",
       "3760          0.40              0.00                0.00              0.00   \n",
       "\n",
       "      youngInteractRatio  allDurationPerVV  youngDurationPerVV  allPlayRatio  \\\n",
       "0                   0.00              0.09                0.09          0.01   \n",
       "1                   0.00              6.23                5.76          0.59   \n",
       "2                   0.00              5.92                2.66          0.48   \n",
       "3                   0.02              6.07                5.32          0.40   \n",
       "4                   0.00              8.56                1.87          0.55   \n",
       "...                  ...               ...                 ...           ...   \n",
       "3756                 nan              4.50                 nan          0.44   \n",
       "3757                 nan              6.81                 nan          0.60   \n",
       "3758                 nan              4.30                 nan          0.42   \n",
       "3759                0.00              8.52                8.39          0.50   \n",
       "3760                0.00              3.27                2.90          0.32   \n",
       "\n",
       "      youngPlayRatio  all3sSkipRatio  young3sSkipRatio  all5sSkipRatio  \\\n",
       "0               0.01            1.00              1.00            1.00   \n",
       "1               0.56            0.16              0.18            0.35   \n",
       "2               0.27            0.29              0.50            0.71   \n",
       "3               0.35            0.54              0.70            0.72   \n",
       "4               0.19            0.33              1.00            0.42   \n",
       "...              ...             ...               ...             ...   \n",
       "3756             nan            0.00               nan            1.00   \n",
       "3757             nan            0.25               nan            0.25   \n",
       "3758             nan            0.00               nan            1.00   \n",
       "3759            0.48            0.37              0.38            0.52   \n",
       "3760            0.28            0.60              0.50            0.80   \n",
       "\n",
       "      young5sSkipRatio  \n",
       "0                 1.00  \n",
       "1                 0.41  \n",
       "2                 1.00  \n",
       "3                 0.78  \n",
       "4                 1.00  \n",
       "...                ...  \n",
       "3756               nan  \n",
       "3757               nan  \n",
       "3758               nan  \n",
       "3759              0.55  \n",
       "3760              1.00  \n",
       "\n",
       "[3761 rows x 19 columns]"
      ],
      "text/html": "<div>\n<style scoped>\n    .dataframe tbody tr th:only-of-type {\n        vertical-align: middle;\n    }\n\n    .dataframe tbody tr th {\n        vertical-align: top;\n    }\n\n    .dataframe thead th {\n        text-align: right;\n    }\n</style>\n<table border=\"1\" class=\"dataframe\">\n  <thead>\n    <tr style=\"text-align: right;\">\n      <th></th>\n      <th>video_id</th>\n      <th>sex</th>\n      <th>cityLevel</th>\n      <th>uploadFrequency</th>\n      <th>allVV</th>\n      <th>youngVV</th>\n      <th>youngVVRatio</th>\n      <th>allCompleteRatio</th>\n      <th>youngCompleteRatio</th>\n      <th>allInteractRatio</th>\n      <th>youngInteractRatio</th>\n      <th>allDurationPerVV</th>\n      <th>youngDurationPerVV</th>\n      <th>allPlayRatio</th>\n      <th>youngPlayRatio</th>\n      <th>all3sSkipRatio</th>\n      <th>young3sSkipRatio</th>\n      <th>all5sSkipRatio</th>\n      <th>young5sSkipRatio</th>\n    </tr>\n  </thead>\n  <tbody>\n    <tr>\n      <th>0</th>\n      <td>7kgrJ91xc1KC5ULFb</td>\n      <td>男</td>\n      <td>一线</td>\n      <td>6-10次发布用户</td>\n      <td>1</td>\n      <td>1</td>\n      <td>1.00</td>\n      <td>0.00</td>\n      <td>0.00</td>\n      <td>0.00</td>\n      <td>0.00</td>\n      <td>0.09</td>\n      <td>0.09</td>\n      <td>0.01</td>\n      <td>0.01</td>\n      <td>1.00</td>\n      <td>1.00</td>\n      <td>1.00</td>\n      <td>1.00</td>\n    </tr>\n    <tr>\n      <th>1</th>\n      <td>7kgrJ91xc1KC5ULFb</td>\n      <td>未知</td>\n      <td>新一线</td>\n      <td>0次发布用户</td>\n      <td>31</td>\n      <td>17</td>\n      <td>0.55</td>\n      <td>0.13</td>\n      <td>0.06</td>\n      <td>0.00</td>\n      <td>0.00</td>\n      <td>6.23</td>\n      <td>5.76</td>\n      <td>0.59</td>\n      <td>0.56</td>\n      <td>0.16</td>\n      <td>0.18</td>\n      <td>0.35</td>\n      <td>0.41</td>\n    </tr>\n    <tr>\n      <th>2</th>\n      <td>7kgrJ91xc1KC5ULFb</td>\n      <td>男</td>\n      <td>二线</td>\n      <td>&gt;10次发布用户</td>\n      <td>7</td>\n      <td>4</td>\n      <td>0.57</td>\n      <td>0.29</td>\n      <td>0.00</td>\n      <td>0.00</td>\n      <td>0.00</td>\n      <td>5.92</td>\n      <td>2.66</td>\n      <td>0.48</td>\n      <td>0.27</td>\n      <td>0.29</td>\n      <td>0.50</td>\n      <td>0.71</td>\n      <td>1.00</td>\n    </tr>\n    <tr>\n      <th>3</th>\n      <td>7kgrJ91xc1KC5ULFb</td>\n      <td>男</td>\n      <td>三线</td>\n      <td>1-5次发布用户</td>\n      <td>101</td>\n      <td>46</td>\n      <td>0.46</td>\n      <td>0.15</td>\n      <td>0.13</td>\n      <td>0.01</td>\n      <td>0.02</td>\n      <td>6.07</td>\n      <td>5.32</td>\n      <td>0.40</td>\n      <td>0.35</td>\n      <td>0.54</td>\n      <td>0.70</td>\n      <td>0.72</td>\n      <td>0.78</td>\n    </tr>\n    <tr>\n      <th>4</th>\n      <td>7kgrJ91xc1KC5ULFb</td>\n      <td>男</td>\n      <td>三线</td>\n      <td>6-10次发布用户</td>\n      <td>12</td>\n      <td>1</td>\n      <td>0.08</td>\n      <td>0.08</td>\n      <td>0.00</td>\n      <td>0.00</td>\n      <td>0.00</td>\n      <td>8.56</td>\n      <td>1.87</td>\n      <td>0.55</td>\n      <td>0.19</td>\n      <td>0.33</td>\n      <td>1.00</td>\n      <td>0.42</td>\n      <td>1.00</td>\n    </tr>\n    <tr>\n      <th>...</th>\n      <td>...</td>\n      <td>...</td>\n      <td>...</td>\n      <td>...</td>\n      <td>...</td>\n      <td>...</td>\n      <td>...</td>\n      <td>...</td>\n      <td>...</td>\n      <td>...</td>\n      <td>...</td>\n      <td>...</td>\n      <td>...</td>\n      <td>...</td>\n      <td>...</td>\n      <td>...</td>\n      <td>...</td>\n      <td>...</td>\n      <td>...</td>\n    </tr>\n    <tr>\n      <th>3756</th>\n      <td>6R4836WBo1KC6cSIf</td>\n      <td>男</td>\n      <td>五线</td>\n      <td>&gt;10次发布用户</td>\n      <td>1</td>\n      <td>0</td>\n      <td>0.00</td>\n      <td>0.00</td>\n      <td>nan</td>\n      <td>0.00</td>\n      <td>nan</td>\n      <td>4.50</td>\n      <td>nan</td>\n      <td>0.44</td>\n      <td>nan</td>\n      <td>0.00</td>\n      <td>nan</td>\n      <td>1.00</td>\n      <td>nan</td>\n    </tr>\n    <tr>\n      <th>3757</th>\n      <td>6R4836WBo1KC6cSIf</td>\n      <td>男</td>\n      <td>五线</td>\n      <td>6-10次发布用户</td>\n      <td>4</td>\n      <td>0</td>\n      <td>0.00</td>\n      <td>0.25</td>\n      <td>nan</td>\n      <td>0.00</td>\n      <td>nan</td>\n      <td>6.81</td>\n      <td>nan</td>\n      <td>0.60</td>\n      <td>nan</td>\n      <td>0.25</td>\n      <td>nan</td>\n      <td>0.25</td>\n      <td>nan</td>\n    </tr>\n    <tr>\n      <th>3758</th>\n      <td>6R4836WBo1KC6cSIf</td>\n      <td>未知</td>\n      <td>其他</td>\n      <td>&gt;10次发布用户</td>\n      <td>1</td>\n      <td>0</td>\n      <td>0.00</td>\n      <td>0.00</td>\n      <td>nan</td>\n      <td>0.00</td>\n      <td>nan</td>\n      <td>4.30</td>\n      <td>nan</td>\n      <td>0.42</td>\n      <td>nan</td>\n      <td>0.00</td>\n      <td>nan</td>\n      <td>1.00</td>\n      <td>nan</td>\n    </tr>\n    <tr>\n      <th>3759</th>\n      <td>6R4836WBo1KC6cSIf</td>\n      <td>男</td>\n      <td>五线</td>\n      <td>0次发布用户</td>\n      <td>3423</td>\n      <td>2172</td>\n      <td>0.63</td>\n      <td>0.20</td>\n      <td>0.19</td>\n      <td>0.00</td>\n      <td>0.00</td>\n      <td>8.52</td>\n      <td>8.39</td>\n      <td>0.50</td>\n      <td>0.48</td>\n      <td>0.37</td>\n      <td>0.38</td>\n      <td>0.52</td>\n      <td>0.55</td>\n    </tr>\n    <tr>\n      <th>3760</th>\n      <td>6R4836WBo1KC6cSIf</td>\n      <td>男</td>\n      <td>二线</td>\n      <td>6-10次发布用户</td>\n      <td>5</td>\n      <td>2</td>\n      <td>0.40</td>\n      <td>0.00</td>\n      <td>0.00</td>\n      <td>0.00</td>\n      <td>0.00</td>\n      <td>3.27</td>\n      <td>2.90</td>\n      <td>0.32</td>\n      <td>0.28</td>\n      <td>0.60</td>\n      <td>0.50</td>\n      <td>0.80</td>\n      <td>1.00</td>\n    </tr>\n  </tbody>\n</table>\n<p>3761 rows × 19 columns</p>\n</div>"
     },
     "metadata": {},
     "execution_count": 199
    }
   ],
   "source": [
    "consumeDetailDf = pd.read_csv('手机穿越_热点视频消费数据.csv', header=0, \n",
    "                names=[\n",
    "                'video_id', 'sex', 'cityLevel', 'uploadFrequency', 'allVV', 'youngVV', 'youngVVRatio',\n",
    "                'allCompleteRatio', 'youngCompleteRatio', 'allInteractRatio', 'youngInteractRatio',\n",
    "                'allDurationPerVV', 'youngDurationPerVV', 'allPlayRatio', 'youngPlayRatio',\n",
    "                'all3sSkipRatio', 'young3sSkipRatio', 'all5sSkipRatio', 'young5sSkipRatio'])\n",
    "consumeDetailDf = consumeDetailDf.fillna(0)\n",
    "consumeDetailDf = consumeDetailDf.replace(np.nan, 0)\n",
    "consumeDetailDf = consumeDetailDf.astype({\n",
    "                'video_id':str, 'sex':str, 'cityLevel':str, 'uploadFrequency':str, \n",
    "                'allVV':pd.Int16Dtype(), 'youngVV':pd.Int16Dtype(), 'youngVVRatio':float,\n",
    "                'allCompleteRatio':float, 'youngCompleteRatio':float, 'allInteractRatio':float, 'youngInteractRatio':float,\n",
    "                'allDurationPerVV':float, 'youngDurationPerVV':float, 'allPlayRatio':float, 'youngPlayRatio':float,\n",
    "                'all3sSkipRatio':float, 'young3sSkipRatio':float, 'all5sSkipRatio':float, 'young5sSkipRatio':float})\n",
    "consumeDetailDf.all3sSkipRatio = round(consumeDetailDf.all3sSkipRatio/100,2)\n",
    "consumeDetailDf.all5sSkipRatio = round(consumeDetailDf.all5sSkipRatio/100,2)\n",
    "consumeDetailDf"
   ]
  },
  {
   "cell_type": "code",
   "execution_count": 200,
   "metadata": {},
   "outputs": [
    {
     "output_type": "execute_result",
     "data": {
      "text/plain": [
       "            video_id  allVV_sum  youngVV_sum  youngVVRatio_mean  \\\n",
       "0  6R4836WBo1KC6cSIf   53698.00     32135.00               0.38   \n",
       "1  6XfIL4q5R1KG6R5Mn   66310.00     39749.00               0.44   \n",
       "2  6ZkHOYCPj1KConBz3   54592.00     32877.00               0.39   \n",
       "3  700V59t6W1KC66kxe   55690.00     33258.00               0.39   \n",
       "4  70BJtvU271KChB7K6   54388.00     32747.00               0.43   \n",
       "\n",
       "   youngVVRatio_median  allCompleteRatio_mean  allCompleteRatio_median  \\\n",
       "0                 0.44                   0.16                     0.16   \n",
       "1                 0.48                   0.25                     0.27   \n",
       "2                 0.46                   0.19                     0.20   \n",
       "3                 0.46                   0.17                     0.18   \n",
       "4                 0.50                   0.17                     0.16   \n",
       "\n",
       "   youngCompleteRatio_mean  youngCompleteRatio_median  allInteractRatio_mean  \\\n",
       "0                     0.15                       0.13                   0.01   \n",
       "1                     0.26                       0.26                   0.01   \n",
       "2                     0.19                       0.16                   0.00   \n",
       "3                     0.16                       0.14                   0.01   \n",
       "4                     0.17                       0.17                   0.00   \n",
       "\n",
       "   allInteractRatio_median  youngInteractRatio_mean  \\\n",
       "0                     0.00                     0.00   \n",
       "1                     0.00                     0.00   \n",
       "2                     0.00                     0.00   \n",
       "3                     0.00                     0.02   \n",
       "4                     0.00                     0.01   \n",
       "\n",
       "   youngInteractRatio_median  allDurationPerVV_mean  allDurationPerVV_median  \\\n",
       "0                       0.00                   8.55                     7.04   \n",
       "1                       0.00                   7.80                     7.16   \n",
       "2                       0.00                   7.40                     6.32   \n",
       "3                       0.00                   6.89                     6.38   \n",
       "4                       0.00                   7.21                     6.40   \n",
       "\n",
       "   youngDurationPerVV_mean  youngDurationPerVV_median  allPlayRatio_mean  \\\n",
       "0                     9.84                       6.08               0.47   \n",
       "1                     7.53                       7.09               0.54   \n",
       "2                     6.88                       6.28               0.47   \n",
       "3                     6.52                       6.26               0.50   \n",
       "4                     6.78                       7.44               0.45   \n",
       "\n",
       "   allPlayRatio_median  youngPlayRatio_mean  youngPlayRatio_median  \\\n",
       "0                 0.48                 0.44                   0.48   \n",
       "1                 0.55                 0.54                   0.55   \n",
       "2                 0.46                 0.46                   0.47   \n",
       "3                 0.52                 0.48                   0.50   \n",
       "4                 0.46                 0.44                   0.48   \n",
       "\n",
       "   all3sSkipRatio_mean  all3sSkipRatio_median  young3sSkipRatio_mean  \\\n",
       "0                 0.39                   0.36                   0.44   \n",
       "1                 0.43                   0.40                   0.42   \n",
       "2                 0.43                   0.39                   0.46   \n",
       "3                 0.37                   0.35                   0.40   \n",
       "4                 0.41                   0.38                   0.44   \n",
       "\n",
       "   young3sSkipRatio_median  all5sSkipRatio_mean  all5sSkipRatio_median  \\\n",
       "0                     0.40                 0.58                   0.53   \n",
       "1                     0.38                 0.56                   0.53   \n",
       "2                     0.40                 0.59                   0.57   \n",
       "3                     0.35                 0.53                   0.53   \n",
       "4                     0.37                 0.64                   0.62   \n",
       "\n",
       "   young5sSkipRatio_mean  young5sSkipRatio_median  \n",
       "0                   0.61                     0.54  \n",
       "1                   0.56                     0.52  \n",
       "2                   0.62                     0.56  \n",
       "3                   0.56                     0.52  \n",
       "4                   0.62                     0.56  "
      ],
      "text/html": "<div>\n<style scoped>\n    .dataframe tbody tr th:only-of-type {\n        vertical-align: middle;\n    }\n\n    .dataframe tbody tr th {\n        vertical-align: top;\n    }\n\n    .dataframe thead th {\n        text-align: right;\n    }\n</style>\n<table border=\"1\" class=\"dataframe\">\n  <thead>\n    <tr style=\"text-align: right;\">\n      <th></th>\n      <th>video_id</th>\n      <th>allVV_sum</th>\n      <th>youngVV_sum</th>\n      <th>youngVVRatio_mean</th>\n      <th>youngVVRatio_median</th>\n      <th>allCompleteRatio_mean</th>\n      <th>allCompleteRatio_median</th>\n      <th>youngCompleteRatio_mean</th>\n      <th>youngCompleteRatio_median</th>\n      <th>allInteractRatio_mean</th>\n      <th>allInteractRatio_median</th>\n      <th>youngInteractRatio_mean</th>\n      <th>youngInteractRatio_median</th>\n      <th>allDurationPerVV_mean</th>\n      <th>allDurationPerVV_median</th>\n      <th>youngDurationPerVV_mean</th>\n      <th>youngDurationPerVV_median</th>\n      <th>allPlayRatio_mean</th>\n      <th>allPlayRatio_median</th>\n      <th>youngPlayRatio_mean</th>\n      <th>youngPlayRatio_median</th>\n      <th>all3sSkipRatio_mean</th>\n      <th>all3sSkipRatio_median</th>\n      <th>young3sSkipRatio_mean</th>\n      <th>young3sSkipRatio_median</th>\n      <th>all5sSkipRatio_mean</th>\n      <th>all5sSkipRatio_median</th>\n      <th>young5sSkipRatio_mean</th>\n      <th>young5sSkipRatio_median</th>\n    </tr>\n  </thead>\n  <tbody>\n    <tr>\n      <th>0</th>\n      <td>6R4836WBo1KC6cSIf</td>\n      <td>53698.00</td>\n      <td>32135.00</td>\n      <td>0.38</td>\n      <td>0.44</td>\n      <td>0.16</td>\n      <td>0.16</td>\n      <td>0.15</td>\n      <td>0.13</td>\n      <td>0.01</td>\n      <td>0.00</td>\n      <td>0.00</td>\n      <td>0.00</td>\n      <td>8.55</td>\n      <td>7.04</td>\n      <td>9.84</td>\n      <td>6.08</td>\n      <td>0.47</td>\n      <td>0.48</td>\n      <td>0.44</td>\n      <td>0.48</td>\n      <td>0.39</td>\n      <td>0.36</td>\n      <td>0.44</td>\n      <td>0.40</td>\n      <td>0.58</td>\n      <td>0.53</td>\n      <td>0.61</td>\n      <td>0.54</td>\n    </tr>\n    <tr>\n      <th>1</th>\n      <td>6XfIL4q5R1KG6R5Mn</td>\n      <td>66310.00</td>\n      <td>39749.00</td>\n      <td>0.44</td>\n      <td>0.48</td>\n      <td>0.25</td>\n      <td>0.27</td>\n      <td>0.26</td>\n      <td>0.26</td>\n      <td>0.01</td>\n      <td>0.00</td>\n      <td>0.00</td>\n      <td>0.00</td>\n      <td>7.80</td>\n      <td>7.16</td>\n      <td>7.53</td>\n      <td>7.09</td>\n      <td>0.54</td>\n      <td>0.55</td>\n      <td>0.54</td>\n      <td>0.55</td>\n      <td>0.43</td>\n      <td>0.40</td>\n      <td>0.42</td>\n      <td>0.38</td>\n      <td>0.56</td>\n      <td>0.53</td>\n      <td>0.56</td>\n      <td>0.52</td>\n    </tr>\n    <tr>\n      <th>2</th>\n      <td>6ZkHOYCPj1KConBz3</td>\n      <td>54592.00</td>\n      <td>32877.00</td>\n      <td>0.39</td>\n      <td>0.46</td>\n      <td>0.19</td>\n      <td>0.20</td>\n      <td>0.19</td>\n      <td>0.16</td>\n      <td>0.00</td>\n      <td>0.00</td>\n      <td>0.00</td>\n      <td>0.00</td>\n      <td>7.40</td>\n      <td>6.32</td>\n      <td>6.88</td>\n      <td>6.28</td>\n      <td>0.47</td>\n      <td>0.46</td>\n      <td>0.46</td>\n      <td>0.47</td>\n      <td>0.43</td>\n      <td>0.39</td>\n      <td>0.46</td>\n      <td>0.40</td>\n      <td>0.59</td>\n      <td>0.57</td>\n      <td>0.62</td>\n      <td>0.56</td>\n    </tr>\n    <tr>\n      <th>3</th>\n      <td>700V59t6W1KC66kxe</td>\n      <td>55690.00</td>\n      <td>33258.00</td>\n      <td>0.39</td>\n      <td>0.46</td>\n      <td>0.17</td>\n      <td>0.18</td>\n      <td>0.16</td>\n      <td>0.14</td>\n      <td>0.01</td>\n      <td>0.00</td>\n      <td>0.02</td>\n      <td>0.00</td>\n      <td>6.89</td>\n      <td>6.38</td>\n      <td>6.52</td>\n      <td>6.26</td>\n      <td>0.50</td>\n      <td>0.52</td>\n      <td>0.48</td>\n      <td>0.50</td>\n      <td>0.37</td>\n      <td>0.35</td>\n      <td>0.40</td>\n      <td>0.35</td>\n      <td>0.53</td>\n      <td>0.53</td>\n      <td>0.56</td>\n      <td>0.52</td>\n    </tr>\n    <tr>\n      <th>4</th>\n      <td>70BJtvU271KChB7K6</td>\n      <td>54388.00</td>\n      <td>32747.00</td>\n      <td>0.43</td>\n      <td>0.50</td>\n      <td>0.17</td>\n      <td>0.16</td>\n      <td>0.17</td>\n      <td>0.17</td>\n      <td>0.00</td>\n      <td>0.00</td>\n      <td>0.01</td>\n      <td>0.00</td>\n      <td>7.21</td>\n      <td>6.40</td>\n      <td>6.78</td>\n      <td>7.44</td>\n      <td>0.45</td>\n      <td>0.46</td>\n      <td>0.44</td>\n      <td>0.48</td>\n      <td>0.41</td>\n      <td>0.38</td>\n      <td>0.44</td>\n      <td>0.37</td>\n      <td>0.64</td>\n      <td>0.62</td>\n      <td>0.62</td>\n      <td>0.56</td>\n    </tr>\n  </tbody>\n</table>\n</div>"
     },
     "metadata": {},
     "execution_count": 200
    }
   ],
   "source": [
    "consumeStatDf = consumeDetailDf.groupby('video_id').agg({\n",
    "    'allVV':'sum', 'youngVV':'sum', 'youngVVRatio':['mean','median'], \n",
    "    'allCompleteRatio':['mean','median'], 'youngCompleteRatio':['mean','median'],'allInteractRatio':['mean','median'], 'youngInteractRatio':['mean','median'], \n",
    "    'allDurationPerVV':['mean','median'], 'youngDurationPerVV':['mean','median'], 'allPlayRatio':['mean','median'], 'youngPlayRatio':['mean','median'], \n",
    "    'all3sSkipRatio':['mean','median'], 'young3sSkipRatio':['mean','median'], 'all5sSkipRatio':['mean','median'], 'young5sSkipRatio':['mean','median']\n",
    "})\n",
    "consumeStatDf.columns = ['_'.join(col) for col in consumeStatDf.columns]\n",
    "consumeStatDf.reset_index(inplace=True)\n",
    "consumeStatDf.head(5)"
   ]
  },
  {
   "cell_type": "code",
   "execution_count": 201,
   "metadata": {},
   "outputs": [
    {
     "output_type": "execute_result",
     "data": {
      "text/plain": [
       "         owner accountName           video_id type duration materialQty  \\\n",
       "0  v_lrenechen    程宝Angela  6R4836WBo1KC6cSIf   模板  10s-15s        3-4张   \n",
       "1  v_lilyyyxie     探长的私家日记  6XfIL4q5R1KG6R5Mn   模版   8s-10s        1-2张   \n",
       "2  v_lrenechen      你的小可爱儿  6ZkHOYCPj1KConBz3   模板   8s-10s        1-2张   \n",
       "3  v_lrenechen     小蘑菇????  700V59t6W1KC66kxe   模板   8s-10s        1-2张   \n",
       "4  v_lrenechen        南宫云伦  70BJtvU271KChB7K6   模板  10s-15s        1-2张   \n",
       "5  v_lrenechen         小鱼儿  70OO5B9sy1KC7ZzFz   模板   8s-10s        3-4张   \n",
       "6  v_lrenechen         银猫子  70sLIyOG81KCj5dy7   模板  10s-15s        1-2张   \n",
       "7  v_lrenechen        信者姗姗  71IxcuVcS1KC6qpOK   模板   8s-10s        1-2张   \n",
       "8  v_lrenechen        阿紫啊！  71KCkYvrL1KC7AxSS   模板   8s-10s        1-2张   \n",
       "9  v_lrenechen         酷酷妞  71Q7pNtQn1KBkue3d   模板   8s-10s        1-2张   \n",
       "\n",
       "  category materialType is_sticker is_effect   theme is_hot is_topic  \\\n",
       "0     旅行风景           照片          无         无  纯风景/建筑      无        有   \n",
       "1     旅行风景           视频          无         无      建筑      无        有   \n",
       "2     旅行风景           照片          无         无  纯风景/建筑      无        有   \n",
       "3       亲子           照片          无         无      萌娃      无        有   \n",
       "4       亲子           照片          无         无      萌娃      无        有   \n",
       "5       颜值           照片          无         无    清纯妹子      无        有   \n",
       "6       颜值           照片          无         无    清纯妹子      无        有   \n",
       "7       颜值           照片          无         无    清纯妹子      无        有   \n",
       "8       颜值           视频          无         无    清纯妹子      无        有   \n",
       "9       亲子           视频          无         无      萌娃      无        有   \n",
       "\n",
       "  is_challenge is_induce  \n",
       "0            无         无  \n",
       "1            无         有  \n",
       "2            无         无  \n",
       "3            无         无  \n",
       "4            无         无  \n",
       "5            无         无  \n",
       "6            无         无  \n",
       "7            无         无  \n",
       "8            无         无  \n",
       "9            无         无  "
      ],
      "text/html": "<div>\n<style scoped>\n    .dataframe tbody tr th:only-of-type {\n        vertical-align: middle;\n    }\n\n    .dataframe tbody tr th {\n        vertical-align: top;\n    }\n\n    .dataframe thead th {\n        text-align: right;\n    }\n</style>\n<table border=\"1\" class=\"dataframe\">\n  <thead>\n    <tr style=\"text-align: right;\">\n      <th></th>\n      <th>owner</th>\n      <th>accountName</th>\n      <th>video_id</th>\n      <th>type</th>\n      <th>duration</th>\n      <th>materialQty</th>\n      <th>category</th>\n      <th>materialType</th>\n      <th>is_sticker</th>\n      <th>is_effect</th>\n      <th>theme</th>\n      <th>is_hot</th>\n      <th>is_topic</th>\n      <th>is_challenge</th>\n      <th>is_induce</th>\n    </tr>\n  </thead>\n  <tbody>\n    <tr>\n      <th>0</th>\n      <td>v_lrenechen</td>\n      <td>程宝Angela</td>\n      <td>6R4836WBo1KC6cSIf</td>\n      <td>模板</td>\n      <td>10s-15s</td>\n      <td>3-4张</td>\n      <td>旅行风景</td>\n      <td>照片</td>\n      <td>无</td>\n      <td>无</td>\n      <td>纯风景/建筑</td>\n      <td>无</td>\n      <td>有</td>\n      <td>无</td>\n      <td>无</td>\n    </tr>\n    <tr>\n      <th>1</th>\n      <td>v_lilyyyxie</td>\n      <td>探长的私家日记</td>\n      <td>6XfIL4q5R1KG6R5Mn</td>\n      <td>模版</td>\n      <td>8s-10s</td>\n      <td>1-2张</td>\n      <td>旅行风景</td>\n      <td>视频</td>\n      <td>无</td>\n      <td>无</td>\n      <td>建筑</td>\n      <td>无</td>\n      <td>有</td>\n      <td>无</td>\n      <td>有</td>\n    </tr>\n    <tr>\n      <th>2</th>\n      <td>v_lrenechen</td>\n      <td>你的小可爱儿</td>\n      <td>6ZkHOYCPj1KConBz3</td>\n      <td>模板</td>\n      <td>8s-10s</td>\n      <td>1-2张</td>\n      <td>旅行风景</td>\n      <td>照片</td>\n      <td>无</td>\n      <td>无</td>\n      <td>纯风景/建筑</td>\n      <td>无</td>\n      <td>有</td>\n      <td>无</td>\n      <td>无</td>\n    </tr>\n    <tr>\n      <th>3</th>\n      <td>v_lrenechen</td>\n      <td>小蘑菇????</td>\n      <td>700V59t6W1KC66kxe</td>\n      <td>模板</td>\n      <td>8s-10s</td>\n      <td>1-2张</td>\n      <td>亲子</td>\n      <td>照片</td>\n      <td>无</td>\n      <td>无</td>\n      <td>萌娃</td>\n      <td>无</td>\n      <td>有</td>\n      <td>无</td>\n      <td>无</td>\n    </tr>\n    <tr>\n      <th>4</th>\n      <td>v_lrenechen</td>\n      <td>南宫云伦</td>\n      <td>70BJtvU271KChB7K6</td>\n      <td>模板</td>\n      <td>10s-15s</td>\n      <td>1-2张</td>\n      <td>亲子</td>\n      <td>照片</td>\n      <td>无</td>\n      <td>无</td>\n      <td>萌娃</td>\n      <td>无</td>\n      <td>有</td>\n      <td>无</td>\n      <td>无</td>\n    </tr>\n    <tr>\n      <th>5</th>\n      <td>v_lrenechen</td>\n      <td>小鱼儿</td>\n      <td>70OO5B9sy1KC7ZzFz</td>\n      <td>模板</td>\n      <td>8s-10s</td>\n      <td>3-4张</td>\n      <td>颜值</td>\n      <td>照片</td>\n      <td>无</td>\n      <td>无</td>\n      <td>清纯妹子</td>\n      <td>无</td>\n      <td>有</td>\n      <td>无</td>\n      <td>无</td>\n    </tr>\n    <tr>\n      <th>6</th>\n      <td>v_lrenechen</td>\n      <td>银猫子</td>\n      <td>70sLIyOG81KCj5dy7</td>\n      <td>模板</td>\n      <td>10s-15s</td>\n      <td>1-2张</td>\n      <td>颜值</td>\n      <td>照片</td>\n      <td>无</td>\n      <td>无</td>\n      <td>清纯妹子</td>\n      <td>无</td>\n      <td>有</td>\n      <td>无</td>\n      <td>无</td>\n    </tr>\n    <tr>\n      <th>7</th>\n      <td>v_lrenechen</td>\n      <td>信者姗姗</td>\n      <td>71IxcuVcS1KC6qpOK</td>\n      <td>模板</td>\n      <td>8s-10s</td>\n      <td>1-2张</td>\n      <td>颜值</td>\n      <td>照片</td>\n      <td>无</td>\n      <td>无</td>\n      <td>清纯妹子</td>\n      <td>无</td>\n      <td>有</td>\n      <td>无</td>\n      <td>无</td>\n    </tr>\n    <tr>\n      <th>8</th>\n      <td>v_lrenechen</td>\n      <td>阿紫啊！</td>\n      <td>71KCkYvrL1KC7AxSS</td>\n      <td>模板</td>\n      <td>8s-10s</td>\n      <td>1-2张</td>\n      <td>颜值</td>\n      <td>视频</td>\n      <td>无</td>\n      <td>无</td>\n      <td>清纯妹子</td>\n      <td>无</td>\n      <td>有</td>\n      <td>无</td>\n      <td>无</td>\n    </tr>\n    <tr>\n      <th>9</th>\n      <td>v_lrenechen</td>\n      <td>酷酷妞</td>\n      <td>71Q7pNtQn1KBkue3d</td>\n      <td>模板</td>\n      <td>8s-10s</td>\n      <td>1-2张</td>\n      <td>亲子</td>\n      <td>视频</td>\n      <td>无</td>\n      <td>无</td>\n      <td>萌娃</td>\n      <td>无</td>\n      <td>有</td>\n      <td>无</td>\n      <td>无</td>\n    </tr>\n  </tbody>\n</table>\n</div>"
     },
     "metadata": {},
     "execution_count": 201
    }
   ],
   "source": [
    "feedAttrDf = pd.read_excel('手机穿越_年轻人冷启投放标签.xlsx', \n",
    "            header=0, \n",
    "            names=[\n",
    "                'owner', 'accountName', 'video_id',\n",
    "                'type', 'duration', 'materialQty', 'category', 'materialType',\n",
    "                'is_sticker', 'is_effect', 'theme',\n",
    "                'is_hot', 'is_topic', 'is_challenge', 'is_induce'],\n",
    "            dtype={\n",
    "                'owner':str, 'accountName':str, 'video_id':str,\n",
    "                'type':str, 'duration':str, 'materialQty':str, 'category':str, 'materialType':str,\n",
    "                'is_sticker':str, 'is_effect':str, 'theme':str,\n",
    "                'is_hot':str, 'is_topic':str, 'is_challenge':str, 'is_induce':str\n",
    "            })\n",
    "feedAttrDf.fillna(0).head(10)"
   ]
  },
  {
   "cell_type": "code",
   "execution_count": 203,
   "metadata": {},
   "outputs": [
    {
     "output_type": "execute_result",
     "data": {
      "text/plain": [
       "            owner accountName           video_id type duration materialQty  \\\n",
       "33    v_lrenechen    程宝Angela  6R4836WBo1KC6cSIf   模板  10s-15s        3-4张   \n",
       "23    v_lrenechen    程宝Angela  6R4836WBo1KC6cSIf   模板  10s-15s        3-4张   \n",
       "7     v_lrenechen    程宝Angela  6R4836WBo1KC6cSIf   模板  10s-15s        3-4张   \n",
       "14    v_lrenechen    程宝Angela  6R4836WBo1KC6cSIf   模板  10s-15s        3-4张   \n",
       "18    v_lrenechen    程宝Angela  6R4836WBo1KC6cSIf   模板  10s-15s        3-4张   \n",
       "...           ...         ...                ...  ...      ...         ...   \n",
       "3322  v_lrenechen       Irene  7kgrJ91xc1KC5ULFb   模板   8s-10s        1-2张   \n",
       "3338  v_lrenechen       Irene  7kgrJ91xc1KC5ULFb   模板   8s-10s        1-2张   \n",
       "3340  v_lrenechen       Irene  7kgrJ91xc1KC5ULFb   模板   8s-10s        1-2张   \n",
       "3366  v_lrenechen       Irene  7kgrJ91xc1KC5ULFb   模板   8s-10s        1-2张   \n",
       "3370  v_lrenechen       Irene  7kgrJ91xc1KC5ULFb   模板   8s-10s        1-2张   \n",
       "\n",
       "     category materialType is_sticker is_effect   theme is_hot is_topic  \\\n",
       "33       旅行风景           照片          无         无  纯风景/建筑      无        有   \n",
       "23       旅行风景           照片          无         无  纯风景/建筑      无        有   \n",
       "7        旅行风景           照片          无         无  纯风景/建筑      无        有   \n",
       "14       旅行风景           照片          无         无  纯风景/建筑      无        有   \n",
       "18       旅行风景           照片          无         无  纯风景/建筑      无        有   \n",
       "...       ...          ...        ...       ...     ...    ...      ...   \n",
       "3322     旅行风景           照片          无         无  纯风景/建筑      无        有   \n",
       "3338     旅行风景           照片          无         无  纯风景/建筑      无        有   \n",
       "3340     旅行风景           照片          无         无  纯风景/建筑      无        有   \n",
       "3366     旅行风景           照片          无         无  纯风景/建筑      无        有   \n",
       "3370     旅行风景           照片          无         无  纯风景/建筑      无        有   \n",
       "\n",
       "     is_challenge is_induce sex cityLevel uploadFrequency  allVV  youngVV  \\\n",
       "33              无         无   男        三线          0次发布用户   5549     3680   \n",
       "23              无         无   女        三线          0次发布用户   5300     2831   \n",
       "7               无         无   男        四线          0次发布用户   5258     3604   \n",
       "14              无         无   女        四线          0次发布用户   4839     2684   \n",
       "18              无         无   男        二线          0次发布用户   4759     3285   \n",
       "...           ...       ...  ..       ...             ...    ...      ...   \n",
       "3322            无         无  未知        三线        1-5次发布用户      1        1   \n",
       "3338            无         无   男        一线        >10次发布用户      1        0   \n",
       "3340            无         无   男        五线        >10次发布用户      1        0   \n",
       "3366            无         无   女       新一线        >10次发布用户      1        0   \n",
       "3370            无         无   女        一线       6-10次发布用户      1        1   \n",
       "\n",
       "      youngVVRatio  allCompleteRatio  youngCompleteRatio  allInteractRatio  \\\n",
       "33            0.66              0.20                0.19              0.00   \n",
       "23            0.53              0.24                0.22              0.01   \n",
       "7             0.69              0.20                0.20              0.00   \n",
       "14            0.55              0.23                0.21              0.01   \n",
       "18            0.69              0.18                0.17              0.01   \n",
       "...            ...               ...                 ...               ...   \n",
       "3322          1.00              0.00                0.00              0.00   \n",
       "3338          0.00              0.00                 nan              0.00   \n",
       "3340          0.00              0.00                 nan              0.00   \n",
       "3366          0.00              0.00                 nan              0.00   \n",
       "3370          1.00              0.00                0.00              0.00   \n",
       "\n",
       "      youngInteractRatio  allDurationPerVV  youngDurationPerVV  allPlayRatio  \\\n",
       "33                  0.00              8.35                8.49          0.50   \n",
       "23                  0.01              9.27                8.73          0.53   \n",
       "7                   0.00              8.71                8.30          0.51   \n",
       "14                  0.01              8.79                8.28          0.52   \n",
       "18                  0.01              8.29                8.29          0.49   \n",
       "...                  ...               ...                 ...           ...   \n",
       "3322                0.00              1.28                1.28          0.13   \n",
       "3338                 nan              5.26                 nan          0.53   \n",
       "3340                 nan               nan                 nan          0.00   \n",
       "3366                 nan              1.47                 nan          0.15   \n",
       "3370                0.00              2.21                2.21          0.22   \n",
       "\n",
       "      youngPlayRatio  all3sSkipRatio  young3sSkipRatio  all5sSkipRatio  \\\n",
       "33              0.49            0.36              0.37            0.52   \n",
       "23              0.51            0.36              0.37            0.50   \n",
       "7               0.50            0.34              0.35            0.52   \n",
       "14              0.51            0.35              0.36            0.49   \n",
       "18              0.48            0.36              0.37            0.53   \n",
       "...              ...             ...               ...             ...   \n",
       "3322            0.13            1.00              1.00            1.00   \n",
       "3338             nan            0.00               nan            0.00   \n",
       "3340             nan            0.00               nan            0.00   \n",
       "3366             nan            1.00               nan            1.00   \n",
       "3370            0.22            1.00              1.00            1.00   \n",
       "\n",
       "      young5sSkipRatio  \n",
       "33                0.52  \n",
       "23                0.52  \n",
       "7                 0.53  \n",
       "14                0.50  \n",
       "18                0.54  \n",
       "...                ...  \n",
       "3322              1.00  \n",
       "3338               nan  \n",
       "3340               nan  \n",
       "3366               nan  \n",
       "3370              1.00  \n",
       "\n",
       "[3372 rows x 33 columns]"
      ],
      "text/html": "<div>\n<style scoped>\n    .dataframe tbody tr th:only-of-type {\n        vertical-align: middle;\n    }\n\n    .dataframe tbody tr th {\n        vertical-align: top;\n    }\n\n    .dataframe thead th {\n        text-align: right;\n    }\n</style>\n<table border=\"1\" class=\"dataframe\">\n  <thead>\n    <tr style=\"text-align: right;\">\n      <th></th>\n      <th>owner</th>\n      <th>accountName</th>\n      <th>video_id</th>\n      <th>type</th>\n      <th>duration</th>\n      <th>materialQty</th>\n      <th>category</th>\n      <th>materialType</th>\n      <th>is_sticker</th>\n      <th>is_effect</th>\n      <th>theme</th>\n      <th>is_hot</th>\n      <th>is_topic</th>\n      <th>is_challenge</th>\n      <th>is_induce</th>\n      <th>sex</th>\n      <th>cityLevel</th>\n      <th>uploadFrequency</th>\n      <th>allVV</th>\n      <th>youngVV</th>\n      <th>youngVVRatio</th>\n      <th>allCompleteRatio</th>\n      <th>youngCompleteRatio</th>\n      <th>allInteractRatio</th>\n      <th>youngInteractRatio</th>\n      <th>allDurationPerVV</th>\n      <th>youngDurationPerVV</th>\n      <th>allPlayRatio</th>\n      <th>youngPlayRatio</th>\n      <th>all3sSkipRatio</th>\n      <th>young3sSkipRatio</th>\n      <th>all5sSkipRatio</th>\n      <th>young5sSkipRatio</th>\n    </tr>\n  </thead>\n  <tbody>\n    <tr>\n      <th>33</th>\n      <td>v_lrenechen</td>\n      <td>程宝Angela</td>\n      <td>6R4836WBo1KC6cSIf</td>\n      <td>模板</td>\n      <td>10s-15s</td>\n      <td>3-4张</td>\n      <td>旅行风景</td>\n      <td>照片</td>\n      <td>无</td>\n      <td>无</td>\n      <td>纯风景/建筑</td>\n      <td>无</td>\n      <td>有</td>\n      <td>无</td>\n      <td>无</td>\n      <td>男</td>\n      <td>三线</td>\n      <td>0次发布用户</td>\n      <td>5549</td>\n      <td>3680</td>\n      <td>0.66</td>\n      <td>0.20</td>\n      <td>0.19</td>\n      <td>0.00</td>\n      <td>0.00</td>\n      <td>8.35</td>\n      <td>8.49</td>\n      <td>0.50</td>\n      <td>0.49</td>\n      <td>0.36</td>\n      <td>0.37</td>\n      <td>0.52</td>\n      <td>0.52</td>\n    </tr>\n    <tr>\n      <th>23</th>\n      <td>v_lrenechen</td>\n      <td>程宝Angela</td>\n      <td>6R4836WBo1KC6cSIf</td>\n      <td>模板</td>\n      <td>10s-15s</td>\n      <td>3-4张</td>\n      <td>旅行风景</td>\n      <td>照片</td>\n      <td>无</td>\n      <td>无</td>\n      <td>纯风景/建筑</td>\n      <td>无</td>\n      <td>有</td>\n      <td>无</td>\n      <td>无</td>\n      <td>女</td>\n      <td>三线</td>\n      <td>0次发布用户</td>\n      <td>5300</td>\n      <td>2831</td>\n      <td>0.53</td>\n      <td>0.24</td>\n      <td>0.22</td>\n      <td>0.01</td>\n      <td>0.01</td>\n      <td>9.27</td>\n      <td>8.73</td>\n      <td>0.53</td>\n      <td>0.51</td>\n      <td>0.36</td>\n      <td>0.37</td>\n      <td>0.50</td>\n      <td>0.52</td>\n    </tr>\n    <tr>\n      <th>7</th>\n      <td>v_lrenechen</td>\n      <td>程宝Angela</td>\n      <td>6R4836WBo1KC6cSIf</td>\n      <td>模板</td>\n      <td>10s-15s</td>\n      <td>3-4张</td>\n      <td>旅行风景</td>\n      <td>照片</td>\n      <td>无</td>\n      <td>无</td>\n      <td>纯风景/建筑</td>\n      <td>无</td>\n      <td>有</td>\n      <td>无</td>\n      <td>无</td>\n      <td>男</td>\n      <td>四线</td>\n      <td>0次发布用户</td>\n      <td>5258</td>\n      <td>3604</td>\n      <td>0.69</td>\n      <td>0.20</td>\n      <td>0.20</td>\n      <td>0.00</td>\n      <td>0.00</td>\n      <td>8.71</td>\n      <td>8.30</td>\n      <td>0.51</td>\n      <td>0.50</td>\n      <td>0.34</td>\n      <td>0.35</td>\n      <td>0.52</td>\n      <td>0.53</td>\n    </tr>\n    <tr>\n      <th>14</th>\n      <td>v_lrenechen</td>\n      <td>程宝Angela</td>\n      <td>6R4836WBo1KC6cSIf</td>\n      <td>模板</td>\n      <td>10s-15s</td>\n      <td>3-4张</td>\n      <td>旅行风景</td>\n      <td>照片</td>\n      <td>无</td>\n      <td>无</td>\n      <td>纯风景/建筑</td>\n      <td>无</td>\n      <td>有</td>\n      <td>无</td>\n      <td>无</td>\n      <td>女</td>\n      <td>四线</td>\n      <td>0次发布用户</td>\n      <td>4839</td>\n      <td>2684</td>\n      <td>0.55</td>\n      <td>0.23</td>\n      <td>0.21</td>\n      <td>0.01</td>\n      <td>0.01</td>\n      <td>8.79</td>\n      <td>8.28</td>\n      <td>0.52</td>\n      <td>0.51</td>\n      <td>0.35</td>\n      <td>0.36</td>\n      <td>0.49</td>\n      <td>0.50</td>\n    </tr>\n    <tr>\n      <th>18</th>\n      <td>v_lrenechen</td>\n      <td>程宝Angela</td>\n      <td>6R4836WBo1KC6cSIf</td>\n      <td>模板</td>\n      <td>10s-15s</td>\n      <td>3-4张</td>\n      <td>旅行风景</td>\n      <td>照片</td>\n      <td>无</td>\n      <td>无</td>\n      <td>纯风景/建筑</td>\n      <td>无</td>\n      <td>有</td>\n      <td>无</td>\n      <td>无</td>\n      <td>男</td>\n      <td>二线</td>\n      <td>0次发布用户</td>\n      <td>4759</td>\n      <td>3285</td>\n      <td>0.69</td>\n      <td>0.18</td>\n      <td>0.17</td>\n      <td>0.01</td>\n      <td>0.01</td>\n      <td>8.29</td>\n      <td>8.29</td>\n      <td>0.49</td>\n      <td>0.48</td>\n      <td>0.36</td>\n      <td>0.37</td>\n      <td>0.53</td>\n      <td>0.54</td>\n    </tr>\n    <tr>\n      <th>...</th>\n      <td>...</td>\n      <td>...</td>\n      <td>...</td>\n      <td>...</td>\n      <td>...</td>\n      <td>...</td>\n      <td>...</td>\n      <td>...</td>\n      <td>...</td>\n      <td>...</td>\n      <td>...</td>\n      <td>...</td>\n      <td>...</td>\n      <td>...</td>\n      <td>...</td>\n      <td>...</td>\n      <td>...</td>\n      <td>...</td>\n      <td>...</td>\n      <td>...</td>\n      <td>...</td>\n      <td>...</td>\n      <td>...</td>\n      <td>...</td>\n      <td>...</td>\n      <td>...</td>\n      <td>...</td>\n      <td>...</td>\n      <td>...</td>\n      <td>...</td>\n      <td>...</td>\n      <td>...</td>\n      <td>...</td>\n    </tr>\n    <tr>\n      <th>3322</th>\n      <td>v_lrenechen</td>\n      <td>Irene</td>\n      <td>7kgrJ91xc1KC5ULFb</td>\n      <td>模板</td>\n      <td>8s-10s</td>\n      <td>1-2张</td>\n      <td>旅行风景</td>\n      <td>照片</td>\n      <td>无</td>\n      <td>无</td>\n      <td>纯风景/建筑</td>\n      <td>无</td>\n      <td>有</td>\n      <td>无</td>\n      <td>无</td>\n      <td>未知</td>\n      <td>三线</td>\n      <td>1-5次发布用户</td>\n      <td>1</td>\n      <td>1</td>\n      <td>1.00</td>\n      <td>0.00</td>\n      <td>0.00</td>\n      <td>0.00</td>\n      <td>0.00</td>\n      <td>1.28</td>\n      <td>1.28</td>\n      <td>0.13</td>\n      <td>0.13</td>\n      <td>1.00</td>\n      <td>1.00</td>\n      <td>1.00</td>\n      <td>1.00</td>\n    </tr>\n    <tr>\n      <th>3338</th>\n      <td>v_lrenechen</td>\n      <td>Irene</td>\n      <td>7kgrJ91xc1KC5ULFb</td>\n      <td>模板</td>\n      <td>8s-10s</td>\n      <td>1-2张</td>\n      <td>旅行风景</td>\n      <td>照片</td>\n      <td>无</td>\n      <td>无</td>\n      <td>纯风景/建筑</td>\n      <td>无</td>\n      <td>有</td>\n      <td>无</td>\n      <td>无</td>\n      <td>男</td>\n      <td>一线</td>\n      <td>&gt;10次发布用户</td>\n      <td>1</td>\n      <td>0</td>\n      <td>0.00</td>\n      <td>0.00</td>\n      <td>nan</td>\n      <td>0.00</td>\n      <td>nan</td>\n      <td>5.26</td>\n      <td>nan</td>\n      <td>0.53</td>\n      <td>nan</td>\n      <td>0.00</td>\n      <td>nan</td>\n      <td>0.00</td>\n      <td>nan</td>\n    </tr>\n    <tr>\n      <th>3340</th>\n      <td>v_lrenechen</td>\n      <td>Irene</td>\n      <td>7kgrJ91xc1KC5ULFb</td>\n      <td>模板</td>\n      <td>8s-10s</td>\n      <td>1-2张</td>\n      <td>旅行风景</td>\n      <td>照片</td>\n      <td>无</td>\n      <td>无</td>\n      <td>纯风景/建筑</td>\n      <td>无</td>\n      <td>有</td>\n      <td>无</td>\n      <td>无</td>\n      <td>男</td>\n      <td>五线</td>\n      <td>&gt;10次发布用户</td>\n      <td>1</td>\n      <td>0</td>\n      <td>0.00</td>\n      <td>0.00</td>\n      <td>nan</td>\n      <td>0.00</td>\n      <td>nan</td>\n      <td>nan</td>\n      <td>nan</td>\n      <td>0.00</td>\n      <td>nan</td>\n      <td>0.00</td>\n      <td>nan</td>\n      <td>0.00</td>\n      <td>nan</td>\n    </tr>\n    <tr>\n      <th>3366</th>\n      <td>v_lrenechen</td>\n      <td>Irene</td>\n      <td>7kgrJ91xc1KC5ULFb</td>\n      <td>模板</td>\n      <td>8s-10s</td>\n      <td>1-2张</td>\n      <td>旅行风景</td>\n      <td>照片</td>\n      <td>无</td>\n      <td>无</td>\n      <td>纯风景/建筑</td>\n      <td>无</td>\n      <td>有</td>\n      <td>无</td>\n      <td>无</td>\n      <td>女</td>\n      <td>新一线</td>\n      <td>&gt;10次发布用户</td>\n      <td>1</td>\n      <td>0</td>\n      <td>0.00</td>\n      <td>0.00</td>\n      <td>nan</td>\n      <td>0.00</td>\n      <td>nan</td>\n      <td>1.47</td>\n      <td>nan</td>\n      <td>0.15</td>\n      <td>nan</td>\n      <td>1.00</td>\n      <td>nan</td>\n      <td>1.00</td>\n      <td>nan</td>\n    </tr>\n    <tr>\n      <th>3370</th>\n      <td>v_lrenechen</td>\n      <td>Irene</td>\n      <td>7kgrJ91xc1KC5ULFb</td>\n      <td>模板</td>\n      <td>8s-10s</td>\n      <td>1-2张</td>\n      <td>旅行风景</td>\n      <td>照片</td>\n      <td>无</td>\n      <td>无</td>\n      <td>纯风景/建筑</td>\n      <td>无</td>\n      <td>有</td>\n      <td>无</td>\n      <td>无</td>\n      <td>女</td>\n      <td>一线</td>\n      <td>6-10次发布用户</td>\n      <td>1</td>\n      <td>1</td>\n      <td>1.00</td>\n      <td>0.00</td>\n      <td>0.00</td>\n      <td>0.00</td>\n      <td>0.00</td>\n      <td>2.21</td>\n      <td>2.21</td>\n      <td>0.22</td>\n      <td>0.22</td>\n      <td>1.00</td>\n      <td>1.00</td>\n      <td>1.00</td>\n      <td>1.00</td>\n    </tr>\n  </tbody>\n</table>\n<p>3372 rows × 33 columns</p>\n</div>"
     },
     "metadata": {},
     "execution_count": 203
    }
   ],
   "source": [
    "# Merge feedAttr with consumeDetailData, then sort\n",
    "feedAttrConsumeDetailDf = pd.merge(feedAttrDf, consumeDetailDf, on='video_id', how='left')\n",
    "feedAttrConsumeDetailDf.sort_values(by=['video_id', 'allVV'], ascending=[True, False], inplace=True)\n",
    "feedAttrConsumeDetailDf"
   ]
  },
  {
   "cell_type": "code",
   "execution_count": 204,
   "metadata": {},
   "outputs": [
    {
     "output_type": "execute_result",
     "data": {
      "text/plain": [
       "          owner accountName           video_id type duration materialQty  \\\n",
       "17  v_lilyyyxie     不会拍照的达森  79owJ43dY1KGHLosR   模版     小于8s        1-2张   \n",
       "37  v_lilyyyxie    不会拍视频的兔丁  7gJBBeova1KGHZKfn   模版     小于8s        1-2张   \n",
       "18  v_lilyyyxie     不会拍照的达森  79owJ43dY1KGHOg88   模版     小于8s        1-2张   \n",
       "39  v_lilyyyxie    不会拍视频的兔丁  7gJBBeova1KGI3Hnj   模版     小于8s        1-2张   \n",
       "38  v_lilyyyxie    不会拍视频的兔丁  7gJBBeova1KGI1F0g   模版     小于8s        1-2张   \n",
       "\n",
       "   category materialType is_sticker is_effect theme is_hot is_topic  \\\n",
       "17     旅行风景           视频          无         无   纯风景      无        无   \n",
       "37     旅行风景           视频          有         无    旅行      无        有   \n",
       "18     旅行风景           视频          无         无    旅行      无        无   \n",
       "39     旅行风景           视频          无         无    航拍      无        有   \n",
       "38     旅行风景           视频          无         无    旅行      无        有   \n",
       "\n",
       "   is_challenge is_induce  allVV_sum  youngVV_sum  youngVVRatio_mean  \\\n",
       "17            无         有  209061.00     80698.00               0.30   \n",
       "37            无         有  157024.00     63612.00               0.32   \n",
       "18            无         有  113114.00     54545.00               0.38   \n",
       "39            无         有  110007.00     54472.00               0.36   \n",
       "38            无         有  109560.00     58185.00               0.39   \n",
       "\n",
       "    youngVVRatio_median  allCompleteRatio_mean  allCompleteRatio_median  \\\n",
       "17                 0.29                   0.39                     0.43   \n",
       "37                 0.33                   0.41                     0.43   \n",
       "18                 0.40                   0.32                     0.33   \n",
       "39                 0.38                   0.34                     0.34   \n",
       "38                 0.41                   0.38                     0.43   \n",
       "\n",
       "    youngCompleteRatio_mean  youngCompleteRatio_median  allInteractRatio_mean  \\\n",
       "17                     0.37                       0.40                   0.01   \n",
       "37                     0.34                       0.37                   0.01   \n",
       "18                     0.29                       0.29                   0.01   \n",
       "39                     0.33                       0.34                   0.01   \n",
       "38                     0.36                       0.40                   0.00   \n",
       "\n",
       "    allInteractRatio_median  youngInteractRatio_mean  \\\n",
       "17                     0.00                     0.01   \n",
       "37                     0.00                     0.01   \n",
       "18                     0.00                     0.01   \n",
       "39                     0.00                     0.01   \n",
       "38                     0.00                     0.01   \n",
       "\n",
       "    youngInteractRatio_median  allDurationPerVV_mean  allDurationPerVV_median  \\\n",
       "17                       0.00                   7.78                     7.35   \n",
       "37                       0.00                   8.02                     8.11   \n",
       "18                       0.00                   7.39                     7.13   \n",
       "39                       0.00                   7.36                     7.26   \n",
       "38                       0.00                   8.29                     8.18   \n",
       "\n",
       "    youngDurationPerVV_mean  youngDurationPerVV_median  allPlayRatio_mean  \\\n",
       "17                     7.32                       7.44               0.68   \n",
       "37                     7.42                       7.38               0.69   \n",
       "18                     7.05                       6.95               0.62   \n",
       "39                     7.36                       7.86               0.65   \n",
       "38                     7.75                       7.12               0.68   \n",
       "\n",
       "    allPlayRatio_median  youngPlayRatio_mean  youngPlayRatio_median  \\\n",
       "17                 0.70                 0.66                   0.70   \n",
       "37                 0.72                 0.67                   0.71   \n",
       "18                 0.62                 0.62                   0.64   \n",
       "39                 0.67                 0.63                   0.66   \n",
       "38                 0.72                 0.66                   0.72   \n",
       "\n",
       "    all3sSkipRatio_mean  all3sSkipRatio_median  young3sSkipRatio_mean  \\\n",
       "17                 0.33                   0.30                   0.33   \n",
       "37                 0.29                   0.27                   0.29   \n",
       "18                 0.35                   0.35                   0.36   \n",
       "39                 0.31                   0.30                   0.32   \n",
       "38                 0.26                   0.23                   0.30   \n",
       "\n",
       "    young3sSkipRatio_median  all5sSkipRatio_mean  all5sSkipRatio_median  \\\n",
       "17                     0.30                 0.47                   0.45   \n",
       "37                     0.26                 0.44                   0.43   \n",
       "18                     0.35                 0.49                   0.50   \n",
       "39                     0.31                 0.49                   0.48   \n",
       "38                     0.23                 0.43                   0.39   \n",
       "\n",
       "    young5sSkipRatio_mean  young5sSkipRatio_median  \n",
       "17                   0.45                     0.43  \n",
       "37                   0.49                     0.45  \n",
       "18                   0.50                     0.50  \n",
       "39                   0.50                     0.49  \n",
       "38                   0.44                     0.40  "
      ],
      "text/html": "<div>\n<style scoped>\n    .dataframe tbody tr th:only-of-type {\n        vertical-align: middle;\n    }\n\n    .dataframe tbody tr th {\n        vertical-align: top;\n    }\n\n    .dataframe thead th {\n        text-align: right;\n    }\n</style>\n<table border=\"1\" class=\"dataframe\">\n  <thead>\n    <tr style=\"text-align: right;\">\n      <th></th>\n      <th>owner</th>\n      <th>accountName</th>\n      <th>video_id</th>\n      <th>type</th>\n      <th>duration</th>\n      <th>materialQty</th>\n      <th>category</th>\n      <th>materialType</th>\n      <th>is_sticker</th>\n      <th>is_effect</th>\n      <th>theme</th>\n      <th>is_hot</th>\n      <th>is_topic</th>\n      <th>is_challenge</th>\n      <th>is_induce</th>\n      <th>allVV_sum</th>\n      <th>youngVV_sum</th>\n      <th>youngVVRatio_mean</th>\n      <th>youngVVRatio_median</th>\n      <th>allCompleteRatio_mean</th>\n      <th>allCompleteRatio_median</th>\n      <th>youngCompleteRatio_mean</th>\n      <th>youngCompleteRatio_median</th>\n      <th>allInteractRatio_mean</th>\n      <th>allInteractRatio_median</th>\n      <th>youngInteractRatio_mean</th>\n      <th>youngInteractRatio_median</th>\n      <th>allDurationPerVV_mean</th>\n      <th>allDurationPerVV_median</th>\n      <th>youngDurationPerVV_mean</th>\n      <th>youngDurationPerVV_median</th>\n      <th>allPlayRatio_mean</th>\n      <th>allPlayRatio_median</th>\n      <th>youngPlayRatio_mean</th>\n      <th>youngPlayRatio_median</th>\n      <th>all3sSkipRatio_mean</th>\n      <th>all3sSkipRatio_median</th>\n      <th>young3sSkipRatio_mean</th>\n      <th>young3sSkipRatio_median</th>\n      <th>all5sSkipRatio_mean</th>\n      <th>all5sSkipRatio_median</th>\n      <th>young5sSkipRatio_mean</th>\n      <th>young5sSkipRatio_median</th>\n    </tr>\n  </thead>\n  <tbody>\n    <tr>\n      <th>17</th>\n      <td>v_lilyyyxie</td>\n      <td>不会拍照的达森</td>\n      <td>79owJ43dY1KGHLosR</td>\n      <td>模版</td>\n      <td>小于8s</td>\n      <td>1-2张</td>\n      <td>旅行风景</td>\n      <td>视频</td>\n      <td>无</td>\n      <td>无</td>\n      <td>纯风景</td>\n      <td>无</td>\n      <td>无</td>\n      <td>无</td>\n      <td>有</td>\n      <td>209061.00</td>\n      <td>80698.00</td>\n      <td>0.30</td>\n      <td>0.29</td>\n      <td>0.39</td>\n      <td>0.43</td>\n      <td>0.37</td>\n      <td>0.40</td>\n      <td>0.01</td>\n      <td>0.00</td>\n      <td>0.01</td>\n      <td>0.00</td>\n      <td>7.78</td>\n      <td>7.35</td>\n      <td>7.32</td>\n      <td>7.44</td>\n      <td>0.68</td>\n      <td>0.70</td>\n      <td>0.66</td>\n      <td>0.70</td>\n      <td>0.33</td>\n      <td>0.30</td>\n      <td>0.33</td>\n      <td>0.30</td>\n      <td>0.47</td>\n      <td>0.45</td>\n      <td>0.45</td>\n      <td>0.43</td>\n    </tr>\n    <tr>\n      <th>37</th>\n      <td>v_lilyyyxie</td>\n      <td>不会拍视频的兔丁</td>\n      <td>7gJBBeova1KGHZKfn</td>\n      <td>模版</td>\n      <td>小于8s</td>\n      <td>1-2张</td>\n      <td>旅行风景</td>\n      <td>视频</td>\n      <td>有</td>\n      <td>无</td>\n      <td>旅行</td>\n      <td>无</td>\n      <td>有</td>\n      <td>无</td>\n      <td>有</td>\n      <td>157024.00</td>\n      <td>63612.00</td>\n      <td>0.32</td>\n      <td>0.33</td>\n      <td>0.41</td>\n      <td>0.43</td>\n      <td>0.34</td>\n      <td>0.37</td>\n      <td>0.01</td>\n      <td>0.00</td>\n      <td>0.01</td>\n      <td>0.00</td>\n      <td>8.02</td>\n      <td>8.11</td>\n      <td>7.42</td>\n      <td>7.38</td>\n      <td>0.69</td>\n      <td>0.72</td>\n      <td>0.67</td>\n      <td>0.71</td>\n      <td>0.29</td>\n      <td>0.27</td>\n      <td>0.29</td>\n      <td>0.26</td>\n      <td>0.44</td>\n      <td>0.43</td>\n      <td>0.49</td>\n      <td>0.45</td>\n    </tr>\n    <tr>\n      <th>18</th>\n      <td>v_lilyyyxie</td>\n      <td>不会拍照的达森</td>\n      <td>79owJ43dY1KGHOg88</td>\n      <td>模版</td>\n      <td>小于8s</td>\n      <td>1-2张</td>\n      <td>旅行风景</td>\n      <td>视频</td>\n      <td>无</td>\n      <td>无</td>\n      <td>旅行</td>\n      <td>无</td>\n      <td>无</td>\n      <td>无</td>\n      <td>有</td>\n      <td>113114.00</td>\n      <td>54545.00</td>\n      <td>0.38</td>\n      <td>0.40</td>\n      <td>0.32</td>\n      <td>0.33</td>\n      <td>0.29</td>\n      <td>0.29</td>\n      <td>0.01</td>\n      <td>0.00</td>\n      <td>0.01</td>\n      <td>0.00</td>\n      <td>7.39</td>\n      <td>7.13</td>\n      <td>7.05</td>\n      <td>6.95</td>\n      <td>0.62</td>\n      <td>0.62</td>\n      <td>0.62</td>\n      <td>0.64</td>\n      <td>0.35</td>\n      <td>0.35</td>\n      <td>0.36</td>\n      <td>0.35</td>\n      <td>0.49</td>\n      <td>0.50</td>\n      <td>0.50</td>\n      <td>0.50</td>\n    </tr>\n    <tr>\n      <th>39</th>\n      <td>v_lilyyyxie</td>\n      <td>不会拍视频的兔丁</td>\n      <td>7gJBBeova1KGI3Hnj</td>\n      <td>模版</td>\n      <td>小于8s</td>\n      <td>1-2张</td>\n      <td>旅行风景</td>\n      <td>视频</td>\n      <td>无</td>\n      <td>无</td>\n      <td>航拍</td>\n      <td>无</td>\n      <td>有</td>\n      <td>无</td>\n      <td>有</td>\n      <td>110007.00</td>\n      <td>54472.00</td>\n      <td>0.36</td>\n      <td>0.38</td>\n      <td>0.34</td>\n      <td>0.34</td>\n      <td>0.33</td>\n      <td>0.34</td>\n      <td>0.01</td>\n      <td>0.00</td>\n      <td>0.01</td>\n      <td>0.00</td>\n      <td>7.36</td>\n      <td>7.26</td>\n      <td>7.36</td>\n      <td>7.86</td>\n      <td>0.65</td>\n      <td>0.67</td>\n      <td>0.63</td>\n      <td>0.66</td>\n      <td>0.31</td>\n      <td>0.30</td>\n      <td>0.32</td>\n      <td>0.31</td>\n      <td>0.49</td>\n      <td>0.48</td>\n      <td>0.50</td>\n      <td>0.49</td>\n    </tr>\n    <tr>\n      <th>38</th>\n      <td>v_lilyyyxie</td>\n      <td>不会拍视频的兔丁</td>\n      <td>7gJBBeova1KGI1F0g</td>\n      <td>模版</td>\n      <td>小于8s</td>\n      <td>1-2张</td>\n      <td>旅行风景</td>\n      <td>视频</td>\n      <td>无</td>\n      <td>无</td>\n      <td>旅行</td>\n      <td>无</td>\n      <td>有</td>\n      <td>无</td>\n      <td>有</td>\n      <td>109560.00</td>\n      <td>58185.00</td>\n      <td>0.39</td>\n      <td>0.41</td>\n      <td>0.38</td>\n      <td>0.43</td>\n      <td>0.36</td>\n      <td>0.40</td>\n      <td>0.00</td>\n      <td>0.00</td>\n      <td>0.01</td>\n      <td>0.00</td>\n      <td>8.29</td>\n      <td>8.18</td>\n      <td>7.75</td>\n      <td>7.12</td>\n      <td>0.68</td>\n      <td>0.72</td>\n      <td>0.66</td>\n      <td>0.72</td>\n      <td>0.26</td>\n      <td>0.23</td>\n      <td>0.30</td>\n      <td>0.23</td>\n      <td>0.43</td>\n      <td>0.39</td>\n      <td>0.44</td>\n      <td>0.40</td>\n    </tr>\n  </tbody>\n</table>\n</div>"
     },
     "metadata": {},
     "execution_count": 204
    }
   ],
   "source": [
    "# Merge feedAttr with consumeStatData, then sort\n",
    "feedAttrConsumeStatDf = pd.merge(feedAttrDf, consumeStatDf, on='video_id', how='left')\n",
    "feedAttrConsumeStatDf.sort_values(by=['allVV_sum'], ascending=False, inplace=True)\n",
    "feedAttrConsumeStatDf.head(5)"
   ]
  },
  {
   "cell_type": "code",
   "execution_count": 87,
   "metadata": {},
   "outputs": [],
   "source": [
    "#消费数据分析"
   ]
  },
  {
   "cell_type": "code",
   "execution_count": 205,
   "metadata": {},
   "outputs": [
    {
     "output_type": "display_data",
     "data": {
      "application/vnd.plotly.v1+json": {
       "config": {
        "plotlyServerURL": "https://plot.ly"
       },
       "data": [
        {
         "alignmentgroup": "True",
         "hovertemplate": "variable=条均大盘vv<br>duration=%{x}<br>value=%{y}<extra></extra>",
         "legendgroup": "条均大盘vv",
         "marker": {
          "color": "RebeccaPurple"
         },
         "name": "条均大盘vv",
         "offsetgroup": "条均大盘vv",
         "orientation": "v",
         "showlegend": true,
         "textposition": "auto",
         "type": "bar",
         "x": [
          "小于8s",
          "8s-10s",
          "10s-15s"
         ],
         "xaxis": "x",
         "y": [
          101002.14285714286,
          65441.392857142855,
          48000
         ],
         "yaxis": "y"
        },
        {
         "alignmentgroup": "True",
         "hovertemplate": "variable=条均年轻人vv<br>duration=%{x}<br>value=%{y}<extra></extra>",
         "legendgroup": "条均年轻人vv",
         "marker": {
          "color": "MediumPurple"
         },
         "name": "条均年轻人vv",
         "offsetgroup": "条均年轻人vv",
         "orientation": "v",
         "showlegend": true,
         "textposition": "auto",
         "type": "bar",
         "x": [
          "小于8s",
          "8s-10s",
          "10s-15s"
         ],
         "xaxis": "x",
         "y": [
          51150.642857142855,
          39373.107142857145,
          28946
         ],
         "yaxis": "y"
        }
       ],
       "layout": {
        "bargap": 0.3,
        "bargroupgap": 0,
        "barmode": "group",
        "font": {
         "family": "PingFangSC-Light"
        },
        "height": 300,
        "hovermode": "closest",
        "legend": {
         "title": {
          "text": "variable"
         },
         "tracegroupgap": 0
        },
        "margin": {
         "b": 20,
         "l": 30,
         "r": 30,
         "t": 40
        },
        "template": {
         "data": {
          "bar": [
           {
            "error_x": {
             "color": "rgb(36,36,36)"
            },
            "error_y": {
             "color": "rgb(36,36,36)"
            },
            "marker": {
             "line": {
              "color": "white",
              "width": 0.5
             }
            },
            "type": "bar"
           }
          ],
          "barpolar": [
           {
            "marker": {
             "line": {
              "color": "white",
              "width": 0.5
             }
            },
            "type": "barpolar"
           }
          ],
          "carpet": [
           {
            "aaxis": {
             "endlinecolor": "rgb(36,36,36)",
             "gridcolor": "white",
             "linecolor": "white",
             "minorgridcolor": "white",
             "startlinecolor": "rgb(36,36,36)"
            },
            "baxis": {
             "endlinecolor": "rgb(36,36,36)",
             "gridcolor": "white",
             "linecolor": "white",
             "minorgridcolor": "white",
             "startlinecolor": "rgb(36,36,36)"
            },
            "type": "carpet"
           }
          ],
          "choropleth": [
           {
            "colorbar": {
             "outlinewidth": 1,
             "tickcolor": "rgb(36,36,36)",
             "ticks": "outside"
            },
            "type": "choropleth"
           }
          ],
          "contour": [
           {
            "colorbar": {
             "outlinewidth": 1,
             "tickcolor": "rgb(36,36,36)",
             "ticks": "outside"
            },
            "colorscale": [
             [
              0,
              "#440154"
             ],
             [
              0.1111111111111111,
              "#482878"
             ],
             [
              0.2222222222222222,
              "#3e4989"
             ],
             [
              0.3333333333333333,
              "#31688e"
             ],
             [
              0.4444444444444444,
              "#26828e"
             ],
             [
              0.5555555555555556,
              "#1f9e89"
             ],
             [
              0.6666666666666666,
              "#35b779"
             ],
             [
              0.7777777777777778,
              "#6ece58"
             ],
             [
              0.8888888888888888,
              "#b5de2b"
             ],
             [
              1,
              "#fde725"
             ]
            ],
            "type": "contour"
           }
          ],
          "contourcarpet": [
           {
            "colorbar": {
             "outlinewidth": 1,
             "tickcolor": "rgb(36,36,36)",
             "ticks": "outside"
            },
            "type": "contourcarpet"
           }
          ],
          "heatmap": [
           {
            "colorbar": {
             "outlinewidth": 1,
             "tickcolor": "rgb(36,36,36)",
             "ticks": "outside"
            },
            "colorscale": [
             [
              0,
              "#440154"
             ],
             [
              0.1111111111111111,
              "#482878"
             ],
             [
              0.2222222222222222,
              "#3e4989"
             ],
             [
              0.3333333333333333,
              "#31688e"
             ],
             [
              0.4444444444444444,
              "#26828e"
             ],
             [
              0.5555555555555556,
              "#1f9e89"
             ],
             [
              0.6666666666666666,
              "#35b779"
             ],
             [
              0.7777777777777778,
              "#6ece58"
             ],
             [
              0.8888888888888888,
              "#b5de2b"
             ],
             [
              1,
              "#fde725"
             ]
            ],
            "type": "heatmap"
           }
          ],
          "heatmapgl": [
           {
            "colorbar": {
             "outlinewidth": 1,
             "tickcolor": "rgb(36,36,36)",
             "ticks": "outside"
            },
            "colorscale": [
             [
              0,
              "#440154"
             ],
             [
              0.1111111111111111,
              "#482878"
             ],
             [
              0.2222222222222222,
              "#3e4989"
             ],
             [
              0.3333333333333333,
              "#31688e"
             ],
             [
              0.4444444444444444,
              "#26828e"
             ],
             [
              0.5555555555555556,
              "#1f9e89"
             ],
             [
              0.6666666666666666,
              "#35b779"
             ],
             [
              0.7777777777777778,
              "#6ece58"
             ],
             [
              0.8888888888888888,
              "#b5de2b"
             ],
             [
              1,
              "#fde725"
             ]
            ],
            "type": "heatmapgl"
           }
          ],
          "histogram": [
           {
            "marker": {
             "line": {
              "color": "white",
              "width": 0.6
             }
            },
            "type": "histogram"
           }
          ],
          "histogram2d": [
           {
            "colorbar": {
             "outlinewidth": 1,
             "tickcolor": "rgb(36,36,36)",
             "ticks": "outside"
            },
            "colorscale": [
             [
              0,
              "#440154"
             ],
             [
              0.1111111111111111,
              "#482878"
             ],
             [
              0.2222222222222222,
              "#3e4989"
             ],
             [
              0.3333333333333333,
              "#31688e"
             ],
             [
              0.4444444444444444,
              "#26828e"
             ],
             [
              0.5555555555555556,
              "#1f9e89"
             ],
             [
              0.6666666666666666,
              "#35b779"
             ],
             [
              0.7777777777777778,
              "#6ece58"
             ],
             [
              0.8888888888888888,
              "#b5de2b"
             ],
             [
              1,
              "#fde725"
             ]
            ],
            "type": "histogram2d"
           }
          ],
          "histogram2dcontour": [
           {
            "colorbar": {
             "outlinewidth": 1,
             "tickcolor": "rgb(36,36,36)",
             "ticks": "outside"
            },
            "colorscale": [
             [
              0,
              "#440154"
             ],
             [
              0.1111111111111111,
              "#482878"
             ],
             [
              0.2222222222222222,
              "#3e4989"
             ],
             [
              0.3333333333333333,
              "#31688e"
             ],
             [
              0.4444444444444444,
              "#26828e"
             ],
             [
              0.5555555555555556,
              "#1f9e89"
             ],
             [
              0.6666666666666666,
              "#35b779"
             ],
             [
              0.7777777777777778,
              "#6ece58"
             ],
             [
              0.8888888888888888,
              "#b5de2b"
             ],
             [
              1,
              "#fde725"
             ]
            ],
            "type": "histogram2dcontour"
           }
          ],
          "mesh3d": [
           {
            "colorbar": {
             "outlinewidth": 1,
             "tickcolor": "rgb(36,36,36)",
             "ticks": "outside"
            },
            "type": "mesh3d"
           }
          ],
          "parcoords": [
           {
            "line": {
             "colorbar": {
              "outlinewidth": 1,
              "tickcolor": "rgb(36,36,36)",
              "ticks": "outside"
             }
            },
            "type": "parcoords"
           }
          ],
          "pie": [
           {
            "automargin": true,
            "type": "pie"
           }
          ],
          "scatter": [
           {
            "marker": {
             "colorbar": {
              "outlinewidth": 1,
              "tickcolor": "rgb(36,36,36)",
              "ticks": "outside"
             }
            },
            "type": "scatter"
           }
          ],
          "scatter3d": [
           {
            "line": {
             "colorbar": {
              "outlinewidth": 1,
              "tickcolor": "rgb(36,36,36)",
              "ticks": "outside"
             }
            },
            "marker": {
             "colorbar": {
              "outlinewidth": 1,
              "tickcolor": "rgb(36,36,36)",
              "ticks": "outside"
             }
            },
            "type": "scatter3d"
           }
          ],
          "scattercarpet": [
           {
            "marker": {
             "colorbar": {
              "outlinewidth": 1,
              "tickcolor": "rgb(36,36,36)",
              "ticks": "outside"
             }
            },
            "type": "scattercarpet"
           }
          ],
          "scattergeo": [
           {
            "marker": {
             "colorbar": {
              "outlinewidth": 1,
              "tickcolor": "rgb(36,36,36)",
              "ticks": "outside"
             }
            },
            "type": "scattergeo"
           }
          ],
          "scattergl": [
           {
            "marker": {
             "colorbar": {
              "outlinewidth": 1,
              "tickcolor": "rgb(36,36,36)",
              "ticks": "outside"
             }
            },
            "type": "scattergl"
           }
          ],
          "scattermapbox": [
           {
            "marker": {
             "colorbar": {
              "outlinewidth": 1,
              "tickcolor": "rgb(36,36,36)",
              "ticks": "outside"
             }
            },
            "type": "scattermapbox"
           }
          ],
          "scatterpolar": [
           {
            "marker": {
             "colorbar": {
              "outlinewidth": 1,
              "tickcolor": "rgb(36,36,36)",
              "ticks": "outside"
             }
            },
            "type": "scatterpolar"
           }
          ],
          "scatterpolargl": [
           {
            "marker": {
             "colorbar": {
              "outlinewidth": 1,
              "tickcolor": "rgb(36,36,36)",
              "ticks": "outside"
             }
            },
            "type": "scatterpolargl"
           }
          ],
          "scatterternary": [
           {
            "marker": {
             "colorbar": {
              "outlinewidth": 1,
              "tickcolor": "rgb(36,36,36)",
              "ticks": "outside"
             }
            },
            "type": "scatterternary"
           }
          ],
          "surface": [
           {
            "colorbar": {
             "outlinewidth": 1,
             "tickcolor": "rgb(36,36,36)",
             "ticks": "outside"
            },
            "colorscale": [
             [
              0,
              "#440154"
             ],
             [
              0.1111111111111111,
              "#482878"
             ],
             [
              0.2222222222222222,
              "#3e4989"
             ],
             [
              0.3333333333333333,
              "#31688e"
             ],
             [
              0.4444444444444444,
              "#26828e"
             ],
             [
              0.5555555555555556,
              "#1f9e89"
             ],
             [
              0.6666666666666666,
              "#35b779"
             ],
             [
              0.7777777777777778,
              "#6ece58"
             ],
             [
              0.8888888888888888,
              "#b5de2b"
             ],
             [
              1,
              "#fde725"
             ]
            ],
            "type": "surface"
           }
          ],
          "table": [
           {
            "cells": {
             "fill": {
              "color": "rgb(237,237,237)"
             },
             "line": {
              "color": "white"
             }
            },
            "header": {
             "fill": {
              "color": "rgb(217,217,217)"
             },
             "line": {
              "color": "white"
             }
            },
            "type": "table"
           }
          ]
         },
         "layout": {
          "annotationdefaults": {
           "arrowhead": 0,
           "arrowwidth": 1
          },
          "coloraxis": {
           "colorbar": {
            "outlinewidth": 1,
            "tickcolor": "rgb(36,36,36)",
            "ticks": "outside"
           }
          },
          "colorscale": {
           "diverging": [
            [
             0,
             "rgb(103,0,31)"
            ],
            [
             0.1,
             "rgb(178,24,43)"
            ],
            [
             0.2,
             "rgb(214,96,77)"
            ],
            [
             0.3,
             "rgb(244,165,130)"
            ],
            [
             0.4,
             "rgb(253,219,199)"
            ],
            [
             0.5,
             "rgb(247,247,247)"
            ],
            [
             0.6,
             "rgb(209,229,240)"
            ],
            [
             0.7,
             "rgb(146,197,222)"
            ],
            [
             0.8,
             "rgb(67,147,195)"
            ],
            [
             0.9,
             "rgb(33,102,172)"
            ],
            [
             1,
             "rgb(5,48,97)"
            ]
           ],
           "sequential": [
            [
             0,
             "#440154"
            ],
            [
             0.1111111111111111,
             "#482878"
            ],
            [
             0.2222222222222222,
             "#3e4989"
            ],
            [
             0.3333333333333333,
             "#31688e"
            ],
            [
             0.4444444444444444,
             "#26828e"
            ],
            [
             0.5555555555555556,
             "#1f9e89"
            ],
            [
             0.6666666666666666,
             "#35b779"
            ],
            [
             0.7777777777777778,
             "#6ece58"
            ],
            [
             0.8888888888888888,
             "#b5de2b"
            ],
            [
             1,
             "#fde725"
            ]
           ],
           "sequentialminus": [
            [
             0,
             "#440154"
            ],
            [
             0.1111111111111111,
             "#482878"
            ],
            [
             0.2222222222222222,
             "#3e4989"
            ],
            [
             0.3333333333333333,
             "#31688e"
            ],
            [
             0.4444444444444444,
             "#26828e"
            ],
            [
             0.5555555555555556,
             "#1f9e89"
            ],
            [
             0.6666666666666666,
             "#35b779"
            ],
            [
             0.7777777777777778,
             "#6ece58"
            ],
            [
             0.8888888888888888,
             "#b5de2b"
            ],
            [
             1,
             "#fde725"
            ]
           ]
          },
          "colorway": [
           "#1F77B4",
           "#FF7F0E",
           "#2CA02C",
           "#D62728",
           "#9467BD",
           "#8C564B",
           "#E377C2",
           "#7F7F7F",
           "#BCBD22",
           "#17BECF"
          ],
          "font": {
           "color": "rgb(36,36,36)"
          },
          "geo": {
           "bgcolor": "white",
           "lakecolor": "white",
           "landcolor": "white",
           "showlakes": true,
           "showland": true,
           "subunitcolor": "white"
          },
          "hoverlabel": {
           "align": "left"
          },
          "hovermode": "closest",
          "mapbox": {
           "style": "light"
          },
          "paper_bgcolor": "white",
          "plot_bgcolor": "white",
          "polar": {
           "angularaxis": {
            "gridcolor": "rgb(232,232,232)",
            "linecolor": "rgb(36,36,36)",
            "showgrid": false,
            "showline": true,
            "ticks": "outside"
           },
           "bgcolor": "white",
           "radialaxis": {
            "gridcolor": "rgb(232,232,232)",
            "linecolor": "rgb(36,36,36)",
            "showgrid": false,
            "showline": true,
            "ticks": "outside"
           }
          },
          "scene": {
           "xaxis": {
            "backgroundcolor": "white",
            "gridcolor": "rgb(232,232,232)",
            "gridwidth": 2,
            "linecolor": "rgb(36,36,36)",
            "showbackground": true,
            "showgrid": false,
            "showline": true,
            "ticks": "outside",
            "zeroline": false,
            "zerolinecolor": "rgb(36,36,36)"
           },
           "yaxis": {
            "backgroundcolor": "white",
            "gridcolor": "rgb(232,232,232)",
            "gridwidth": 2,
            "linecolor": "rgb(36,36,36)",
            "showbackground": true,
            "showgrid": false,
            "showline": true,
            "ticks": "outside",
            "zeroline": false,
            "zerolinecolor": "rgb(36,36,36)"
           },
           "zaxis": {
            "backgroundcolor": "white",
            "gridcolor": "rgb(232,232,232)",
            "gridwidth": 2,
            "linecolor": "rgb(36,36,36)",
            "showbackground": true,
            "showgrid": false,
            "showline": true,
            "ticks": "outside",
            "zeroline": false,
            "zerolinecolor": "rgb(36,36,36)"
           }
          },
          "shapedefaults": {
           "fillcolor": "black",
           "line": {
            "width": 0
           },
           "opacity": 0.3
          },
          "ternary": {
           "aaxis": {
            "gridcolor": "rgb(232,232,232)",
            "linecolor": "rgb(36,36,36)",
            "showgrid": false,
            "showline": true,
            "ticks": "outside"
           },
           "baxis": {
            "gridcolor": "rgb(232,232,232)",
            "linecolor": "rgb(36,36,36)",
            "showgrid": false,
            "showline": true,
            "ticks": "outside"
           },
           "bgcolor": "white",
           "caxis": {
            "gridcolor": "rgb(232,232,232)",
            "linecolor": "rgb(36,36,36)",
            "showgrid": false,
            "showline": true,
            "ticks": "outside"
           }
          },
          "title": {
           "x": 0.05
          },
          "xaxis": {
           "automargin": true,
           "gridcolor": "rgb(232,232,232)",
           "linecolor": "rgb(36,36,36)",
           "showgrid": false,
           "showline": true,
           "ticks": "outside",
           "title": {
            "standoff": 15
           },
           "zeroline": false,
           "zerolinecolor": "rgb(36,36,36)"
          },
          "yaxis": {
           "automargin": true,
           "gridcolor": "rgb(232,232,232)",
           "linecolor": "rgb(36,36,36)",
           "showgrid": false,
           "showline": true,
           "ticks": "outside",
           "title": {
            "standoff": 15
           },
           "zeroline": false,
           "zerolinecolor": "rgb(36,36,36)"
          }
         }
        },
        "title": {
         "font": {
          "size": 16
         },
         "text": "视频时长_条均vv",
         "x": 0.5,
         "xref": "paper"
        },
        "width": 480,
        "xaxis": {
         "anchor": "y",
         "domain": [
          0,
          1
         ],
         "title": {
          "text": "duration"
         }
        },
        "yaxis": {
         "anchor": "x",
         "domain": [
          0,
          1
         ],
         "showgrid": false,
         "title": {
          "text": "value"
         }
        }
       }
      },
      "text/html": "<div>\n        \n        \n            <div id=\"5fa46c35-3b7b-46f7-a5da-a69332dbe026\" class=\"plotly-graph-div\" style=\"height:300px; width:480px;\"></div>\n            <script type=\"text/javascript\">\n                require([\"plotly\"], function(Plotly) {\n                    window.PLOTLYENV=window.PLOTLYENV || {};\n                    \n                if (document.getElementById(\"5fa46c35-3b7b-46f7-a5da-a69332dbe026\")) {\n                    Plotly.newPlot(\n                        '5fa46c35-3b7b-46f7-a5da-a69332dbe026',\n                        [{\"alignmentgroup\": \"True\", \"hovertemplate\": \"variable=\\u6761\\u5747\\u5927\\u76d8vv<br>duration=%{x}<br>value=%{y}<extra></extra>\", \"legendgroup\": \"\\u6761\\u5747\\u5927\\u76d8vv\", \"marker\": {\"color\": \"RebeccaPurple\"}, \"name\": \"\\u6761\\u5747\\u5927\\u76d8vv\", \"offsetgroup\": \"\\u6761\\u5747\\u5927\\u76d8vv\", \"orientation\": \"v\", \"showlegend\": true, \"textposition\": \"auto\", \"type\": \"bar\", \"x\": [\"\\u5c0f\\u4e8e8s\", \"8s-10s\", \"10s-15s\"], \"xaxis\": \"x\", \"y\": [101002.14285714286, 65441.392857142855, 48000.0], \"yaxis\": \"y\"}, {\"alignmentgroup\": \"True\", \"hovertemplate\": \"variable=\\u6761\\u5747\\u5e74\\u8f7b\\u4ebavv<br>duration=%{x}<br>value=%{y}<extra></extra>\", \"legendgroup\": \"\\u6761\\u5747\\u5e74\\u8f7b\\u4ebavv\", \"marker\": {\"color\": \"MediumPurple\"}, \"name\": \"\\u6761\\u5747\\u5e74\\u8f7b\\u4ebavv\", \"offsetgroup\": \"\\u6761\\u5747\\u5e74\\u8f7b\\u4ebavv\", \"orientation\": \"v\", \"showlegend\": true, \"textposition\": \"auto\", \"type\": \"bar\", \"x\": [\"\\u5c0f\\u4e8e8s\", \"8s-10s\", \"10s-15s\"], \"xaxis\": \"x\", \"y\": [51150.642857142855, 39373.107142857145, 28946.0], \"yaxis\": \"y\"}],\n                        {\"bargap\": 0.3, \"bargroupgap\": 0, \"barmode\": \"group\", \"font\": {\"family\": \"PingFangSC-Light\"}, \"height\": 300, \"hovermode\": \"closest\", \"legend\": {\"title\": {\"text\": \"variable\"}, \"tracegroupgap\": 0}, \"margin\": {\"b\": 20, \"l\": 30, \"r\": 30, \"t\": 40}, \"template\": {\"data\": {\"bar\": [{\"error_x\": {\"color\": \"rgb(36,36,36)\"}, \"error_y\": {\"color\": \"rgb(36,36,36)\"}, \"marker\": {\"line\": {\"color\": \"white\", \"width\": 0.5}}, \"type\": \"bar\"}], \"barpolar\": [{\"marker\": {\"line\": {\"color\": \"white\", \"width\": 0.5}}, \"type\": \"barpolar\"}], \"carpet\": [{\"aaxis\": {\"endlinecolor\": \"rgb(36,36,36)\", \"gridcolor\": \"white\", \"linecolor\": \"white\", \"minorgridcolor\": \"white\", \"startlinecolor\": \"rgb(36,36,36)\"}, \"baxis\": {\"endlinecolor\": \"rgb(36,36,36)\", \"gridcolor\": \"white\", \"linecolor\": \"white\", \"minorgridcolor\": \"white\", \"startlinecolor\": \"rgb(36,36,36)\"}, \"type\": \"carpet\"}], \"choropleth\": [{\"colorbar\": {\"outlinewidth\": 1, \"tickcolor\": \"rgb(36,36,36)\", \"ticks\": \"outside\"}, \"type\": \"choropleth\"}], \"contour\": [{\"colorbar\": {\"outlinewidth\": 1, \"tickcolor\": \"rgb(36,36,36)\", \"ticks\": \"outside\"}, \"colorscale\": [[0.0, \"#440154\"], [0.1111111111111111, \"#482878\"], [0.2222222222222222, \"#3e4989\"], [0.3333333333333333, \"#31688e\"], [0.4444444444444444, \"#26828e\"], [0.5555555555555556, \"#1f9e89\"], [0.6666666666666666, \"#35b779\"], [0.7777777777777778, \"#6ece58\"], [0.8888888888888888, \"#b5de2b\"], [1.0, \"#fde725\"]], \"type\": \"contour\"}], \"contourcarpet\": [{\"colorbar\": {\"outlinewidth\": 1, \"tickcolor\": \"rgb(36,36,36)\", \"ticks\": \"outside\"}, \"type\": \"contourcarpet\"}], \"heatmap\": [{\"colorbar\": {\"outlinewidth\": 1, \"tickcolor\": \"rgb(36,36,36)\", \"ticks\": \"outside\"}, \"colorscale\": [[0.0, \"#440154\"], [0.1111111111111111, \"#482878\"], [0.2222222222222222, \"#3e4989\"], [0.3333333333333333, \"#31688e\"], [0.4444444444444444, \"#26828e\"], [0.5555555555555556, \"#1f9e89\"], [0.6666666666666666, \"#35b779\"], [0.7777777777777778, \"#6ece58\"], [0.8888888888888888, \"#b5de2b\"], [1.0, \"#fde725\"]], \"type\": \"heatmap\"}], \"heatmapgl\": [{\"colorbar\": {\"outlinewidth\": 1, \"tickcolor\": \"rgb(36,36,36)\", \"ticks\": \"outside\"}, \"colorscale\": [[0.0, \"#440154\"], [0.1111111111111111, \"#482878\"], [0.2222222222222222, \"#3e4989\"], [0.3333333333333333, \"#31688e\"], [0.4444444444444444, \"#26828e\"], [0.5555555555555556, \"#1f9e89\"], [0.6666666666666666, \"#35b779\"], [0.7777777777777778, \"#6ece58\"], [0.8888888888888888, \"#b5de2b\"], [1.0, \"#fde725\"]], \"type\": \"heatmapgl\"}], \"histogram\": [{\"marker\": {\"line\": {\"color\": \"white\", \"width\": 0.6}}, \"type\": \"histogram\"}], \"histogram2d\": [{\"colorbar\": {\"outlinewidth\": 1, \"tickcolor\": \"rgb(36,36,36)\", \"ticks\": \"outside\"}, \"colorscale\": [[0.0, \"#440154\"], [0.1111111111111111, \"#482878\"], [0.2222222222222222, \"#3e4989\"], [0.3333333333333333, \"#31688e\"], [0.4444444444444444, \"#26828e\"], [0.5555555555555556, \"#1f9e89\"], [0.6666666666666666, \"#35b779\"], [0.7777777777777778, \"#6ece58\"], [0.8888888888888888, \"#b5de2b\"], [1.0, \"#fde725\"]], \"type\": \"histogram2d\"}], \"histogram2dcontour\": [{\"colorbar\": {\"outlinewidth\": 1, \"tickcolor\": \"rgb(36,36,36)\", \"ticks\": \"outside\"}, \"colorscale\": [[0.0, \"#440154\"], [0.1111111111111111, \"#482878\"], [0.2222222222222222, \"#3e4989\"], [0.3333333333333333, \"#31688e\"], [0.4444444444444444, \"#26828e\"], [0.5555555555555556, \"#1f9e89\"], [0.6666666666666666, \"#35b779\"], [0.7777777777777778, \"#6ece58\"], [0.8888888888888888, \"#b5de2b\"], [1.0, \"#fde725\"]], \"type\": \"histogram2dcontour\"}], \"mesh3d\": [{\"colorbar\": {\"outlinewidth\": 1, \"tickcolor\": \"rgb(36,36,36)\", \"ticks\": \"outside\"}, \"type\": \"mesh3d\"}], \"parcoords\": [{\"line\": {\"colorbar\": {\"outlinewidth\": 1, \"tickcolor\": \"rgb(36,36,36)\", \"ticks\": \"outside\"}}, \"type\": \"parcoords\"}], \"pie\": [{\"automargin\": true, \"type\": \"pie\"}], \"scatter\": [{\"marker\": {\"colorbar\": {\"outlinewidth\": 1, \"tickcolor\": \"rgb(36,36,36)\", \"ticks\": \"outside\"}}, \"type\": \"scatter\"}], \"scatter3d\": [{\"line\": {\"colorbar\": {\"outlinewidth\": 1, \"tickcolor\": \"rgb(36,36,36)\", \"ticks\": \"outside\"}}, \"marker\": {\"colorbar\": {\"outlinewidth\": 1, \"tickcolor\": \"rgb(36,36,36)\", \"ticks\": \"outside\"}}, \"type\": \"scatter3d\"}], \"scattercarpet\": [{\"marker\": {\"colorbar\": {\"outlinewidth\": 1, \"tickcolor\": \"rgb(36,36,36)\", \"ticks\": \"outside\"}}, \"type\": \"scattercarpet\"}], \"scattergeo\": [{\"marker\": {\"colorbar\": {\"outlinewidth\": 1, \"tickcolor\": \"rgb(36,36,36)\", \"ticks\": \"outside\"}}, \"type\": \"scattergeo\"}], \"scattergl\": [{\"marker\": {\"colorbar\": {\"outlinewidth\": 1, \"tickcolor\": \"rgb(36,36,36)\", \"ticks\": \"outside\"}}, \"type\": \"scattergl\"}], \"scattermapbox\": [{\"marker\": {\"colorbar\": {\"outlinewidth\": 1, \"tickcolor\": \"rgb(36,36,36)\", \"ticks\": \"outside\"}}, \"type\": \"scattermapbox\"}], \"scatterpolar\": [{\"marker\": {\"colorbar\": {\"outlinewidth\": 1, \"tickcolor\": \"rgb(36,36,36)\", \"ticks\": \"outside\"}}, \"type\": \"scatterpolar\"}], \"scatterpolargl\": [{\"marker\": {\"colorbar\": {\"outlinewidth\": 1, \"tickcolor\": \"rgb(36,36,36)\", \"ticks\": \"outside\"}}, \"type\": \"scatterpolargl\"}], \"scatterternary\": [{\"marker\": {\"colorbar\": {\"outlinewidth\": 1, \"tickcolor\": \"rgb(36,36,36)\", \"ticks\": \"outside\"}}, \"type\": \"scatterternary\"}], \"surface\": [{\"colorbar\": {\"outlinewidth\": 1, \"tickcolor\": \"rgb(36,36,36)\", \"ticks\": \"outside\"}, \"colorscale\": [[0.0, \"#440154\"], [0.1111111111111111, \"#482878\"], [0.2222222222222222, \"#3e4989\"], [0.3333333333333333, \"#31688e\"], [0.4444444444444444, \"#26828e\"], [0.5555555555555556, \"#1f9e89\"], [0.6666666666666666, \"#35b779\"], [0.7777777777777778, \"#6ece58\"], [0.8888888888888888, \"#b5de2b\"], [1.0, \"#fde725\"]], \"type\": \"surface\"}], \"table\": [{\"cells\": {\"fill\": {\"color\": \"rgb(237,237,237)\"}, \"line\": {\"color\": \"white\"}}, \"header\": {\"fill\": {\"color\": \"rgb(217,217,217)\"}, \"line\": {\"color\": \"white\"}}, \"type\": \"table\"}]}, \"layout\": {\"annotationdefaults\": {\"arrowhead\": 0, \"arrowwidth\": 1}, \"coloraxis\": {\"colorbar\": {\"outlinewidth\": 1, \"tickcolor\": \"rgb(36,36,36)\", \"ticks\": \"outside\"}}, \"colorscale\": {\"diverging\": [[0.0, \"rgb(103,0,31)\"], [0.1, \"rgb(178,24,43)\"], [0.2, \"rgb(214,96,77)\"], [0.3, \"rgb(244,165,130)\"], [0.4, \"rgb(253,219,199)\"], [0.5, \"rgb(247,247,247)\"], [0.6, \"rgb(209,229,240)\"], [0.7, \"rgb(146,197,222)\"], [0.8, \"rgb(67,147,195)\"], [0.9, \"rgb(33,102,172)\"], [1.0, \"rgb(5,48,97)\"]], \"sequential\": [[0.0, \"#440154\"], [0.1111111111111111, \"#482878\"], [0.2222222222222222, \"#3e4989\"], [0.3333333333333333, \"#31688e\"], [0.4444444444444444, \"#26828e\"], [0.5555555555555556, \"#1f9e89\"], [0.6666666666666666, \"#35b779\"], [0.7777777777777778, \"#6ece58\"], [0.8888888888888888, \"#b5de2b\"], [1.0, \"#fde725\"]], \"sequentialminus\": [[0.0, \"#440154\"], [0.1111111111111111, \"#482878\"], [0.2222222222222222, \"#3e4989\"], [0.3333333333333333, \"#31688e\"], [0.4444444444444444, \"#26828e\"], [0.5555555555555556, \"#1f9e89\"], [0.6666666666666666, \"#35b779\"], [0.7777777777777778, \"#6ece58\"], [0.8888888888888888, \"#b5de2b\"], [1.0, \"#fde725\"]]}, \"colorway\": [\"#1F77B4\", \"#FF7F0E\", \"#2CA02C\", \"#D62728\", \"#9467BD\", \"#8C564B\", \"#E377C2\", \"#7F7F7F\", \"#BCBD22\", \"#17BECF\"], \"font\": {\"color\": \"rgb(36,36,36)\"}, \"geo\": {\"bgcolor\": \"white\", \"lakecolor\": \"white\", \"landcolor\": \"white\", \"showlakes\": true, \"showland\": true, \"subunitcolor\": \"white\"}, \"hoverlabel\": {\"align\": \"left\"}, \"hovermode\": \"closest\", \"mapbox\": {\"style\": \"light\"}, \"paper_bgcolor\": \"white\", \"plot_bgcolor\": \"white\", \"polar\": {\"angularaxis\": {\"gridcolor\": \"rgb(232,232,232)\", \"linecolor\": \"rgb(36,36,36)\", \"showgrid\": false, \"showline\": true, \"ticks\": \"outside\"}, \"bgcolor\": \"white\", \"radialaxis\": {\"gridcolor\": \"rgb(232,232,232)\", \"linecolor\": \"rgb(36,36,36)\", \"showgrid\": false, \"showline\": true, \"ticks\": \"outside\"}}, \"scene\": {\"xaxis\": {\"backgroundcolor\": \"white\", \"gridcolor\": \"rgb(232,232,232)\", \"gridwidth\": 2, \"linecolor\": \"rgb(36,36,36)\", \"showbackground\": true, \"showgrid\": false, \"showline\": true, \"ticks\": \"outside\", \"zeroline\": false, \"zerolinecolor\": \"rgb(36,36,36)\"}, \"yaxis\": {\"backgroundcolor\": \"white\", \"gridcolor\": \"rgb(232,232,232)\", \"gridwidth\": 2, \"linecolor\": \"rgb(36,36,36)\", \"showbackground\": true, \"showgrid\": false, \"showline\": true, \"ticks\": \"outside\", \"zeroline\": false, \"zerolinecolor\": \"rgb(36,36,36)\"}, \"zaxis\": {\"backgroundcolor\": \"white\", \"gridcolor\": \"rgb(232,232,232)\", \"gridwidth\": 2, \"linecolor\": \"rgb(36,36,36)\", \"showbackground\": true, \"showgrid\": false, \"showline\": true, \"ticks\": \"outside\", \"zeroline\": false, \"zerolinecolor\": \"rgb(36,36,36)\"}}, \"shapedefaults\": {\"fillcolor\": \"black\", \"line\": {\"width\": 0}, \"opacity\": 0.3}, \"ternary\": {\"aaxis\": {\"gridcolor\": \"rgb(232,232,232)\", \"linecolor\": \"rgb(36,36,36)\", \"showgrid\": false, \"showline\": true, \"ticks\": \"outside\"}, \"baxis\": {\"gridcolor\": \"rgb(232,232,232)\", \"linecolor\": \"rgb(36,36,36)\", \"showgrid\": false, \"showline\": true, \"ticks\": \"outside\"}, \"bgcolor\": \"white\", \"caxis\": {\"gridcolor\": \"rgb(232,232,232)\", \"linecolor\": \"rgb(36,36,36)\", \"showgrid\": false, \"showline\": true, \"ticks\": \"outside\"}}, \"title\": {\"x\": 0.05}, \"xaxis\": {\"automargin\": true, \"gridcolor\": \"rgb(232,232,232)\", \"linecolor\": \"rgb(36,36,36)\", \"showgrid\": false, \"showline\": true, \"ticks\": \"outside\", \"title\": {\"standoff\": 15}, \"zeroline\": false, \"zerolinecolor\": \"rgb(36,36,36)\"}, \"yaxis\": {\"automargin\": true, \"gridcolor\": \"rgb(232,232,232)\", \"linecolor\": \"rgb(36,36,36)\", \"showgrid\": false, \"showline\": true, \"ticks\": \"outside\", \"title\": {\"standoff\": 15}, \"zeroline\": false, \"zerolinecolor\": \"rgb(36,36,36)\"}}}, \"title\": {\"font\": {\"size\": 16}, \"text\": \"\\u89c6\\u9891\\u65f6\\u957f_\\u6761\\u5747vv\", \"x\": 0.5, \"xref\": \"paper\"}, \"width\": 480, \"xaxis\": {\"anchor\": \"y\", \"domain\": [0.0, 1.0], \"title\": {\"text\": \"duration\"}}, \"yaxis\": {\"anchor\": \"x\", \"domain\": [0.0, 1.0], \"showgrid\": false, \"title\": {\"text\": \"value\"}}},\n                        {\"responsive\": true}\n                    ).then(function(){\n                            \nvar gd = document.getElementById('5fa46c35-3b7b-46f7-a5da-a69332dbe026');\nvar x = new MutationObserver(function (mutations, observer) {{\n        var display = window.getComputedStyle(gd).display;\n        if (!display || display === 'none') {{\n            console.log([gd, 'removed!']);\n            Plotly.purge(gd);\n            observer.disconnect();\n        }}\n}});\n\n// Listen for the removal of the full notebook cells\nvar notebookContainer = gd.closest('#notebook-container');\nif (notebookContainer) {{\n    x.observe(notebookContainer, {childList: true});\n}}\n\n// Listen for the clearing of the current output cell\nvar outputEl = gd.closest('.output');\nif (outputEl) {{\n    x.observe(outputEl, {childList: true});\n}}\n\n                        })\n                };\n                });\n            </script>\n        </div>"
     },
     "metadata": {}
    }
   ],
   "source": [
    "#视频时长_vv分布\n",
    "durationDf = feedAttrConsumeStatDf.groupby(['duration'])['video_id','allVV_sum','youngVV_sum','youngVVRatio_mean', 'youngVVRatio_median'].agg(\n",
    "    {'video_id':'nunique', 'allVV_sum':'sum', 'youngVV_sum':'sum', 'youngVVRatio_mean':'mean', 'youngVVRatio_median':'median'}).reset_index()\n",
    "durationDf['allVVperFeed'] = durationDf.allVV_sum / durationDf.video_id\n",
    "durationDf['youngVVperFeed'] = durationDf.youngVV_sum / durationDf.video_id\n",
    "durationDf.sort_values(by='allVVperFeed', ascending=False, inplace=True)\n",
    "\n",
    "#制图\n",
    "durationDf.rename(columns={'allVVperFeed':'条均大盘vv', 'youngVVperFeed':'条均年轻人vv'}, inplace=True)\n",
    "durationDfTidy = pd.melt(durationDf, id_vars=['duration'], value_vars=['条均大盘vv', '条均年轻人vv'])\n",
    "durationFig = px.bar(durationDfTidy, x='duration', y='value', title='视频时长_条均vv',\n",
    "                color='variable', \n",
    "                barmode='group',  \n",
    "                template='simple_white',\n",
    "                color_discrete_map={ '条均大盘vv': 'RebeccaPurple', '条均年轻人vv': 'MediumPurple'}\n",
    "                )\n",
    "\n",
    "durationFig.update_yaxes(showgrid=False) # the y-axis\n",
    "durationFig.update_layout(\n",
    "            width=480, height =300,\n",
    "            title=dict(x=0.5, xref='paper', font=dict(size=16)),\n",
    "            font_family=\"PingFangSC-Light\",\n",
    "            margin=dict(l=30, r=30, b=20, t=40),\n",
    "            bargap=0.3, # gap between bars of adjacent location coordinates.\n",
    "            bargroupgap=0, # gap between bars of the same location coordinate.\n",
    "            hovermode=\"closest\")\n",
    "durationFig.show()"
   ]
  },
  {
   "cell_type": "code",
   "execution_count": 264,
   "metadata": {},
   "outputs": [
    {
     "output_type": "display_data",
     "data": {
      "application/vnd.plotly.v1+json": {
       "config": {
        "plotlyServerURL": "https://plot.ly"
       },
       "data": [
        {
         "alignmentgroup": "True",
         "hovertemplate": "variable=大盘5s快滑率<br>统计方式=平均值<br>视频时长=%{x}<br>value=%{y}<extra></extra>",
         "legendgroup": "大盘5s快滑率",
         "marker": {
          "color": "rgb(196, 230, 195)"
         },
         "name": "大盘5s快滑率",
         "offsetgroup": "大盘5s快滑率",
         "orientation": "v",
         "showlegend": true,
         "textposition": "outside",
         "texttemplate": "%{value:.2s}",
         "type": "bar",
         "x": [
          "10s-15s",
          "8s-10s",
          "小于8s"
         ],
         "xaxis": "x",
         "y": [
          0.5853424967490244,
          0.5636074269327528,
          0.51762366299144
         ],
         "yaxis": "y"
        },
        {
         "alignmentgroup": "True",
         "hovertemplate": "variable=大盘5s快滑率<br>统计方式=中位数<br>视频时长=%{x}<br>value=%{y}<extra></extra>",
         "legendgroup": "大盘5s快滑率",
         "marker": {
          "color": "rgb(196, 230, 195)"
         },
         "name": "大盘5s快滑率",
         "offsetgroup": "大盘5s快滑率",
         "orientation": "v",
         "showlegend": false,
         "textposition": "outside",
         "texttemplate": "%{value:.2s}",
         "type": "bar",
         "x": [
          "10s-15s",
          "8s-10s",
          "小于8s"
         ],
         "xaxis": "x2",
         "y": [
          0.57,
          0.56,
          0.5
         ],
         "yaxis": "y2"
        },
        {
         "alignmentgroup": "True",
         "hovertemplate": "variable=年轻人5s快滑率<br>统计方式=平均值<br>视频时长=%{x}<br>value=%{y}<extra></extra>",
         "legendgroup": "年轻人5s快滑率",
         "marker": {
          "color": "rgb(150, 210, 164)"
         },
         "name": "年轻人5s快滑率",
         "offsetgroup": "年轻人5s快滑率",
         "orientation": "v",
         "showlegend": true,
         "textposition": "outside",
         "texttemplate": "%{value:.2s}",
         "type": "bar",
         "x": [
          "10s-15s",
          "8s-10s",
          "小于8s"
         ],
         "xaxis": "x",
         "y": [
          0.5871941065367813,
          0.5901260995157582,
          0.5237048181816053
         ],
         "yaxis": "y"
        },
        {
         "alignmentgroup": "True",
         "hovertemplate": "variable=年轻人5s快滑率<br>统计方式=中位数<br>视频时长=%{x}<br>value=%{y}<extra></extra>",
         "legendgroup": "年轻人5s快滑率",
         "marker": {
          "color": "rgb(150, 210, 164)"
         },
         "name": "年轻人5s快滑率",
         "offsetgroup": "年轻人5s快滑率",
         "orientation": "v",
         "showlegend": false,
         "textposition": "outside",
         "texttemplate": "%{value:.2s}",
         "type": "bar",
         "x": [
          "10s-15s",
          "8s-10s",
          "小于8s"
         ],
         "xaxis": "x2",
         "y": [
          0.56,
          0.545,
          0.5
         ],
         "yaxis": "y2"
        }
       ],
       "layout": {
        "annotations": [
         {
          "font": {},
          "showarrow": false,
          "text": "统计方式=平均值",
          "x": 0.245,
          "xanchor": "center",
          "xref": "paper",
          "y": 1,
          "yanchor": "bottom",
          "yref": "paper"
         },
         {
          "font": {},
          "showarrow": false,
          "text": "统计方式=中位数",
          "x": 0.755,
          "xanchor": "center",
          "xref": "paper",
          "y": 1,
          "yanchor": "bottom",
          "yref": "paper"
         }
        ],
        "bargap": 0.3,
        "bargroupgap": 0,
        "barmode": "group",
        "font": {
         "family": "PingFangSC-Light"
        },
        "height": 400,
        "hovermode": "closest",
        "legend": {
         "title": {
          "text": "variable"
         },
         "tracegroupgap": 0
        },
        "margin": {
         "b": 20,
         "l": 30,
         "r": 30,
         "t": 40
        },
        "template": {
         "data": {
          "bar": [
           {
            "error_x": {
             "color": "rgb(36,36,36)"
            },
            "error_y": {
             "color": "rgb(36,36,36)"
            },
            "marker": {
             "line": {
              "color": "white",
              "width": 0.5
             }
            },
            "type": "bar"
           }
          ],
          "barpolar": [
           {
            "marker": {
             "line": {
              "color": "white",
              "width": 0.5
             }
            },
            "type": "barpolar"
           }
          ],
          "carpet": [
           {
            "aaxis": {
             "endlinecolor": "rgb(36,36,36)",
             "gridcolor": "white",
             "linecolor": "white",
             "minorgridcolor": "white",
             "startlinecolor": "rgb(36,36,36)"
            },
            "baxis": {
             "endlinecolor": "rgb(36,36,36)",
             "gridcolor": "white",
             "linecolor": "white",
             "minorgridcolor": "white",
             "startlinecolor": "rgb(36,36,36)"
            },
            "type": "carpet"
           }
          ],
          "choropleth": [
           {
            "colorbar": {
             "outlinewidth": 1,
             "tickcolor": "rgb(36,36,36)",
             "ticks": "outside"
            },
            "type": "choropleth"
           }
          ],
          "contour": [
           {
            "colorbar": {
             "outlinewidth": 1,
             "tickcolor": "rgb(36,36,36)",
             "ticks": "outside"
            },
            "colorscale": [
             [
              0,
              "#440154"
             ],
             [
              0.1111111111111111,
              "#482878"
             ],
             [
              0.2222222222222222,
              "#3e4989"
             ],
             [
              0.3333333333333333,
              "#31688e"
             ],
             [
              0.4444444444444444,
              "#26828e"
             ],
             [
              0.5555555555555556,
              "#1f9e89"
             ],
             [
              0.6666666666666666,
              "#35b779"
             ],
             [
              0.7777777777777778,
              "#6ece58"
             ],
             [
              0.8888888888888888,
              "#b5de2b"
             ],
             [
              1,
              "#fde725"
             ]
            ],
            "type": "contour"
           }
          ],
          "contourcarpet": [
           {
            "colorbar": {
             "outlinewidth": 1,
             "tickcolor": "rgb(36,36,36)",
             "ticks": "outside"
            },
            "type": "contourcarpet"
           }
          ],
          "heatmap": [
           {
            "colorbar": {
             "outlinewidth": 1,
             "tickcolor": "rgb(36,36,36)",
             "ticks": "outside"
            },
            "colorscale": [
             [
              0,
              "#440154"
             ],
             [
              0.1111111111111111,
              "#482878"
             ],
             [
              0.2222222222222222,
              "#3e4989"
             ],
             [
              0.3333333333333333,
              "#31688e"
             ],
             [
              0.4444444444444444,
              "#26828e"
             ],
             [
              0.5555555555555556,
              "#1f9e89"
             ],
             [
              0.6666666666666666,
              "#35b779"
             ],
             [
              0.7777777777777778,
              "#6ece58"
             ],
             [
              0.8888888888888888,
              "#b5de2b"
             ],
             [
              1,
              "#fde725"
             ]
            ],
            "type": "heatmap"
           }
          ],
          "heatmapgl": [
           {
            "colorbar": {
             "outlinewidth": 1,
             "tickcolor": "rgb(36,36,36)",
             "ticks": "outside"
            },
            "colorscale": [
             [
              0,
              "#440154"
             ],
             [
              0.1111111111111111,
              "#482878"
             ],
             [
              0.2222222222222222,
              "#3e4989"
             ],
             [
              0.3333333333333333,
              "#31688e"
             ],
             [
              0.4444444444444444,
              "#26828e"
             ],
             [
              0.5555555555555556,
              "#1f9e89"
             ],
             [
              0.6666666666666666,
              "#35b779"
             ],
             [
              0.7777777777777778,
              "#6ece58"
             ],
             [
              0.8888888888888888,
              "#b5de2b"
             ],
             [
              1,
              "#fde725"
             ]
            ],
            "type": "heatmapgl"
           }
          ],
          "histogram": [
           {
            "marker": {
             "line": {
              "color": "white",
              "width": 0.6
             }
            },
            "type": "histogram"
           }
          ],
          "histogram2d": [
           {
            "colorbar": {
             "outlinewidth": 1,
             "tickcolor": "rgb(36,36,36)",
             "ticks": "outside"
            },
            "colorscale": [
             [
              0,
              "#440154"
             ],
             [
              0.1111111111111111,
              "#482878"
             ],
             [
              0.2222222222222222,
              "#3e4989"
             ],
             [
              0.3333333333333333,
              "#31688e"
             ],
             [
              0.4444444444444444,
              "#26828e"
             ],
             [
              0.5555555555555556,
              "#1f9e89"
             ],
             [
              0.6666666666666666,
              "#35b779"
             ],
             [
              0.7777777777777778,
              "#6ece58"
             ],
             [
              0.8888888888888888,
              "#b5de2b"
             ],
             [
              1,
              "#fde725"
             ]
            ],
            "type": "histogram2d"
           }
          ],
          "histogram2dcontour": [
           {
            "colorbar": {
             "outlinewidth": 1,
             "tickcolor": "rgb(36,36,36)",
             "ticks": "outside"
            },
            "colorscale": [
             [
              0,
              "#440154"
             ],
             [
              0.1111111111111111,
              "#482878"
             ],
             [
              0.2222222222222222,
              "#3e4989"
             ],
             [
              0.3333333333333333,
              "#31688e"
             ],
             [
              0.4444444444444444,
              "#26828e"
             ],
             [
              0.5555555555555556,
              "#1f9e89"
             ],
             [
              0.6666666666666666,
              "#35b779"
             ],
             [
              0.7777777777777778,
              "#6ece58"
             ],
             [
              0.8888888888888888,
              "#b5de2b"
             ],
             [
              1,
              "#fde725"
             ]
            ],
            "type": "histogram2dcontour"
           }
          ],
          "mesh3d": [
           {
            "colorbar": {
             "outlinewidth": 1,
             "tickcolor": "rgb(36,36,36)",
             "ticks": "outside"
            },
            "type": "mesh3d"
           }
          ],
          "parcoords": [
           {
            "line": {
             "colorbar": {
              "outlinewidth": 1,
              "tickcolor": "rgb(36,36,36)",
              "ticks": "outside"
             }
            },
            "type": "parcoords"
           }
          ],
          "pie": [
           {
            "automargin": true,
            "type": "pie"
           }
          ],
          "scatter": [
           {
            "marker": {
             "colorbar": {
              "outlinewidth": 1,
              "tickcolor": "rgb(36,36,36)",
              "ticks": "outside"
             }
            },
            "type": "scatter"
           }
          ],
          "scatter3d": [
           {
            "line": {
             "colorbar": {
              "outlinewidth": 1,
              "tickcolor": "rgb(36,36,36)",
              "ticks": "outside"
             }
            },
            "marker": {
             "colorbar": {
              "outlinewidth": 1,
              "tickcolor": "rgb(36,36,36)",
              "ticks": "outside"
             }
            },
            "type": "scatter3d"
           }
          ],
          "scattercarpet": [
           {
            "marker": {
             "colorbar": {
              "outlinewidth": 1,
              "tickcolor": "rgb(36,36,36)",
              "ticks": "outside"
             }
            },
            "type": "scattercarpet"
           }
          ],
          "scattergeo": [
           {
            "marker": {
             "colorbar": {
              "outlinewidth": 1,
              "tickcolor": "rgb(36,36,36)",
              "ticks": "outside"
             }
            },
            "type": "scattergeo"
           }
          ],
          "scattergl": [
           {
            "marker": {
             "colorbar": {
              "outlinewidth": 1,
              "tickcolor": "rgb(36,36,36)",
              "ticks": "outside"
             }
            },
            "type": "scattergl"
           }
          ],
          "scattermapbox": [
           {
            "marker": {
             "colorbar": {
              "outlinewidth": 1,
              "tickcolor": "rgb(36,36,36)",
              "ticks": "outside"
             }
            },
            "type": "scattermapbox"
           }
          ],
          "scatterpolar": [
           {
            "marker": {
             "colorbar": {
              "outlinewidth": 1,
              "tickcolor": "rgb(36,36,36)",
              "ticks": "outside"
             }
            },
            "type": "scatterpolar"
           }
          ],
          "scatterpolargl": [
           {
            "marker": {
             "colorbar": {
              "outlinewidth": 1,
              "tickcolor": "rgb(36,36,36)",
              "ticks": "outside"
             }
            },
            "type": "scatterpolargl"
           }
          ],
          "scatterternary": [
           {
            "marker": {
             "colorbar": {
              "outlinewidth": 1,
              "tickcolor": "rgb(36,36,36)",
              "ticks": "outside"
             }
            },
            "type": "scatterternary"
           }
          ],
          "surface": [
           {
            "colorbar": {
             "outlinewidth": 1,
             "tickcolor": "rgb(36,36,36)",
             "ticks": "outside"
            },
            "colorscale": [
             [
              0,
              "#440154"
             ],
             [
              0.1111111111111111,
              "#482878"
             ],
             [
              0.2222222222222222,
              "#3e4989"
             ],
             [
              0.3333333333333333,
              "#31688e"
             ],
             [
              0.4444444444444444,
              "#26828e"
             ],
             [
              0.5555555555555556,
              "#1f9e89"
             ],
             [
              0.6666666666666666,
              "#35b779"
             ],
             [
              0.7777777777777778,
              "#6ece58"
             ],
             [
              0.8888888888888888,
              "#b5de2b"
             ],
             [
              1,
              "#fde725"
             ]
            ],
            "type": "surface"
           }
          ],
          "table": [
           {
            "cells": {
             "fill": {
              "color": "rgb(237,237,237)"
             },
             "line": {
              "color": "white"
             }
            },
            "header": {
             "fill": {
              "color": "rgb(217,217,217)"
             },
             "line": {
              "color": "white"
             }
            },
            "type": "table"
           }
          ]
         },
         "layout": {
          "annotationdefaults": {
           "arrowhead": 0,
           "arrowwidth": 1
          },
          "coloraxis": {
           "colorbar": {
            "outlinewidth": 1,
            "tickcolor": "rgb(36,36,36)",
            "ticks": "outside"
           }
          },
          "colorscale": {
           "diverging": [
            [
             0,
             "rgb(103,0,31)"
            ],
            [
             0.1,
             "rgb(178,24,43)"
            ],
            [
             0.2,
             "rgb(214,96,77)"
            ],
            [
             0.3,
             "rgb(244,165,130)"
            ],
            [
             0.4,
             "rgb(253,219,199)"
            ],
            [
             0.5,
             "rgb(247,247,247)"
            ],
            [
             0.6,
             "rgb(209,229,240)"
            ],
            [
             0.7,
             "rgb(146,197,222)"
            ],
            [
             0.8,
             "rgb(67,147,195)"
            ],
            [
             0.9,
             "rgb(33,102,172)"
            ],
            [
             1,
             "rgb(5,48,97)"
            ]
           ],
           "sequential": [
            [
             0,
             "#440154"
            ],
            [
             0.1111111111111111,
             "#482878"
            ],
            [
             0.2222222222222222,
             "#3e4989"
            ],
            [
             0.3333333333333333,
             "#31688e"
            ],
            [
             0.4444444444444444,
             "#26828e"
            ],
            [
             0.5555555555555556,
             "#1f9e89"
            ],
            [
             0.6666666666666666,
             "#35b779"
            ],
            [
             0.7777777777777778,
             "#6ece58"
            ],
            [
             0.8888888888888888,
             "#b5de2b"
            ],
            [
             1,
             "#fde725"
            ]
           ],
           "sequentialminus": [
            [
             0,
             "#440154"
            ],
            [
             0.1111111111111111,
             "#482878"
            ],
            [
             0.2222222222222222,
             "#3e4989"
            ],
            [
             0.3333333333333333,
             "#31688e"
            ],
            [
             0.4444444444444444,
             "#26828e"
            ],
            [
             0.5555555555555556,
             "#1f9e89"
            ],
            [
             0.6666666666666666,
             "#35b779"
            ],
            [
             0.7777777777777778,
             "#6ece58"
            ],
            [
             0.8888888888888888,
             "#b5de2b"
            ],
            [
             1,
             "#fde725"
            ]
           ]
          },
          "colorway": [
           "#1F77B4",
           "#FF7F0E",
           "#2CA02C",
           "#D62728",
           "#9467BD",
           "#8C564B",
           "#E377C2",
           "#7F7F7F",
           "#BCBD22",
           "#17BECF"
          ],
          "font": {
           "color": "rgb(36,36,36)"
          },
          "geo": {
           "bgcolor": "white",
           "lakecolor": "white",
           "landcolor": "white",
           "showlakes": true,
           "showland": true,
           "subunitcolor": "white"
          },
          "hoverlabel": {
           "align": "left"
          },
          "hovermode": "closest",
          "mapbox": {
           "style": "light"
          },
          "paper_bgcolor": "white",
          "plot_bgcolor": "white",
          "polar": {
           "angularaxis": {
            "gridcolor": "rgb(232,232,232)",
            "linecolor": "rgb(36,36,36)",
            "showgrid": false,
            "showline": true,
            "ticks": "outside"
           },
           "bgcolor": "white",
           "radialaxis": {
            "gridcolor": "rgb(232,232,232)",
            "linecolor": "rgb(36,36,36)",
            "showgrid": false,
            "showline": true,
            "ticks": "outside"
           }
          },
          "scene": {
           "xaxis": {
            "backgroundcolor": "white",
            "gridcolor": "rgb(232,232,232)",
            "gridwidth": 2,
            "linecolor": "rgb(36,36,36)",
            "showbackground": true,
            "showgrid": false,
            "showline": true,
            "ticks": "outside",
            "zeroline": false,
            "zerolinecolor": "rgb(36,36,36)"
           },
           "yaxis": {
            "backgroundcolor": "white",
            "gridcolor": "rgb(232,232,232)",
            "gridwidth": 2,
            "linecolor": "rgb(36,36,36)",
            "showbackground": true,
            "showgrid": false,
            "showline": true,
            "ticks": "outside",
            "zeroline": false,
            "zerolinecolor": "rgb(36,36,36)"
           },
           "zaxis": {
            "backgroundcolor": "white",
            "gridcolor": "rgb(232,232,232)",
            "gridwidth": 2,
            "linecolor": "rgb(36,36,36)",
            "showbackground": true,
            "showgrid": false,
            "showline": true,
            "ticks": "outside",
            "zeroline": false,
            "zerolinecolor": "rgb(36,36,36)"
           }
          },
          "shapedefaults": {
           "fillcolor": "black",
           "line": {
            "width": 0
           },
           "opacity": 0.3
          },
          "ternary": {
           "aaxis": {
            "gridcolor": "rgb(232,232,232)",
            "linecolor": "rgb(36,36,36)",
            "showgrid": false,
            "showline": true,
            "ticks": "outside"
           },
           "baxis": {
            "gridcolor": "rgb(232,232,232)",
            "linecolor": "rgb(36,36,36)",
            "showgrid": false,
            "showline": true,
            "ticks": "outside"
           },
           "bgcolor": "white",
           "caxis": {
            "gridcolor": "rgb(232,232,232)",
            "linecolor": "rgb(36,36,36)",
            "showgrid": false,
            "showline": true,
            "ticks": "outside"
           }
          },
          "title": {
           "x": 0.05
          },
          "xaxis": {
           "automargin": true,
           "gridcolor": "rgb(232,232,232)",
           "linecolor": "rgb(36,36,36)",
           "showgrid": false,
           "showline": true,
           "ticks": "outside",
           "title": {
            "standoff": 15
           },
           "zeroline": false,
           "zerolinecolor": "rgb(36,36,36)"
          },
          "yaxis": {
           "automargin": true,
           "gridcolor": "rgb(232,232,232)",
           "linecolor": "rgb(36,36,36)",
           "showgrid": false,
           "showline": true,
           "ticks": "outside",
           "title": {
            "standoff": 15
           },
           "zeroline": false,
           "zerolinecolor": "rgb(36,36,36)"
          }
         }
        },
        "title": {
         "font": {
          "size": 16
         },
         "text": "视频时长_5s快滑率对比",
         "x": 0.5,
         "xref": "paper"
        },
        "width": 750,
        "xaxis": {
         "anchor": "y",
         "domain": [
          0,
          0.49
         ],
         "title": {
          "text": "视频时长"
         }
        },
        "xaxis2": {
         "anchor": "y2",
         "domain": [
          0.51,
          1
         ],
         "matches": "x",
         "title": {
          "text": "视频时长"
         }
        },
        "yaxis": {
         "anchor": "x",
         "domain": [
          0,
          1
         ],
         "showgrid": false,
         "title": {
          "text": "value"
         }
        },
        "yaxis2": {
         "anchor": "x2",
         "domain": [
          0,
          1
         ],
         "matches": "y",
         "showgrid": false,
         "showticklabels": false
        }
       }
      },
      "text/html": "<div>\n        \n        \n            <div id=\"6d5733ff-68b4-4aa3-8824-4c64777f7607\" class=\"plotly-graph-div\" style=\"height:400px; width:750px;\"></div>\n            <script type=\"text/javascript\">\n                require([\"plotly\"], function(Plotly) {\n                    window.PLOTLYENV=window.PLOTLYENV || {};\n                    \n                if (document.getElementById(\"6d5733ff-68b4-4aa3-8824-4c64777f7607\")) {\n                    Plotly.newPlot(\n                        '6d5733ff-68b4-4aa3-8824-4c64777f7607',\n                        [{\"alignmentgroup\": \"True\", \"hovertemplate\": \"variable=\\u5927\\u76d85s\\u5feb\\u6ed1\\u7387<br>\\u7edf\\u8ba1\\u65b9\\u5f0f=\\u5e73\\u5747\\u503c<br>\\u89c6\\u9891\\u65f6\\u957f=%{x}<br>value=%{y}<extra></extra>\", \"legendgroup\": \"\\u5927\\u76d85s\\u5feb\\u6ed1\\u7387\", \"marker\": {\"color\": \"rgb(196, 230, 195)\"}, \"name\": \"\\u5927\\u76d85s\\u5feb\\u6ed1\\u7387\", \"offsetgroup\": \"\\u5927\\u76d85s\\u5feb\\u6ed1\\u7387\", \"orientation\": \"v\", \"showlegend\": true, \"textposition\": \"outside\", \"texttemplate\": \"%{value:.2s}\", \"type\": \"bar\", \"x\": [\"10s-15s\", \"8s-10s\", \"\\u5c0f\\u4e8e8s\"], \"xaxis\": \"x\", \"y\": [0.5853424967490244, 0.5636074269327528, 0.51762366299144], \"yaxis\": \"y\"}, {\"alignmentgroup\": \"True\", \"hovertemplate\": \"variable=\\u5927\\u76d85s\\u5feb\\u6ed1\\u7387<br>\\u7edf\\u8ba1\\u65b9\\u5f0f=\\u4e2d\\u4f4d\\u6570<br>\\u89c6\\u9891\\u65f6\\u957f=%{x}<br>value=%{y}<extra></extra>\", \"legendgroup\": \"\\u5927\\u76d85s\\u5feb\\u6ed1\\u7387\", \"marker\": {\"color\": \"rgb(196, 230, 195)\"}, \"name\": \"\\u5927\\u76d85s\\u5feb\\u6ed1\\u7387\", \"offsetgroup\": \"\\u5927\\u76d85s\\u5feb\\u6ed1\\u7387\", \"orientation\": \"v\", \"showlegend\": false, \"textposition\": \"outside\", \"texttemplate\": \"%{value:.2s}\", \"type\": \"bar\", \"x\": [\"10s-15s\", \"8s-10s\", \"\\u5c0f\\u4e8e8s\"], \"xaxis\": \"x2\", \"y\": [0.57, 0.56, 0.5], \"yaxis\": \"y2\"}, {\"alignmentgroup\": \"True\", \"hovertemplate\": \"variable=\\u5e74\\u8f7b\\u4eba5s\\u5feb\\u6ed1\\u7387<br>\\u7edf\\u8ba1\\u65b9\\u5f0f=\\u5e73\\u5747\\u503c<br>\\u89c6\\u9891\\u65f6\\u957f=%{x}<br>value=%{y}<extra></extra>\", \"legendgroup\": \"\\u5e74\\u8f7b\\u4eba5s\\u5feb\\u6ed1\\u7387\", \"marker\": {\"color\": \"rgb(150, 210, 164)\"}, \"name\": \"\\u5e74\\u8f7b\\u4eba5s\\u5feb\\u6ed1\\u7387\", \"offsetgroup\": \"\\u5e74\\u8f7b\\u4eba5s\\u5feb\\u6ed1\\u7387\", \"orientation\": \"v\", \"showlegend\": true, \"textposition\": \"outside\", \"texttemplate\": \"%{value:.2s}\", \"type\": \"bar\", \"x\": [\"10s-15s\", \"8s-10s\", \"\\u5c0f\\u4e8e8s\"], \"xaxis\": \"x\", \"y\": [0.5871941065367813, 0.5901260995157582, 0.5237048181816053], \"yaxis\": \"y\"}, {\"alignmentgroup\": \"True\", \"hovertemplate\": \"variable=\\u5e74\\u8f7b\\u4eba5s\\u5feb\\u6ed1\\u7387<br>\\u7edf\\u8ba1\\u65b9\\u5f0f=\\u4e2d\\u4f4d\\u6570<br>\\u89c6\\u9891\\u65f6\\u957f=%{x}<br>value=%{y}<extra></extra>\", \"legendgroup\": \"\\u5e74\\u8f7b\\u4eba5s\\u5feb\\u6ed1\\u7387\", \"marker\": {\"color\": \"rgb(150, 210, 164)\"}, \"name\": \"\\u5e74\\u8f7b\\u4eba5s\\u5feb\\u6ed1\\u7387\", \"offsetgroup\": \"\\u5e74\\u8f7b\\u4eba5s\\u5feb\\u6ed1\\u7387\", \"orientation\": \"v\", \"showlegend\": false, \"textposition\": \"outside\", \"texttemplate\": \"%{value:.2s}\", \"type\": \"bar\", \"x\": [\"10s-15s\", \"8s-10s\", \"\\u5c0f\\u4e8e8s\"], \"xaxis\": \"x2\", \"y\": [0.56, 0.545, 0.5], \"yaxis\": \"y2\"}],\n                        {\"annotations\": [{\"font\": {}, \"showarrow\": false, \"text\": \"\\u7edf\\u8ba1\\u65b9\\u5f0f=\\u5e73\\u5747\\u503c\", \"x\": 0.245, \"xanchor\": \"center\", \"xref\": \"paper\", \"y\": 1.0, \"yanchor\": \"bottom\", \"yref\": \"paper\"}, {\"font\": {}, \"showarrow\": false, \"text\": \"\\u7edf\\u8ba1\\u65b9\\u5f0f=\\u4e2d\\u4f4d\\u6570\", \"x\": 0.755, \"xanchor\": \"center\", \"xref\": \"paper\", \"y\": 1.0, \"yanchor\": \"bottom\", \"yref\": \"paper\"}], \"bargap\": 0.3, \"bargroupgap\": 0, \"barmode\": \"group\", \"font\": {\"family\": \"PingFangSC-Light\"}, \"height\": 400, \"hovermode\": \"closest\", \"legend\": {\"title\": {\"text\": \"variable\"}, \"tracegroupgap\": 0}, \"margin\": {\"b\": 20, \"l\": 30, \"r\": 30, \"t\": 40}, \"template\": {\"data\": {\"bar\": [{\"error_x\": {\"color\": \"rgb(36,36,36)\"}, \"error_y\": {\"color\": \"rgb(36,36,36)\"}, \"marker\": {\"line\": {\"color\": \"white\", \"width\": 0.5}}, \"type\": \"bar\"}], \"barpolar\": [{\"marker\": {\"line\": {\"color\": \"white\", \"width\": 0.5}}, \"type\": \"barpolar\"}], \"carpet\": [{\"aaxis\": {\"endlinecolor\": \"rgb(36,36,36)\", \"gridcolor\": \"white\", \"linecolor\": \"white\", \"minorgridcolor\": \"white\", \"startlinecolor\": \"rgb(36,36,36)\"}, \"baxis\": {\"endlinecolor\": \"rgb(36,36,36)\", \"gridcolor\": \"white\", \"linecolor\": \"white\", \"minorgridcolor\": \"white\", \"startlinecolor\": \"rgb(36,36,36)\"}, \"type\": \"carpet\"}], \"choropleth\": [{\"colorbar\": {\"outlinewidth\": 1, \"tickcolor\": \"rgb(36,36,36)\", \"ticks\": \"outside\"}, \"type\": \"choropleth\"}], \"contour\": [{\"colorbar\": {\"outlinewidth\": 1, \"tickcolor\": \"rgb(36,36,36)\", \"ticks\": \"outside\"}, \"colorscale\": [[0.0, \"#440154\"], [0.1111111111111111, \"#482878\"], [0.2222222222222222, \"#3e4989\"], [0.3333333333333333, \"#31688e\"], [0.4444444444444444, \"#26828e\"], [0.5555555555555556, \"#1f9e89\"], [0.6666666666666666, \"#35b779\"], [0.7777777777777778, \"#6ece58\"], [0.8888888888888888, \"#b5de2b\"], [1.0, \"#fde725\"]], \"type\": \"contour\"}], \"contourcarpet\": [{\"colorbar\": {\"outlinewidth\": 1, \"tickcolor\": \"rgb(36,36,36)\", \"ticks\": \"outside\"}, \"type\": \"contourcarpet\"}], \"heatmap\": [{\"colorbar\": {\"outlinewidth\": 1, \"tickcolor\": \"rgb(36,36,36)\", \"ticks\": \"outside\"}, \"colorscale\": [[0.0, \"#440154\"], [0.1111111111111111, \"#482878\"], [0.2222222222222222, \"#3e4989\"], [0.3333333333333333, \"#31688e\"], [0.4444444444444444, \"#26828e\"], [0.5555555555555556, \"#1f9e89\"], [0.6666666666666666, \"#35b779\"], [0.7777777777777778, \"#6ece58\"], [0.8888888888888888, \"#b5de2b\"], [1.0, \"#fde725\"]], \"type\": \"heatmap\"}], \"heatmapgl\": [{\"colorbar\": {\"outlinewidth\": 1, \"tickcolor\": \"rgb(36,36,36)\", \"ticks\": \"outside\"}, \"colorscale\": [[0.0, \"#440154\"], [0.1111111111111111, \"#482878\"], [0.2222222222222222, \"#3e4989\"], [0.3333333333333333, \"#31688e\"], [0.4444444444444444, \"#26828e\"], [0.5555555555555556, \"#1f9e89\"], [0.6666666666666666, \"#35b779\"], [0.7777777777777778, \"#6ece58\"], [0.8888888888888888, \"#b5de2b\"], [1.0, \"#fde725\"]], \"type\": \"heatmapgl\"}], \"histogram\": [{\"marker\": {\"line\": {\"color\": \"white\", \"width\": 0.6}}, \"type\": \"histogram\"}], \"histogram2d\": [{\"colorbar\": {\"outlinewidth\": 1, \"tickcolor\": \"rgb(36,36,36)\", \"ticks\": \"outside\"}, \"colorscale\": [[0.0, \"#440154\"], [0.1111111111111111, \"#482878\"], [0.2222222222222222, \"#3e4989\"], [0.3333333333333333, \"#31688e\"], [0.4444444444444444, \"#26828e\"], [0.5555555555555556, \"#1f9e89\"], [0.6666666666666666, \"#35b779\"], [0.7777777777777778, \"#6ece58\"], [0.8888888888888888, \"#b5de2b\"], [1.0, \"#fde725\"]], \"type\": \"histogram2d\"}], \"histogram2dcontour\": [{\"colorbar\": {\"outlinewidth\": 1, \"tickcolor\": \"rgb(36,36,36)\", \"ticks\": \"outside\"}, \"colorscale\": [[0.0, \"#440154\"], [0.1111111111111111, \"#482878\"], [0.2222222222222222, \"#3e4989\"], [0.3333333333333333, \"#31688e\"], [0.4444444444444444, \"#26828e\"], [0.5555555555555556, \"#1f9e89\"], [0.6666666666666666, \"#35b779\"], [0.7777777777777778, \"#6ece58\"], [0.8888888888888888, \"#b5de2b\"], [1.0, \"#fde725\"]], \"type\": \"histogram2dcontour\"}], \"mesh3d\": [{\"colorbar\": {\"outlinewidth\": 1, \"tickcolor\": \"rgb(36,36,36)\", \"ticks\": \"outside\"}, \"type\": \"mesh3d\"}], \"parcoords\": [{\"line\": {\"colorbar\": {\"outlinewidth\": 1, \"tickcolor\": \"rgb(36,36,36)\", \"ticks\": \"outside\"}}, \"type\": \"parcoords\"}], \"pie\": [{\"automargin\": true, \"type\": \"pie\"}], \"scatter\": [{\"marker\": {\"colorbar\": {\"outlinewidth\": 1, \"tickcolor\": \"rgb(36,36,36)\", \"ticks\": \"outside\"}}, \"type\": \"scatter\"}], \"scatter3d\": [{\"line\": {\"colorbar\": {\"outlinewidth\": 1, \"tickcolor\": \"rgb(36,36,36)\", \"ticks\": \"outside\"}}, \"marker\": {\"colorbar\": {\"outlinewidth\": 1, \"tickcolor\": \"rgb(36,36,36)\", \"ticks\": \"outside\"}}, \"type\": \"scatter3d\"}], \"scattercarpet\": [{\"marker\": {\"colorbar\": {\"outlinewidth\": 1, \"tickcolor\": \"rgb(36,36,36)\", \"ticks\": \"outside\"}}, \"type\": \"scattercarpet\"}], \"scattergeo\": [{\"marker\": {\"colorbar\": {\"outlinewidth\": 1, \"tickcolor\": \"rgb(36,36,36)\", \"ticks\": \"outside\"}}, \"type\": \"scattergeo\"}], \"scattergl\": [{\"marker\": {\"colorbar\": {\"outlinewidth\": 1, \"tickcolor\": \"rgb(36,36,36)\", \"ticks\": \"outside\"}}, \"type\": \"scattergl\"}], \"scattermapbox\": [{\"marker\": {\"colorbar\": {\"outlinewidth\": 1, \"tickcolor\": \"rgb(36,36,36)\", \"ticks\": \"outside\"}}, \"type\": \"scattermapbox\"}], \"scatterpolar\": [{\"marker\": {\"colorbar\": {\"outlinewidth\": 1, \"tickcolor\": \"rgb(36,36,36)\", \"ticks\": \"outside\"}}, \"type\": \"scatterpolar\"}], \"scatterpolargl\": [{\"marker\": {\"colorbar\": {\"outlinewidth\": 1, \"tickcolor\": \"rgb(36,36,36)\", \"ticks\": \"outside\"}}, \"type\": \"scatterpolargl\"}], \"scatterternary\": [{\"marker\": {\"colorbar\": {\"outlinewidth\": 1, \"tickcolor\": \"rgb(36,36,36)\", \"ticks\": \"outside\"}}, \"type\": \"scatterternary\"}], \"surface\": [{\"colorbar\": {\"outlinewidth\": 1, \"tickcolor\": \"rgb(36,36,36)\", \"ticks\": \"outside\"}, \"colorscale\": [[0.0, \"#440154\"], [0.1111111111111111, \"#482878\"], [0.2222222222222222, \"#3e4989\"], [0.3333333333333333, \"#31688e\"], [0.4444444444444444, \"#26828e\"], [0.5555555555555556, \"#1f9e89\"], [0.6666666666666666, \"#35b779\"], [0.7777777777777778, \"#6ece58\"], [0.8888888888888888, \"#b5de2b\"], [1.0, \"#fde725\"]], \"type\": \"surface\"}], \"table\": [{\"cells\": {\"fill\": {\"color\": \"rgb(237,237,237)\"}, \"line\": {\"color\": \"white\"}}, \"header\": {\"fill\": {\"color\": \"rgb(217,217,217)\"}, \"line\": {\"color\": \"white\"}}, \"type\": \"table\"}]}, \"layout\": {\"annotationdefaults\": {\"arrowhead\": 0, \"arrowwidth\": 1}, \"coloraxis\": {\"colorbar\": {\"outlinewidth\": 1, \"tickcolor\": \"rgb(36,36,36)\", \"ticks\": \"outside\"}}, \"colorscale\": {\"diverging\": [[0.0, \"rgb(103,0,31)\"], [0.1, \"rgb(178,24,43)\"], [0.2, \"rgb(214,96,77)\"], [0.3, \"rgb(244,165,130)\"], [0.4, \"rgb(253,219,199)\"], [0.5, \"rgb(247,247,247)\"], [0.6, \"rgb(209,229,240)\"], [0.7, \"rgb(146,197,222)\"], [0.8, \"rgb(67,147,195)\"], [0.9, \"rgb(33,102,172)\"], [1.0, \"rgb(5,48,97)\"]], \"sequential\": [[0.0, \"#440154\"], [0.1111111111111111, \"#482878\"], [0.2222222222222222, \"#3e4989\"], [0.3333333333333333, \"#31688e\"], [0.4444444444444444, \"#26828e\"], [0.5555555555555556, \"#1f9e89\"], [0.6666666666666666, \"#35b779\"], [0.7777777777777778, \"#6ece58\"], [0.8888888888888888, \"#b5de2b\"], [1.0, \"#fde725\"]], \"sequentialminus\": [[0.0, \"#440154\"], [0.1111111111111111, \"#482878\"], [0.2222222222222222, \"#3e4989\"], [0.3333333333333333, \"#31688e\"], [0.4444444444444444, \"#26828e\"], [0.5555555555555556, \"#1f9e89\"], [0.6666666666666666, \"#35b779\"], [0.7777777777777778, \"#6ece58\"], [0.8888888888888888, \"#b5de2b\"], [1.0, \"#fde725\"]]}, \"colorway\": [\"#1F77B4\", \"#FF7F0E\", \"#2CA02C\", \"#D62728\", \"#9467BD\", \"#8C564B\", \"#E377C2\", \"#7F7F7F\", \"#BCBD22\", \"#17BECF\"], \"font\": {\"color\": \"rgb(36,36,36)\"}, \"geo\": {\"bgcolor\": \"white\", \"lakecolor\": \"white\", \"landcolor\": \"white\", \"showlakes\": true, \"showland\": true, \"subunitcolor\": \"white\"}, \"hoverlabel\": {\"align\": \"left\"}, \"hovermode\": \"closest\", \"mapbox\": {\"style\": \"light\"}, \"paper_bgcolor\": \"white\", \"plot_bgcolor\": \"white\", \"polar\": {\"angularaxis\": {\"gridcolor\": \"rgb(232,232,232)\", \"linecolor\": \"rgb(36,36,36)\", \"showgrid\": false, \"showline\": true, \"ticks\": \"outside\"}, \"bgcolor\": \"white\", \"radialaxis\": {\"gridcolor\": \"rgb(232,232,232)\", \"linecolor\": \"rgb(36,36,36)\", \"showgrid\": false, \"showline\": true, \"ticks\": \"outside\"}}, \"scene\": {\"xaxis\": {\"backgroundcolor\": \"white\", \"gridcolor\": \"rgb(232,232,232)\", \"gridwidth\": 2, \"linecolor\": \"rgb(36,36,36)\", \"showbackground\": true, \"showgrid\": false, \"showline\": true, \"ticks\": \"outside\", \"zeroline\": false, \"zerolinecolor\": \"rgb(36,36,36)\"}, \"yaxis\": {\"backgroundcolor\": \"white\", \"gridcolor\": \"rgb(232,232,232)\", \"gridwidth\": 2, \"linecolor\": \"rgb(36,36,36)\", \"showbackground\": true, \"showgrid\": false, \"showline\": true, \"ticks\": \"outside\", \"zeroline\": false, \"zerolinecolor\": \"rgb(36,36,36)\"}, \"zaxis\": {\"backgroundcolor\": \"white\", \"gridcolor\": \"rgb(232,232,232)\", \"gridwidth\": 2, \"linecolor\": \"rgb(36,36,36)\", \"showbackground\": true, \"showgrid\": false, \"showline\": true, \"ticks\": \"outside\", \"zeroline\": false, \"zerolinecolor\": \"rgb(36,36,36)\"}}, \"shapedefaults\": {\"fillcolor\": \"black\", \"line\": {\"width\": 0}, \"opacity\": 0.3}, \"ternary\": {\"aaxis\": {\"gridcolor\": \"rgb(232,232,232)\", \"linecolor\": \"rgb(36,36,36)\", \"showgrid\": false, \"showline\": true, \"ticks\": \"outside\"}, \"baxis\": {\"gridcolor\": \"rgb(232,232,232)\", \"linecolor\": \"rgb(36,36,36)\", \"showgrid\": false, \"showline\": true, \"ticks\": \"outside\"}, \"bgcolor\": \"white\", \"caxis\": {\"gridcolor\": \"rgb(232,232,232)\", \"linecolor\": \"rgb(36,36,36)\", \"showgrid\": false, \"showline\": true, \"ticks\": \"outside\"}}, \"title\": {\"x\": 0.05}, \"xaxis\": {\"automargin\": true, \"gridcolor\": \"rgb(232,232,232)\", \"linecolor\": \"rgb(36,36,36)\", \"showgrid\": false, \"showline\": true, \"ticks\": \"outside\", \"title\": {\"standoff\": 15}, \"zeroline\": false, \"zerolinecolor\": \"rgb(36,36,36)\"}, \"yaxis\": {\"automargin\": true, \"gridcolor\": \"rgb(232,232,232)\", \"linecolor\": \"rgb(36,36,36)\", \"showgrid\": false, \"showline\": true, \"ticks\": \"outside\", \"title\": {\"standoff\": 15}, \"zeroline\": false, \"zerolinecolor\": \"rgb(36,36,36)\"}}}, \"title\": {\"font\": {\"size\": 16}, \"text\": \"\\u89c6\\u9891\\u65f6\\u957f_5s\\u5feb\\u6ed1\\u7387\\u5bf9\\u6bd4\", \"x\": 0.5, \"xref\": \"paper\"}, \"width\": 750, \"xaxis\": {\"anchor\": \"y\", \"domain\": [0.0, 0.49], \"title\": {\"text\": \"\\u89c6\\u9891\\u65f6\\u957f\"}}, \"xaxis2\": {\"anchor\": \"y2\", \"domain\": [0.51, 1.0], \"matches\": \"x\", \"title\": {\"text\": \"\\u89c6\\u9891\\u65f6\\u957f\"}}, \"yaxis\": {\"anchor\": \"x\", \"domain\": [0.0, 1.0], \"showgrid\": false, \"title\": {\"text\": \"value\"}}, \"yaxis2\": {\"anchor\": \"x2\", \"domain\": [0.0, 1.0], \"matches\": \"y\", \"showgrid\": false, \"showticklabels\": false}},\n                        {\"responsive\": true}\n                    ).then(function(){\n                            \nvar gd = document.getElementById('6d5733ff-68b4-4aa3-8824-4c64777f7607');\nvar x = new MutationObserver(function (mutations, observer) {{\n        var display = window.getComputedStyle(gd).display;\n        if (!display || display === 'none') {{\n            console.log([gd, 'removed!']);\n            Plotly.purge(gd);\n            observer.disconnect();\n        }}\n}});\n\n// Listen for the removal of the full notebook cells\nvar notebookContainer = gd.closest('#notebook-container');\nif (notebookContainer) {{\n    x.observe(notebookContainer, {childList: true});\n}}\n\n// Listen for the clearing of the current output cell\nvar outputEl = gd.closest('.output');\nif (outputEl) {{\n    x.observe(outputEl, {childList: true});\n}}\n\n                        })\n                };\n                });\n            </script>\n        </div>"
     },
     "metadata": {}
    }
   ],
   "source": [
    "#视频时长_vv分布\n",
    "duration_consumeDf = feedAttrConsumeStatDf.groupby(['duration']).agg({\n",
    "    'allCompleteRatio_mean':'mean', 'allCompleteRatio_median':'median',\n",
    "    'youngCompleteRatio_mean':'mean', 'youngCompleteRatio_median':'median',\n",
    "    'allInteractRatio_mean':'mean', 'allInteractRatio_median':'median',\n",
    "    'youngInteractRatio_mean':'mean', 'youngInteractRatio_median':'median',\n",
    "    'allDurationPerVV_mean':'mean', 'allDurationPerVV_median':'median',\n",
    "    'youngDurationPerVV_mean':'mean', 'youngDurationPerVV_median':'median',\n",
    "    'allPlayRatio_mean':'mean', 'allPlayRatio_median':'median',\n",
    "    'youngPlayRatio_mean':'mean', 'youngPlayRatio_median':'median',\n",
    "    'all3sSkipRatio_mean':'mean', 'all3sSkipRatio_median':'median',\n",
    "    'young3sSkipRatio_mean':'mean', 'young3sSkipRatio_median':'median',\n",
    "    'all5sSkipRatio_mean':'mean', 'all5sSkipRatio_median':'median',\n",
    "    'young5sSkipRatio_mean':'mean', 'young5sSkipRatio_median':'median'\n",
    "}).reset_index()\n",
    "\n",
    "duration_consumeDfTidy = pd.melt(duration_consumeDf, id_vars=['duration'])\n",
    "duration_consumeDfTidy['statType'] = pd.np.where(duration_consumeDfTidy.variable.str.contains('mean'), 'mean', \n",
    "                                     pd.np.where(duration_consumeDfTidy.variable.str.contains('median'), 'median', 'other'))\n",
    "duration_consumeDfTidy.variable = duration_consumeDfTidy.variable.str.split('_').str[0]\n",
    "\n",
    "#\n",
    "duration_consumeDfTidy.variable = duration_consumeDfTidy.variable.str.replace('allCompleteRatio', '大盘完播率')\n",
    "duration_consumeDfTidy.variable = duration_consumeDfTidy.variable.str.replace('youngCompleteRatio', '年轻人完播率')\n",
    "duration_consumeDfTidy.variable = duration_consumeDfTidy.variable.str.replace('allInteractRatio', '大盘互动率')\n",
    "duration_consumeDfTidy.variable = duration_consumeDfTidy.variable.str.replace('youngInteractRatio', '年轻人互动率')\n",
    "duration_consumeDfTidy.variable = duration_consumeDfTidy.variable.str.replace('allDurationPerVV', '大盘单VV时长')\n",
    "duration_consumeDfTidy.variable = duration_consumeDfTidy.variable.str.replace('youngDurationPerVV', '年轻人单VV时长')\n",
    "duration_consumeDfTidy.variable = duration_consumeDfTidy.variable.str.replace('allPlayRatio', '大盘播放完成度')\n",
    "duration_consumeDfTidy.variable = duration_consumeDfTidy.variable.str.replace('youngPlayRatio', '年轻人播放完成度')\n",
    "duration_consumeDfTidy.variable = duration_consumeDfTidy.variable.str.replace('all3sSkipRatio', '大盘3s快滑率')\n",
    "duration_consumeDfTidy.variable = duration_consumeDfTidy.variable.str.replace('young3sSkipRatio', '年轻人3s快滑率')\n",
    "duration_consumeDfTidy.variable = duration_consumeDfTidy.variable.str.replace('all5sSkipRatio', '大盘5s快滑率')\n",
    "duration_consumeDfTidy.variable = duration_consumeDfTidy.variable.str.replace('young5sSkipRatio', '年轻人5s快滑率')\n",
    "\n",
    "#\n",
    "duration_consumeDfTidy.statType = duration_consumeDfTidy.statType.str.replace('mean', '平均值')\n",
    "duration_consumeDfTidy.statType = duration_consumeDfTidy.statType.str.replace('median', '中位数')\n",
    "\n",
    "#\n",
    "duration_consumeDfTidy.rename(columns={'duration':'视频时长', 'statType':'统计方式'}, inplace=True)\n",
    "\n",
    "#制图\n",
    "#VV时长\n",
    "duration_consume_VVFig = px.bar(duration_consumeDfTidy.query(\"variable in ['大盘单VV时长', '年轻人单VV时长']\"), \n",
    "                        title='视频时长_单vv时长对比',\n",
    "                        x='视频时长', y='value', color='variable', facet_col='统计方式',  \n",
    "                        barmode='group', template='simple_white', color_discrete_sequence=px.colors.sequential.Blugrn)\n",
    "duration_consume_VVFig.update_traces(texttemplate='%{value:.2s}', textposition='outside')\n",
    "duration_consume_VVFig.update_yaxes(showgrid=False) # the y-axis\n",
    "duration_consume_VVFig.update_layout(\n",
    "                        width=750, height =400,\n",
    "                        title=dict(x=0.5, xref='paper', font=dict(size=16)),\n",
    "                        font_family=\"PingFangSC-Light\",\n",
    "                        margin=dict(l=30, r=30, b=20, t=40),\n",
    "                        bargap=0.3, # gap between bars of adjacent location coordinates.\n",
    "                        bargroupgap=0, # gap between bars of the same location coordinate.\n",
    "                        hovermode=\"closest\")\n",
    "# duration_consume_VVFig.show()\n",
    "\n",
    "#完播率\n",
    "duration_consume_completeFig = px.bar(duration_consumeDfTidy.query(\"variable in ['大盘完播率', '年轻人完播率']\"), \n",
    "                        title='视频时长_完播率对比',\n",
    "                        x='视频时长', y='value', color='variable', facet_col='统计方式',  \n",
    "                        barmode='group', template='simple_white', color_discrete_sequence=px.colors.sequential.Blugrn)\n",
    "duration_consume_completeFig.update_traces(texttemplate='%{value:.2s}', textposition='outside')\n",
    "duration_consume_completeFig.update_yaxes(showgrid=False) # the y-axis\n",
    "duration_consume_completeFig.update_layout(\n",
    "                        width=750, height =400,\n",
    "                        title=dict(x=0.5, xref='paper', font=dict(size=16)),\n",
    "                        font_family=\"PingFangSC-Light\",\n",
    "                        margin=dict(l=30, r=30, b=20, t=40),\n",
    "                        bargap=0.3, # gap between bars of adjacent location coordinates.\n",
    "                        bargroupgap=0, # gap between bars of the same location coordinate.\n",
    "                        hovermode=\"closest\")\n",
    "# duration_consume_completeFig.show()\n",
    "\n",
    "#播放完成度\n",
    "duration_consume_playratioFig = px.bar(duration_consumeDfTidy.query(\"variable in ['大盘播放完成度', '年轻人播放完成度']\"), \n",
    "                        title='视频时长_播放完成度对比',\n",
    "                        x='视频时长', y='value', color='variable', facet_col='统计方式',  \n",
    "                        barmode='group', template='simple_white', color_discrete_sequence=px.colors.sequential.Blugrn)\n",
    "duration_consume_playratioFig.update_traces(texttemplate='%{value:.2s}', textposition='outside')\n",
    "duration_consume_playratioFig.update_yaxes(showgrid=False) # the y-axis\n",
    "duration_consume_playratioFig.update_layout(\n",
    "                        width=750, height =400,\n",
    "                        title=dict(x=0.5, xref='paper', font=dict(size=16)),\n",
    "                        font_family=\"PingFangSC-Light\",\n",
    "                        margin=dict(l=30, r=30, b=20, t=40),\n",
    "                        bargap=0.3, # gap between bars of adjacent location coordinates.\n",
    "                        bargroupgap=0, # gap between bars of the same location coordinate.\n",
    "                        hovermode=\"closest\")\n",
    "# duration_consume_playratioFig.show()\n",
    "\n",
    "#互动率\n",
    "duration_consume_interactFig = px.bar(duration_consumeDfTidy.query(\"variable in ['大盘互动率', '年轻人互动率']\"), \n",
    "                        title='视频时长_互动率对比',\n",
    "                        x='视频时长', y='value', color='variable', facet_col='统计方式',  \n",
    "                        barmode='group', template='simple_white', color_discrete_sequence=px.colors.sequential.Blugrn)\n",
    "duration_consume_interactFig.update_traces(texttemplate='%{value:.2s}', textposition='outside')\n",
    "duration_consume_interactFig.update_yaxes(showgrid=False) # the y-axis\n",
    "duration_consume_interactFig.update_layout(\n",
    "                        width=750, height =400,\n",
    "                        title=dict(x=0.5, xref='paper', font=dict(size=16)),\n",
    "                        font_family=\"PingFangSC-Light\",\n",
    "                        margin=dict(l=30, r=30, b=20, t=40),\n",
    "                        bargap=0.3, # gap between bars of adjacent location coordinates.\n",
    "                        bargroupgap=0, # gap between bars of the same location coordinate.\n",
    "                        hovermode=\"closest\")\n",
    "# duration_consume_interactFig.show()\n",
    "\n",
    "#3s快滑率\n",
    "duration_consume_3sslipFig = px.bar(duration_consumeDfTidy.query(\"variable in ['大盘3s快滑率', '年轻人3s快滑率']\"), \n",
    "                        title='视频时长_3s快滑率对比',\n",
    "                        x='视频时长', y='value', color='variable', facet_col='统计方式',  \n",
    "                        barmode='group', template='simple_white', color_discrete_sequence=px.colors.sequential.Blugrn)\n",
    "duration_consume_3sslipFig.update_traces(texttemplate='%{value:.2s}', textposition='outside')\n",
    "duration_consume_3sslipFig.update_yaxes(showgrid=False) # the y-axis\n",
    "duration_consume_3sslipFig.update_layout(\n",
    "                        width=750, height =400,\n",
    "                        title=dict(x=0.5, xref='paper', font=dict(size=16)),\n",
    "                        font_family=\"PingFangSC-Light\",\n",
    "                        margin=dict(l=30, r=30, b=20, t=40),\n",
    "                        bargap=0.3, # gap between bars of adjacent location coordinates.\n",
    "                        bargroupgap=0, # gap between bars of the same location coordinate.\n",
    "                        hovermode=\"closest\")\n",
    "# duration_consume_3sslipFig.show()\n",
    "\n",
    "#5s快滑率\n",
    "duration_consume_5sslipFig = px.bar(duration_consumeDfTidy.query(\"variable in ['大盘5s快滑率', '年轻人5s快滑率']\"), \n",
    "                        title='视频时长_5s快滑率对比',\n",
    "                        x='视频时长', y='value', color='variable', facet_col='统计方式',  \n",
    "                        barmode='group', template='simple_white', color_discrete_sequence=px.colors.sequential.Blugrn)\n",
    "duration_consume_5sslipFig.update_traces(texttemplate='%{value:.2s}', textposition='outside')\n",
    "duration_consume_5sslipFig.update_yaxes(showgrid=False) # the y-axis\n",
    "duration_consume_5sslipFig.update_layout(\n",
    "                        width=750, height =400,\n",
    "                        title=dict(x=0.5, xref='paper', font=dict(size=16)),\n",
    "                        font_family=\"PingFangSC-Light\",\n",
    "                        margin=dict(l=30, r=30, b=20, t=40),\n",
    "                        bargap=0.3, # gap between bars of adjacent location coordinates.\n",
    "                        bargroupgap=0, # gap between bars of the same location coordinate.\n",
    "                        hovermode=\"closest\")\n",
    "duration_consume_5sslipFig.show()"
   ]
  },
  {
   "cell_type": "code",
   "execution_count": null,
   "metadata": {},
   "outputs": [],
   "source": []
  }
 ]
}